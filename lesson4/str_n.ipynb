{
 "cells": [
  {
   "cell_type": "code",
   "execution_count": 1,
   "metadata": {},
   "outputs": [],
   "source": [
    "#Написать функцию, которая на вход принимает два аргумента: строку (s) и целочисленное значение (n). \n",
    "\n",
    "#ЕСЛИ длина строки s превышает число n, ТО функция возвращает строку \n",
    "#s в верхнем регистре, ИНАЧЕ возвращается исходная строка s. "
   ]
  },
  {
   "cell_type": "code",
   "execution_count": 4,
   "metadata": {},
   "outputs": [
    {
     "name": "stdin",
     "output_type": "stream",
     "text": [
      " wsdv\n",
      " 2\n"
     ]
    },
    {
     "name": "stdout",
     "output_type": "stream",
     "text": [
      "WSDV\n"
     ]
    }
   ],
   "source": [
    "def f(x, y):\n",
    "    if len(x) > y:\n",
    "        return x.upper()\n",
    "    else:\n",
    "        return x\n",
    "    \n",
    "    \n",
    "print(f(str(input()), int(input())))"
   ]
  },
  {
   "cell_type": "code",
   "execution_count": null,
   "metadata": {},
   "outputs": [],
   "source": []
  }
 ],
 "metadata": {
  "kernelspec": {
   "display_name": "Python 3",
   "language": "python",
   "name": "python3"
  },
  "language_info": {
   "codemirror_mode": {
    "name": "ipython",
    "version": 3
   },
   "file_extension": ".py",
   "mimetype": "text/x-python",
   "name": "python",
   "nbconvert_exporter": "python",
   "pygments_lexer": "ipython3",
   "version": "3.7.4"
  }
 },
 "nbformat": 4,
 "nbformat_minor": 4
}
