{
 "cells": [
  {
   "cell_type": "code",
   "execution_count": 20,
   "metadata": {},
   "outputs": [
    {
     "name": "stdin",
     "output_type": "stream",
     "text": [
      "Попробуй угадать букву: ле?о т\n"
     ]
    },
    {
     "name": "stdout",
     "output_type": "stream",
     "text": [
      "Победа!\n"
     ]
    }
   ],
   "source": [
    "#Задан список слов. Необходимо выбрать из него случайное. Из выбранного случайного слова случайно выбрать букву и попросить пользователя ее угадать.\n",
    "\n",
    "#Задан список слов: [‘самовар’, ‘весна’, ‘лето’]\n",
    "#Выбираем случайное слово: ‘весна’\n",
    "#Выбираем случайную букву: ‘с’\n",
    "#Выводим на экран: ве?на\n",
    "#Пользователь пытается угадать букву.\n",
    "\n",
    "import random\n",
    "\n",
    "list1 = [\"самовар\",\"весна\", \"лето\"]\n",
    "word1 = random.choice(list1)\n",
    "letter = random.choice(word1)\n",
    "word1 = word1[:word1.index(letter)] + \"?\" + word1[word1.index(letter)+ 1:]\n",
    "trying = str(input(\"Попробуй угадать букву: \" + word1))\n",
    "if letter == trying:\n",
    "    print(\"Победа!\")\n",
    "else:\n",
    "    print(\"!Победа\")"
   ]
  },
  {
   "cell_type": "code",
   "execution_count": null,
   "metadata": {},
   "outputs": [],
   "source": []
  }
 ],
 "metadata": {
  "kernelspec": {
   "display_name": "Python 3",
   "language": "python",
   "name": "python3"
  },
  "language_info": {
   "codemirror_mode": {
    "name": "ipython",
    "version": 3
   },
   "file_extension": ".py",
   "mimetype": "text/x-python",
   "name": "python",
   "nbconvert_exporter": "python",
   "pygments_lexer": "ipython3",
   "version": "3.7.4"
  }
 },
 "nbformat": 4,
 "nbformat_minor": 4
}
