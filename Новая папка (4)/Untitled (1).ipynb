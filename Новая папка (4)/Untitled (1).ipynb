{
 "cells": [
  {
   "cell_type": "code",
   "execution_count": 1,
   "metadata": {},
   "outputs": [
    {
     "data": {
      "text/html": [
       "<div>\n",
       "<style scoped>\n",
       "    .dataframe tbody tr th:only-of-type {\n",
       "        vertical-align: middle;\n",
       "    }\n",
       "\n",
       "    .dataframe tbody tr th {\n",
       "        vertical-align: top;\n",
       "    }\n",
       "\n",
       "    .dataframe thead th {\n",
       "        text-align: right;\n",
       "    }\n",
       "</style>\n",
       "<table border=\"1\" class=\"dataframe\">\n",
       "  <thead>\n",
       "    <tr style=\"text-align: right;\">\n",
       "      <th></th>\n",
       "      <th>stud_kod</th>\n",
       "      <th>predmet_name</th>\n",
       "      <th>ball</th>\n",
       "      <th>year</th>\n",
       "      <th>svid_status</th>\n",
       "    </tr>\n",
       "  </thead>\n",
       "  <tbody>\n",
       "    <tr>\n",
       "      <td>0</td>\n",
       "      <td>50095</td>\n",
       "      <td>Русский язык</td>\n",
       "      <td>76</td>\n",
       "      <td>2013</td>\n",
       "      <td>Действительно</td>\n",
       "    </tr>\n",
       "    <tr>\n",
       "      <td>1</td>\n",
       "      <td>50095</td>\n",
       "      <td>Английский язык</td>\n",
       "      <td>94</td>\n",
       "      <td>2013</td>\n",
       "      <td>Действительно</td>\n",
       "    </tr>\n",
       "    <tr>\n",
       "      <td>2</td>\n",
       "      <td>50095</td>\n",
       "      <td>Математика</td>\n",
       "      <td>56</td>\n",
       "      <td>2013</td>\n",
       "      <td>Действительно</td>\n",
       "    </tr>\n",
       "    <tr>\n",
       "      <td>3</td>\n",
       "      <td>50095</td>\n",
       "      <td>Обществознание</td>\n",
       "      <td>70</td>\n",
       "      <td>2013</td>\n",
       "      <td>Действительно</td>\n",
       "    </tr>\n",
       "    <tr>\n",
       "      <td>4</td>\n",
       "      <td>50104</td>\n",
       "      <td>Русский язык</td>\n",
       "      <td>72</td>\n",
       "      <td>2013</td>\n",
       "      <td>Действительно</td>\n",
       "    </tr>\n",
       "  </tbody>\n",
       "</table>\n",
       "</div>"
      ],
      "text/plain": [
       "   stud_kod     predmet_name  ball  year    svid_status\n",
       "0     50095     Русский язык    76  2013  Действительно\n",
       "1     50095  Английский язык    94  2013  Действительно\n",
       "2     50095       Математика    56  2013  Действительно\n",
       "3     50095   Обществознание    70  2013  Действительно\n",
       "4     50104     Русский язык    72  2013  Действительно"
      ]
     },
     "execution_count": 1,
     "metadata": {},
     "output_type": "execute_result"
    }
   ],
   "source": [
    "import pandas as pd\n",
    "import numpy\n",
    "\n",
    "url = \"https://raw.githubusercontent.com/dm-fedorov/pandas_basic/master/data/data_stud/stud_spisok_ege.csv\"\n",
    "\n",
    "df = pd.read_csv(url, sep=';')\n",
    "df.head()"
   ]
  },
  {
   "cell_type": "code",
   "execution_count": 68,
   "metadata": {},
   "outputs": [
    {
     "data": {
      "text/html": [
       "<div>\n",
       "<style scoped>\n",
       "    .dataframe tbody tr th:only-of-type {\n",
       "        vertical-align: middle;\n",
       "    }\n",
       "\n",
       "    .dataframe tbody tr th {\n",
       "        vertical-align: top;\n",
       "    }\n",
       "\n",
       "    .dataframe thead th {\n",
       "        text-align: right;\n",
       "    }\n",
       "</style>\n",
       "<table border=\"1\" class=\"dataframe\">\n",
       "  <thead>\n",
       "    <tr style=\"text-align: right;\">\n",
       "      <th></th>\n",
       "      <th>stud_kod</th>\n",
       "      <th>uch_plan_kod</th>\n",
       "      <th>predmet_name</th>\n",
       "      <th>ball</th>\n",
       "      <th>ts</th>\n",
       "      <th>cd_nomer</th>\n",
       "      <th>semestr</th>\n",
       "      <th>cd_type_name</th>\n",
       "      <th>uch_plan_punkt_kod</th>\n",
       "    </tr>\n",
       "  </thead>\n",
       "  <tbody>\n",
       "    <tr>\n",
       "      <td>0</td>\n",
       "      <td>8</td>\n",
       "      <td>1</td>\n",
       "      <td>История</td>\n",
       "      <td>25.0</td>\n",
       "      <td>25-дек-11</td>\n",
       "      <td>1</td>\n",
       "      <td>1</td>\n",
       "      <td>Эссе</td>\n",
       "      <td>255</td>\n",
       "    </tr>\n",
       "    <tr>\n",
       "      <td>1</td>\n",
       "      <td>8</td>\n",
       "      <td>1</td>\n",
       "      <td>История</td>\n",
       "      <td>30.0</td>\n",
       "      <td>25-дек-11</td>\n",
       "      <td>2</td>\n",
       "      <td>1</td>\n",
       "      <td>Презентация</td>\n",
       "      <td>255</td>\n",
       "    </tr>\n",
       "    <tr>\n",
       "      <td>3</td>\n",
       "      <td>8</td>\n",
       "      <td>1</td>\n",
       "      <td>Философия</td>\n",
       "      <td>15.0</td>\n",
       "      <td>30-апр-15</td>\n",
       "      <td>2</td>\n",
       "      <td>1</td>\n",
       "      <td>Реферат</td>\n",
       "      <td>293</td>\n",
       "    </tr>\n",
       "    <tr>\n",
       "      <td>4</td>\n",
       "      <td>8</td>\n",
       "      <td>1</td>\n",
       "      <td>Философия</td>\n",
       "      <td>18.0</td>\n",
       "      <td>30-апр-15</td>\n",
       "      <td>1</td>\n",
       "      <td>1</td>\n",
       "      <td>Аналитическая работа</td>\n",
       "      <td>293</td>\n",
       "    </tr>\n",
       "    <tr>\n",
       "      <td>5</td>\n",
       "      <td>8</td>\n",
       "      <td>1</td>\n",
       "      <td>Философия</td>\n",
       "      <td>21.6</td>\n",
       "      <td>30-апр-15</td>\n",
       "      <td>3</td>\n",
       "      <td>1</td>\n",
       "      <td>Контрольная работа</td>\n",
       "      <td>293</td>\n",
       "    </tr>\n",
       "    <tr>\n",
       "      <td>...</td>\n",
       "      <td>...</td>\n",
       "      <td>...</td>\n",
       "      <td>...</td>\n",
       "      <td>...</td>\n",
       "      <td>...</td>\n",
       "      <td>...</td>\n",
       "      <td>...</td>\n",
       "      <td>...</td>\n",
       "      <td>...</td>\n",
       "    </tr>\n",
       "    <tr>\n",
       "      <td>65529</td>\n",
       "      <td>2682</td>\n",
       "      <td>1</td>\n",
       "      <td>Бухгалтерский учет</td>\n",
       "      <td>16.0</td>\n",
       "      <td>14-февр-13</td>\n",
       "      <td>3</td>\n",
       "      <td>3</td>\n",
       "      <td>Контрольная работа</td>\n",
       "      <td>958</td>\n",
       "    </tr>\n",
       "    <tr>\n",
       "      <td>65530</td>\n",
       "      <td>2682</td>\n",
       "      <td>1</td>\n",
       "      <td>Бухгалтерский учет</td>\n",
       "      <td>22.0</td>\n",
       "      <td>14-февр-13</td>\n",
       "      <td>4</td>\n",
       "      <td>3</td>\n",
       "      <td>Экзамен</td>\n",
       "      <td>958</td>\n",
       "    </tr>\n",
       "    <tr>\n",
       "      <td>65531</td>\n",
       "      <td>2682</td>\n",
       "      <td>1</td>\n",
       "      <td>Менеджмент</td>\n",
       "      <td>7.0</td>\n",
       "      <td>31-окт-12</td>\n",
       "      <td>1</td>\n",
       "      <td>3</td>\n",
       "      <td>Эссе</td>\n",
       "      <td>959</td>\n",
       "    </tr>\n",
       "    <tr>\n",
       "      <td>65532</td>\n",
       "      <td>2682</td>\n",
       "      <td>1</td>\n",
       "      <td>Менеджмент</td>\n",
       "      <td>12.0</td>\n",
       "      <td>20-нояб-12</td>\n",
       "      <td>2</td>\n",
       "      <td>3</td>\n",
       "      <td>Тест</td>\n",
       "      <td>959</td>\n",
       "    </tr>\n",
       "    <tr>\n",
       "      <td>65533</td>\n",
       "      <td>2682</td>\n",
       "      <td>1</td>\n",
       "      <td>Менеджмент</td>\n",
       "      <td>9.0</td>\n",
       "      <td>27-дек-12</td>\n",
       "      <td>3</td>\n",
       "      <td>3</td>\n",
       "      <td>Контрольная работа</td>\n",
       "      <td>959</td>\n",
       "    </tr>\n",
       "  </tbody>\n",
       "</table>\n",
       "<p>63089 rows × 9 columns</p>\n",
       "</div>"
      ],
      "text/plain": [
       "       stud_kod  uch_plan_kod        predmet_name  ball          ts  cd_nomer  \\\n",
       "0             8             1             История  25.0   25-дек-11         1   \n",
       "1             8             1             История  30.0   25-дек-11         2   \n",
       "3             8             1           Философия  15.0   30-апр-15         2   \n",
       "4             8             1           Философия  18.0   30-апр-15         1   \n",
       "5             8             1           Философия  21.6   30-апр-15         3   \n",
       "...         ...           ...                 ...   ...         ...       ...   \n",
       "65529      2682             1  Бухгалтерский учет  16.0  14-февр-13         3   \n",
       "65530      2682             1  Бухгалтерский учет  22.0  14-февр-13         4   \n",
       "65531      2682             1          Менеджмент   7.0   31-окт-12         1   \n",
       "65532      2682             1          Менеджмент  12.0  20-нояб-12         2   \n",
       "65533      2682             1          Менеджмент   9.0   27-дек-12         3   \n",
       "\n",
       "       semestr          cd_type_name  uch_plan_punkt_kod  \n",
       "0            1                  Эссе                 255  \n",
       "1            1           Презентация                 255  \n",
       "3            1               Реферат                 293  \n",
       "4            1  Аналитическая работа                 293  \n",
       "5            1    Контрольная работа                 293  \n",
       "...        ...                   ...                 ...  \n",
       "65529        3    Контрольная работа                 958  \n",
       "65530        3               Экзамен                 958  \n",
       "65531        3                  Эссе                 959  \n",
       "65532        3                  Тест                 959  \n",
       "65533        3    Контрольная работа                 959  \n",
       "\n",
       "[63089 rows x 9 columns]"
      ]
     },
     "execution_count": 68,
     "metadata": {},
     "output_type": "execute_result"
    }
   ],
   "source": [
    "import pandas as pd\n",
    "import numpy as np\n",
    "\n",
    "url = \"https://raw.githubusercontent.com/dm-fedorov/pandas_basic/master/data/data_stud/stud_spisok_ball.csv\"\n",
    "\n",
    "df1 = pd.read_csv(url, sep=';')\n",
    "listt = []\n",
    "for i in df1['ball']:\n",
    "     listt.append(float(str(i).replace(\",\",\".\")))\n",
    "df1['ball'] = listt\n",
    "df1.head()\n",
    "\n",
    "df1 = df1[df1['ball'].notna()]\n",
    "df1 = df1[df1['stud_kod'].notna()]\n",
    "df1 = df1[df1['uch_plan_kod'].notna()]\n",
    "df1 = df1[df1['predmet_name'].notna()]\n",
    "df1 = df1[df1['ts'].notna()]\n",
    "df1 = df1[df1['cd_nomer'].notna()]\n",
    "df1 = df1[df1['semestr'].notna()]\n",
    "df1 = df1[df1['cd_type_name'].notna()]\n",
    "df1 = df1[df1['uch_plan_punkt_kod'].notna()]\n",
    "\n",
    "df1"
   ]
  },
  {
   "cell_type": "code",
   "execution_count": 19,
   "metadata": {},
   "outputs": [],
   "source": [
    "#Задание 1"
   ]
  },
  {
   "cell_type": "code",
   "execution_count": 3,
   "metadata": {},
   "outputs": [
    {
     "data": {
      "text/plain": [
       "3286"
      ]
     },
     "execution_count": 3,
     "metadata": {},
     "output_type": "execute_result"
    }
   ],
   "source": [
    "df1['stud_kod'].unique().size + df['stud_kod'].unique().size"
   ]
  },
  {
   "cell_type": "code",
   "execution_count": 20,
   "metadata": {},
   "outputs": [],
   "source": [
    "#Задание 2"
   ]
  },
  {
   "cell_type": "code",
   "execution_count": 4,
   "metadata": {},
   "outputs": [
    {
     "data": {
      "text/plain": [
       "predmet_name\n",
       "Математика        3049\n",
       "Русский язык      3045\n",
       "Обществознание    3033\n",
       "Сочинение         1303\n",
       "Name: predmet_name, dtype: int64"
      ]
     },
     "execution_count": 4,
     "metadata": {},
     "output_type": "execute_result"
    }
   ],
   "source": [
    "df.groupby('predmet_name')['predmet_name'].count().sort_values()[::-1][:4]"
   ]
  },
  {
   "cell_type": "code",
   "execution_count": 128,
   "metadata": {},
   "outputs": [],
   "source": [
    "#Задание 3"
   ]
  },
  {
   "cell_type": "code",
   "execution_count": 5,
   "metadata": {},
   "outputs": [
    {
     "name": "stdin",
     "output_type": "stream",
     "text": [
      " Математика\n"
     ]
    },
    {
     "name": "stdout",
     "output_type": "stream",
     "text": [
      "64.13545424729419 0 100\n"
     ]
    }
   ],
   "source": [
    "dist = input()\n",
    "ans = []\n",
    "balls = df[df['predmet_name'] == dist]['ball']\n",
    "ans.append(balls.mean())\n",
    "ans.append(balls.min())\n",
    "ans.append(balls.max())\n",
    "print(*ans)"
   ]
  },
  {
   "cell_type": "code",
   "execution_count": 70,
   "metadata": {},
   "outputs": [],
   "source": [
    "#Задание 4"
   ]
  },
  {
   "cell_type": "code",
   "execution_count": 6,
   "metadata": {},
   "outputs": [
    {
     "name": "stdout",
     "output_type": "stream",
     "text": [
      "2009 2013\n"
     ]
    }
   ],
   "source": [
    "df_year = df[[\"predmet_name\", \"ball\", \"year\"]]\n",
    "last_stat = df_year.groupby(\"year\")[\"ball\"].sum() / df_year.groupby(\"year\")[\"year\"].count()\n",
    "ans = last_stat.sort_values()\n",
    "print(ans.index[0],ans.index[-1])"
   ]
  },
  {
   "cell_type": "code",
   "execution_count": 155,
   "metadata": {},
   "outputs": [],
   "source": [
    "#Задание 5"
   ]
  },
  {
   "cell_type": "code",
   "execution_count": 7,
   "metadata": {},
   "outputs": [
    {
     "data": {
      "text/plain": [
       "'Контрольная работа'"
      ]
     },
     "execution_count": 7,
     "metadata": {},
     "output_type": "execute_result"
    }
   ],
   "source": [
    "df1.groupby(\"cd_type_name\")['cd_type_name'].count().sort_values()[::-1].index[0]"
   ]
  },
  {
   "cell_type": "code",
   "execution_count": 170,
   "metadata": {},
   "outputs": [],
   "source": [
    "#Задание 6"
   ]
  },
  {
   "cell_type": "code",
   "execution_count": 9,
   "metadata": {},
   "outputs": [
    {
     "data": {
      "text/html": [
       "<div>\n",
       "<style scoped>\n",
       "    .dataframe tbody tr th:only-of-type {\n",
       "        vertical-align: middle;\n",
       "    }\n",
       "\n",
       "    .dataframe tbody tr th {\n",
       "        vertical-align: top;\n",
       "    }\n",
       "\n",
       "    .dataframe thead th {\n",
       "        text-align: right;\n",
       "    }\n",
       "</style>\n",
       "<table border=\"1\" class=\"dataframe\">\n",
       "  <thead>\n",
       "    <tr style=\"text-align: right;\">\n",
       "      <th></th>\n",
       "      <th>0</th>\n",
       "    </tr>\n",
       "  </thead>\n",
       "  <tbody>\n",
       "    <tr>\n",
       "      <td>12</td>\n",
       "      <td>Финансовая статистика</td>\n",
       "    </tr>\n",
       "    <tr>\n",
       "      <td>14</td>\n",
       "      <td>Демография и статистика населения</td>\n",
       "    </tr>\n",
       "  </tbody>\n",
       "</table>\n",
       "</div>"
      ],
      "text/plain": [
       "                                    0\n",
       "12              Финансовая статистика\n",
       "14  Демография и статистика населения"
      ]
     },
     "execution_count": 9,
     "metadata": {},
     "output_type": "execute_result"
    }
   ],
   "source": [
    "df1_stat = df1[[\"predmet_name\",\"cd_type_name\", \"ball\"]]\n",
    "def proc(predmet):\n",
    "    ans1 = df1_stat[df1_stat['predmet_name'] == predmet].groupby('cd_type_name')['ball'].max()\n",
    "    ans2 = df1_stat[df1_stat['predmet_name'] == predmet].groupby('cd_type_name')['ball'].sum() / df1_stat[df1_stat['predmet_name'] == predmet].groupby('cd_type_name')['ball'].count()\n",
    "    ans3 = ans2 / ans1\n",
    "    return ans3.sum() / ans3.count()\n",
    "ans = []\n",
    "for i in numpy.delete(df1['predmet_name'].unique()[::-2][2::], 2, axis=None):\n",
    "    ans.append([i, proc(i)])\n",
    "df2 = pd.DataFrame(ans)\n",
    "df2[df2[1] < 0.55][[0]]"
   ]
  },
  {
   "cell_type": "code",
   "execution_count": 178,
   "metadata": {},
   "outputs": [],
   "source": [
    "#Задание 7"
   ]
  },
  {
   "cell_type": "code",
   "execution_count": 10,
   "metadata": {},
   "outputs": [],
   "source": [
    "df1_h_stat = df1[[\"stud_kod\", \"predmet_name\",\"cd_type_name\", \"ball\"]]\n",
    "\n",
    "def funct(predmet, stud):\n",
    "    df1_h = df1_h_stat[df1_h_stat['stud_kod'] == stud][[\"predmet_name\",\"cd_type_name\", \"ball\"]]\n",
    "    pupil = dict(df1_h[df1_h['predmet_name'] == predmet].groupby('cd_type_name')['ball'].sum())\n",
    "    maxx = dict(df1_stat[df1_stat['predmet_name'] == predmet].groupby('cd_type_name')['ball'].max())\n",
    "    ans = []\n",
    "    for i in list(pupil.keys()):\n",
    "        ans.append(pupil.get(i) / maxx.get(i))\n",
    "    if len(ans) != 0:\n",
    "        return sum(ans)/ len(ans)\n",
    "    else:\n",
    "        return 0\n",
    "\n"
   ]
  },
  {
   "cell_type": "code",
   "execution_count": 11,
   "metadata": {},
   "outputs": [
    {
     "name": "stderr",
     "output_type": "stream",
     "text": [
      "C:\\Users\\ivanl\\Anaconda3\\lib\\site-packages\\ipykernel_launcher.py:9: RuntimeWarning: invalid value encountered in double_scalars\n",
      "  if __name__ == '__main__':\n"
     ]
    },
    {
     "data": {
      "text/plain": [
       "[[8, 1.1327445967135432],\n",
       " [9, 1.040452604954724],\n",
       " [21, 0.938300138327748],\n",
       " [55, 0.8369706275141616],\n",
       " [70, 0.9265939603606591],\n",
       " [73, 1.0678005161940176],\n",
       " [87, 1.0693057001510862],\n",
       " [88, 1.2896762847308934],\n",
       " [93, 1.0626963028530378],\n",
       " [94, 1.1751575530347769],\n",
       " [100, 1.130902368151708],\n",
       " [103, 1.062254730915167],\n",
       " [104, 0.9539965413493439],\n",
       " [119, 1.2258304471418202],\n",
       " [140, 0.9063437816347659],\n",
       " [142, 1.1812511968715638],\n",
       " [144, 1.0619750881927514],\n",
       " [154, 0.9910855476493756],\n",
       " [164, 1.1808884637810708],\n",
       " [165, 1.1394810869891898],\n",
       " [175, 1.0006935649025703],\n",
       " [179, 0.989354172082415],\n",
       " [185, 1.0399529217081345],\n",
       " [198, 0.9742499046834006],\n",
       " [201, 1.302324128760001],\n",
       " [218, 0.7929274783729049],\n",
       " [220, 1.0174614557549004],\n",
       " [224, 1.13783357932776],\n",
       " [227, 1.0389816249076584],\n",
       " [229, 1.1071040426068983],\n",
       " [231, 1.1675005804040328],\n",
       " [241, 1.0082457349748317],\n",
       " [253, 0.95763684160534],\n",
       " [261, 0.8554996892560239],\n",
       " [262, 1.1766014164202077],\n",
       " [263, 1.2200920537340103],\n",
       " [265, 1.1298701617554168],\n",
       " [266, 1.1135555357166698],\n",
       " [282, 0.8933690347917623],\n",
       " [284, 1.1584567183707632],\n",
       " [285, 0.8717335646690355],\n",
       " [301, 1.0014738857551566],\n",
       " [308, 1.0464791120196675],\n",
       " [322, 1.1607240111258763],\n",
       " [324, 1.3095184881433592],\n",
       " [326, 1.2482999358866465],\n",
       " [334, 1.0020483036007997],\n",
       " [342, nan],\n",
       " [354, 1.1084041914778966],\n",
       " [361, 1.1612660298220516],\n",
       " [363, 0.9299225536244323],\n",
       " [373, 1.0748443774604326],\n",
       " [374, 0.8873050056806762],\n",
       " [377, 1.1605869770673451],\n",
       " [380, 1.0783207893691173],\n",
       " [381, 1.0394004163527821],\n",
       " [382, 0.9291192729050332],\n",
       " [410, 0.9365121174536196],\n",
       " [412, 1.1340427202287655],\n",
       " [414, 1.2235770969817061],\n",
       " [415, nan],\n",
       " [416, 0.8375563257798474],\n",
       " [422, 1.0443270132503697],\n",
       " [423, 1.232552007109036],\n",
       " [427, 0.7890725625344275],\n",
       " [435, 1.0227137244734958],\n",
       " [440, 1.0796617545178762],\n",
       " [445, 1.1405606671875368],\n",
       " [446, 1.0360658851377322],\n",
       " [447, 1.2144933122988568],\n",
       " [455, 1.1699262545817486],\n",
       " [456, 1.1725857589055548],\n",
       " [457, 1.069776572090746],\n",
       " [462, 1.0985152773178963],\n",
       " [502, 0.9114560165963602],\n",
       " [504, 1.1649628627811697],\n",
       " [512, 1.1167335411116124],\n",
       " [513, 1.0831791553907884],\n",
       " [518, 1.2151799186359669],\n",
       " [548, 1.0867593489562],\n",
       " [558, 1.1498466905318399],\n",
       " [575, 1.0568593457808346],\n",
       " [592, 0.906163910023852],\n",
       " [594, 1.2521118819299317],\n",
       " [599, 1.1097878362254026],\n",
       " [600, 1.085760997840507],\n",
       " [612, 0.9806866725000908],\n",
       " [621, 0.9672908999224723],\n",
       " [630, 0.8895151750902593],\n",
       " [631, 0.8371293331991004],\n",
       " [644, 0.9063288753908839],\n",
       " [659, 1.0790236178205843],\n",
       " [660, 0.8250288142305607],\n",
       " [663, 1.1496160062963723],\n",
       " [668, 0.8976770185156662],\n",
       " [693, 1.0820002339156718],\n",
       " [703, 0.8076358834375501],\n",
       " [707, 0.981846557741231],\n",
       " [708, 1.164071344246595],\n",
       " [715, nan],\n",
       " [719, 1.1104426666578975],\n",
       " [727, 0.8448718318042416],\n",
       " [729, 0.9621194093424273],\n",
       " [763, 1.1119831127483113],\n",
       " [769, 0.8449302487551537],\n",
       " [776, 0.6118995932408976],\n",
       " [783, 0.9080531674355353],\n",
       " [809, 1.029127793395524],\n",
       " [812, 1.1821527055651406],\n",
       " [817, 1.0877650821321994],\n",
       " [820, 1.115031053213088],\n",
       " [841, 0.9883592742852296],\n",
       " [855, 1.0196271776115673],\n",
       " [865, 1.0918012316995303],\n",
       " [873, 1.066662911222038],\n",
       " [890, 0.953383652666352],\n",
       " [894, 1.0708346250891507],\n",
       " [908, 1.196647928199275],\n",
       " [915, 1.2039040231267708],\n",
       " [923, 0.8932972901608841],\n",
       " [939, 1.0853811588564035],\n",
       " [946, 1.1798828399740928],\n",
       " [953, 1.1693136838914333],\n",
       " [958, 1.0276073646400228],\n",
       " [964, 1.2532679497697703],\n",
       " [977, 1.0086783560382482],\n",
       " [984, 0.8828977300975686],\n",
       " [993, 1.181081294000563],\n",
       " [1009, 1.16679137767909],\n",
       " [1010, 1.0237323188430092],\n",
       " [1019, 1.2307021158710507],\n",
       " [1027, 1.2043341842644395],\n",
       " [1028, 1.1290538966256871],\n",
       " [1034, 1.2440217727249863],\n",
       " [1040, 1.1707298021695474],\n",
       " [1041, 0.845727644680796],\n",
       " [1042, 1.1337959207976542],\n",
       " [1045, 0.9416308533179513],\n",
       " [1054, 0.9991626195228279],\n",
       " [1080, 1.266623709105443],\n",
       " [1086, 1.0628250245145188],\n",
       " [1091, 1.0268185071500446],\n",
       " [1102, 0.9001770038438821],\n",
       " [1120, 0.9797165696878309],\n",
       " [1124, 1.0671780431219833],\n",
       " [1128, 1.1146223268791102],\n",
       " [1141, 1.097720691829632],\n",
       " [1143, 0.9939634463895894],\n",
       " [1144, 0.8270825373309075],\n",
       " [1148, 0.9546978991671741],\n",
       " [1160, 1.0122073928978788],\n",
       " [1165, 0.8954396588317086],\n",
       " [1175, 0.8721736778986431],\n",
       " [1182, 1.0576229906433057],\n",
       " [1205, 1.090424593865155],\n",
       " [1212, 1.1233144732290157],\n",
       " [1219, 1.0083220122635586],\n",
       " [1227, 0.8333754362562501],\n",
       " [1229, 0.8789467678733655],\n",
       " [1243, 1.090398978799953],\n",
       " [1246, 0.9497692502636008],\n",
       " [1252, 1.2757957561956017],\n",
       " [1268, 1.1676131092900097],\n",
       " [1281, 0.9857521135834458],\n",
       " [1285, 0.9362822076542898],\n",
       " [1304, 0.9310529203373487],\n",
       " [1305, 1.1303585685425686],\n",
       " [1309, 1.0820989459011237],\n",
       " [1314, 0.9404473135936811],\n",
       " [1335, nan],\n",
       " [1336, 0.9225103485474611],\n",
       " [1344, 0.9460631895895185],\n",
       " [1364, 1.2317471460465352],\n",
       " [1367, 1.1694448773149813],\n",
       " [1370, 1.1444468482892691],\n",
       " [1385, 0.8500660318335794],\n",
       " [1393, 0.905865264580729],\n",
       " [1394, 0.8153046429669283],\n",
       " [1402, 1.0448872538938037],\n",
       " [1412, 1.1688766503619115],\n",
       " [1414, 1.219503400947001],\n",
       " [1424, 1.045840206001141],\n",
       " [1426, 1.0691984834755601],\n",
       " [1430, 1.1921904604730205],\n",
       " [1443, 0.8897356499457592],\n",
       " [1450, 0.8362677555668464],\n",
       " [1516, 0.8742224817399172],\n",
       " [1517, 0.9469134303923036],\n",
       " [1519, 0.9242661712407537],\n",
       " [1535, 1.2011802094881592],\n",
       " [1544, 1.0996484881934638],\n",
       " [1570, 0.9832201998196751],\n",
       " [1579, 0.9619125771655409],\n",
       " [1587, nan],\n",
       " [1591, 1.0177684540922556],\n",
       " [1604, 0.9573210793665278],\n",
       " [1610, 0.7456872490164158],\n",
       " [1621, 0.8668074632151342],\n",
       " [1627, 0.8873250608733741],\n",
       " [1640, 1.0842545015701162],\n",
       " [1659, 1.1081675112483347],\n",
       " [1662, 0.7335210280150057],\n",
       " [1664, 0.8988259919543816],\n",
       " [1667, 0.8845482021739713],\n",
       " [1683, 0.8151875886195528],\n",
       " [1685, 1.0403137249908458],\n",
       " [1703, 1.050626667852918],\n",
       " [1704, 0.6793101928811929],\n",
       " [1710, 1.1785175740187468],\n",
       " [1711, 0.7973049393690863],\n",
       " [1713, 1.1657459323841868],\n",
       " [1717, 1.2271016348293842],\n",
       " [1732, 0.8893092116982796],\n",
       " [1758, 0.7155395725967154],\n",
       " [1763, 0.9983815133303579],\n",
       " [1764, 0.8560585807272229],\n",
       " [1779, 0.8187529327126184],\n",
       " [1797, 1.1113075502305503],\n",
       " [1813, 1.212318486667786],\n",
       " [1827, 1.0365028011015016],\n",
       " [1829, 0.9899141108162322],\n",
       " [1832, 1.0803336592539174],\n",
       " [1836, 0.9643007913769887],\n",
       " [1853, 1.1809398050763393],\n",
       " [1865, 0.9058296668363299],\n",
       " [1866, 0.8688943270296284],\n",
       " [1886, 0.8878249354413611],\n",
       " [1895, 0.9439388019872875],\n",
       " [1899, 1.1431155212669937],\n",
       " [1901, 1.0954621105877969],\n",
       " [1904, 0.9289337884092016],\n",
       " [1924, 1.1918919785923872],\n",
       " [1926, 1.0977806498944083],\n",
       " [1972, 1.215581716954023],\n",
       " [1977, 1.0585646677784024],\n",
       " [1989, 0.977297066153779],\n",
       " [1995, 1.2098031854551081],\n",
       " [2001, 1.178813398680439],\n",
       " [2005, 0.9073042251412037],\n",
       " [2039, 1.0088020735021648],\n",
       " [2052, 0.992477683839691],\n",
       " [2087, 1.0320203526872942],\n",
       " [2089, 0.8714739054501043],\n",
       " [2090, 1.1989748929204995],\n",
       " [2103, 1.058329049301858],\n",
       " [2114, 0.9091244197810361],\n",
       " [2137, 1.095651645605393],\n",
       " [2143, 1.0684683191576692],\n",
       " [2154, 1.0088553465303431],\n",
       " [2167, 1.2429435095083978],\n",
       " [2173, 0.8544510966603639],\n",
       " [2178, 0.8452627618678662],\n",
       " [2205, 1.0688659175205433],\n",
       " [2212, 0.8712894449135967],\n",
       " [2223, 1.1024426209463718],\n",
       " [2243, 1.053766859578987],\n",
       " [2246, 0.8153780356076578],\n",
       " [2261, 1.115102895405054],\n",
       " [2284, 1.197526350040389],\n",
       " [2318, 1.1764661117711042],\n",
       " [2332, 1.114914609650673],\n",
       " [2366, 1.1087199144141335],\n",
       " [2369, 1.1550772157301028],\n",
       " [2372, 1.0590199274336596],\n",
       " [2396, 0.9386893694457006],\n",
       " [2402, 1.2119554428728996],\n",
       " [2417, 0.9383850856874156],\n",
       " [2420, 1.015211011775182],\n",
       " [2452, 1.0626396130618352],\n",
       " [2456, 1.1233837110500187],\n",
       " [2464, 1.0389725221453174],\n",
       " [2470, 1.1501813729929073],\n",
       " [2477, 1.2293522166191884],\n",
       " [2486, 0.970842703886825],\n",
       " [2513, 1.0154259618852206],\n",
       " [2577, 0.9447820916513218],\n",
       " [2578, 1.0602362243042343],\n",
       " [2579, 1.130568615200532],\n",
       " [2611, 0.8433264117619692],\n",
       " [2624, 1.0267487022861477],\n",
       " [2633, 1.161913956826181],\n",
       " [2642, 1.2486203639032365],\n",
       " [2653, 0.743333850986976],\n",
       " [2663, 1.0454290557911623],\n",
       " [2682, 0.8534456597723263]]"
      ]
     },
     "execution_count": 11,
     "metadata": {},
     "output_type": "execute_result"
    }
   ],
   "source": [
    "ans_end = []\n",
    "for i in list(df1_h_stat['stud_kod'].unique()):\n",
    "    ans1 = []\n",
    "    for j in list(df1_h_stat[df1_h_stat['stud_kod'] == i]['predmet_name'].unique()):\n",
    "        ans1.append(funct(j, i))\n",
    "    if len(ans1) != 0:\n",
    "        ans_end.append([i, sum(ans1)/ len(ans1)])\n",
    "ans_end"
   ]
  },
  {
   "cell_type": "code",
   "execution_count": 15,
   "metadata": {},
   "outputs": [
    {
     "name": "stdout",
     "output_type": "stream",
     "text": [
      "218 427 776 1610 1662 1704 1711 1758 2653\n"
     ]
    }
   ],
   "source": [
    "pd_end = pd.DataFrame(ans_end)\n",
    "print(*list(pd_end[pd_end[1] < 0.8][0]))"
   ]
  },
  {
   "cell_type": "code",
   "execution_count": 291,
   "metadata": {},
   "outputs": [],
   "source": [
    "#Задание 8"
   ]
  },
  {
   "cell_type": "code",
   "execution_count": 51,
   "metadata": {},
   "outputs": [],
   "source": [
    "df1_h_stat = df1[[\"stud_kod\", \"predmet_name\",\"cd_type_name\", \"ball\", \"ts\", \"semestr\"]]\n",
    "df1_h_stat = df1_h_stat[df1_h_stat['ball'].notna()]\n",
    "df1_s = df1_h_stat[df1_h_stat['stud_kod'] == 8]\n",
    "listt = df1_s['semestr'].unique()"
   ]
  },
  {
   "cell_type": "code",
   "execution_count": 32,
   "metadata": {},
   "outputs": [],
   "source": [
    "def funct1(predmet, stud):\n",
    "    df1_h = df1_s1[df1_s1['stud_kod'] == stud][[\"predmet_name\",\"cd_type_name\", \"ball\"]]\n",
    "    pupil = dict(df1_s1[df1_s['predmet_name'] == predmet].groupby('cd_type_name')['ball'].sum())\n",
    "    maxx = dict(df1_stat[df1_stat['predmet_name'] == predmet].groupby('cd_type_name')['ball'].max())\n",
    "    ans = []\n",
    "    for i in list(pupil.keys()):\n",
    "        ans.append(pupil.get(i) / maxx.get(i))\n",
    "    if len(ans) != 0:\n",
    "        return sum(ans)/ len(ans)\n",
    "    else:\n",
    "        return 0"
   ]
  },
  {
   "cell_type": "code",
   "execution_count": 73,
   "metadata": {},
   "outputs": [],
   "source": [
    "def funct2(p, flag):\n",
    "    ans_end = []\n",
    "    for i in list(listt):\n",
    "        df1_s1 = df1_s[df1_s['semestr'] == i]\n",
    "        ans1 = []\n",
    "        for j in list(df1_s1[df1_s1['stud_kod'] == p]['predmet_name'].unique()):\n",
    "            ans1.append(funct1(j, p))\n",
    "        if len(ans1) != 0:\n",
    "            ans_end.append([i, sum(ans1) / len(ans1)])\n",
    "    answer = 1000000\n",
    "    sem = - 1\n",
    "    if flag == 0:\n",
    "        for i in ans_end:\n",
    "            if (i[1] < answer) and (i[1] != 0):\n",
    "                answer = i[1]\n",
    "                sem = i[0]\n",
    "        return sem\n",
    "    else:\n",
    "        return ans_end"
   ]
  },
  {
   "cell_type": "code",
   "execution_count": 80,
   "metadata": {},
   "outputs": [
    {
     "name": "stdin",
     "output_type": "stream",
     "text": [
      " 8\n",
      " \n"
     ]
    },
    {
     "name": "stderr",
     "output_type": "stream",
     "text": [
      "C:\\Users\\ivanl\\Anaconda3\\lib\\site-packages\\ipykernel_launcher.py:3: UserWarning: Boolean Series key will be reindexed to match DataFrame index.\n",
      "  This is separate from the ipykernel package so we can avoid doing imports until\n"
     ]
    },
    {
     "data": {
      "text/plain": [
       "[[8, 3]]"
      ]
     },
     "execution_count": 80,
     "metadata": {},
     "output_type": "execute_result"
    }
   ],
   "source": [
    "student = []\n",
    "a = input()\n",
    "while a != '':\n",
    "    student.append(a)\n",
    "    a = input()\n",
    "otvet = []\n",
    "listt = df1_s['semestr'].unique()\n",
    "for i in student:\n",
    "    otvet.append([int(i), funct2(int(i), 0)])\n",
    "otvet"
   ]
  },
  {
   "cell_type": "code",
   "execution_count": 57,
   "metadata": {},
   "outputs": [],
   "source": [
    "def funct3(p):\n",
    "    ans_end = []\n",
    "    datelist = list(df1['ts'])\n",
    "    for i in range(len(datelist)):\n",
    "        datelist[i] = datelist[i].split(\"-\")[-1]\n",
    "    listt = list(set(datelist))\n",
    "    for i in list(listt):\n",
    "        df1_s1 = df1_s[df1_s['ts'].split(\"-\")[-1] == i]\n",
    "        ans1 = []\n",
    "        for j in list(df1_s1[df1_s1['stud_kod'] == p]['predmet_name'].unique()):\n",
    "            ans1.append(funct1(j, p))\n",
    "        if len(ans1) != 0:\n",
    "            ans_end.append([i, sum(ans1) / len(ans1)])\n",
    "    answer = 1000000\n",
    "    sem = - 1\n",
    "    for i in ans_end:\n",
    "        if (i[1] < answer) and (i[1] != 0):\n",
    "            answer = i[1]\n",
    "            sem = i[0]\n",
    "    return sem"
   ]
  },
  {
   "cell_type": "code",
   "execution_count": 72,
   "metadata": {},
   "outputs": [
    {
     "name": "stdin",
     "output_type": "stream",
     "text": [
      " 8\n",
      " \n"
     ]
    }
   ],
   "source": [
    "student = []\n",
    "a = input()\n",
    "while a != '':\n",
    "    student.append(a)\n",
    "    a = input()\n",
    "otvet = []\n",
    "#for i in student:\n",
    "    #otvet.append([int(i), funct3(int(i))])\n"
   ]
  },
  {
   "cell_type": "code",
   "execution_count": 70,
   "metadata": {},
   "outputs": [],
   "source": [
    "#Задание 10"
   ]
  },
  {
   "cell_type": "code",
   "execution_count": 103,
   "metadata": {},
   "outputs": [
    {
     "name": "stdin",
     "output_type": "stream",
     "text": [
      " 8\n",
      " \n"
     ]
    },
    {
     "name": "stderr",
     "output_type": "stream",
     "text": [
      "C:\\Users\\ivanl\\Anaconda3\\lib\\site-packages\\ipykernel_launcher.py:3: UserWarning: Boolean Series key will be reindexed to match DataFrame index.\n",
      "  This is separate from the ipykernel package so we can avoid doing imports until\n"
     ]
    },
    {
     "data": {
      "image/png": "[encoded data removed]",
      "text/plain": [
       "<Figure size 432x288 with 1 Axes>"
      ]
     },
     "metadata": {
      "needs_background": "light"
     },
     "output_type": "display_data"
    }
   ],
   "source": [
    "import matplotlib.pyplot as plt\n",
    "\n",
    "student = []\n",
    "a = input()\n",
    "while a != '':\n",
    "    student.append(a)\n",
    "    a = input()\n",
    "otvet = []\n",
    "for i in student:\n",
    "    otvet.append([int(i), funct2(int(i), 1)])\n",
    "for j in range(len(otvet)):\n",
    "    otvet1 = []\n",
    "    otvet2 = []\n",
    "    for i in range(len(otvet[j][1])):\n",
    "        if otvet[j][1][i][1] != 0:\n",
    "            otvet1.append(otvet[j][1][i][0])\n",
    "            otvet2.append(otvet[j][1][i][1])\n",
    "\n",
    "\n",
    "    plt.plot(otvet1, otvet2)\n",
    "    plt.show()"
   ]
  },
  {
   "cell_type": "code",
   "execution_count": 104,
   "metadata": {},
   "outputs": [],
   "source": [
    "#Задание 9"
   ]
  },
  {
   "cell_type": "code",
   "execution_count": 132,
   "metadata": {},
   "outputs": [
    {
     "name": "stdin",
     "output_type": "stream",
     "text": [
      " 8\n",
      " 2682\n",
      " \n"
     ]
    },
    {
     "ename": "KeyError",
     "evalue": "1",
     "output_type": "error",
     "traceback": [
      "\u001b[1;31m---------------------------------------------------------------------------\u001b[0m",
      "\u001b[1;31mKeyError\u001b[0m                                  Traceback (most recent call last)",
      "\u001b[1;32m<ipython-input-132-d9afe6c193c2>\u001b[0m in \u001b[0;36m<module>\u001b[1;34m\u001b[0m\n\u001b[0;32m     14\u001b[0m         \u001b[0mleng\u001b[0m\u001b[1;33m=\u001b[0m \u001b[0mdf1_stud\u001b[0m\u001b[1;33m[\u001b[0m\u001b[0mdf1_stud\u001b[0m\u001b[1;33m[\u001b[0m\u001b[1;34m'predmet_name'\u001b[0m\u001b[1;33m]\u001b[0m \u001b[1;33m==\u001b[0m \u001b[0mi\u001b[0m\u001b[1;33m]\u001b[0m\u001b[1;33m[\u001b[0m\u001b[1;34m'ball'\u001b[0m\u001b[1;33m]\u001b[0m\u001b[1;33m.\u001b[0m\u001b[0mcount\u001b[0m\u001b[1;33m(\u001b[0m\u001b[1;33m)\u001b[0m\u001b[1;33m\u001b[0m\u001b[1;33m\u001b[0m\u001b[0m\n\u001b[0;32m     15\u001b[0m         \u001b[0mans\u001b[0m\u001b[1;33m.\u001b[0m\u001b[0mappend\u001b[0m\u001b[1;33m(\u001b[0m\u001b[1;33m[\u001b[0m\u001b[0mi\u001b[0m\u001b[1;33m,\u001b[0m \u001b[1;33m(\u001b[0m\u001b[0msumm\u001b[0m \u001b[1;33m/\u001b[0m \u001b[0mleng\u001b[0m\u001b[1;33m)\u001b[0m \u001b[1;33m/\u001b[0m \u001b[0mmaxx\u001b[0m\u001b[1;33m]\u001b[0m\u001b[1;33m)\u001b[0m\u001b[1;33m\u001b[0m\u001b[1;33m\u001b[0m\u001b[0m\n\u001b[1;32m---> 16\u001b[1;33m     \u001b[0mprint\u001b[0m\u001b[1;33m(\u001b[0m\u001b[0mpd\u001b[0m\u001b[1;33m.\u001b[0m\u001b[0mDataFrame\u001b[0m\u001b[1;33m(\u001b[0m\u001b[0mans\u001b[0m\u001b[1;33m)\u001b[0m\u001b[1;33m.\u001b[0m\u001b[0msort_values\u001b[0m\u001b[1;33m(\u001b[0m\u001b[0mby\u001b[0m\u001b[1;33m=\u001b[0m\u001b[1;33m[\u001b[0m\u001b[1;36m1\u001b[0m\u001b[1;33m]\u001b[0m\u001b[1;33m)\u001b[0m\u001b[1;33m[\u001b[0m\u001b[1;33m:\u001b[0m\u001b[1;33m:\u001b[0m\u001b[1;33m-\u001b[0m\u001b[1;36m1\u001b[0m\u001b[1;33m]\u001b[0m\u001b[1;33m[\u001b[0m\u001b[1;33m:\u001b[0m\u001b[1;36m10\u001b[0m\u001b[1;33m]\u001b[0m\u001b[1;33m)\u001b[0m\u001b[1;33m\u001b[0m\u001b[1;33m\u001b[0m\u001b[0m\n\u001b[0m",
      "\u001b[1;32m~\\Anaconda3\\lib\\site-packages\\pandas\\core\\frame.py\u001b[0m in \u001b[0;36msort_values\u001b[1;34m(self, by, axis, ascending, inplace, kind, na_position)\u001b[0m\n\u001b[0;32m   4991\u001b[0m \u001b[1;33m\u001b[0m\u001b[0m\n\u001b[0;32m   4992\u001b[0m             \u001b[0mby\u001b[0m \u001b[1;33m=\u001b[0m \u001b[0mby\u001b[0m\u001b[1;33m[\u001b[0m\u001b[1;36m0\u001b[0m\u001b[1;33m]\u001b[0m\u001b[1;33m\u001b[0m\u001b[1;33m\u001b[0m\u001b[0m\n\u001b[1;32m-> 4993\u001b[1;33m             \u001b[0mk\u001b[0m \u001b[1;33m=\u001b[0m \u001b[0mself\u001b[0m\u001b[1;33m.\u001b[0m\u001b[0m_get_label_or_level_values\u001b[0m\u001b[1;33m(\u001b[0m\u001b[0mby\u001b[0m\u001b[1;33m,\u001b[0m \u001b[0maxis\u001b[0m\u001b[1;33m=\u001b[0m\u001b[0maxis\u001b[0m\u001b[1;33m)\u001b[0m\u001b[1;33m\u001b[0m\u001b[1;33m\u001b[0m\u001b[0m\n\u001b[0m\u001b[0;32m   4994\u001b[0m \u001b[1;33m\u001b[0m\u001b[0m\n\u001b[0;32m   4995\u001b[0m             \u001b[1;32mif\u001b[0m \u001b[0misinstance\u001b[0m\u001b[1;33m(\u001b[0m\u001b[0mascending\u001b[0m\u001b[1;33m,\u001b[0m \u001b[1;33m(\u001b[0m\u001b[0mtuple\u001b[0m\u001b[1;33m,\u001b[0m \u001b[0mlist\u001b[0m\u001b[1;33m)\u001b[0m\u001b[1;33m)\u001b[0m\u001b[1;33m:\u001b[0m\u001b[1;33m\u001b[0m\u001b[1;33m\u001b[0m\u001b[0m\n",
      "\u001b[1;32m~\\Anaconda3\\lib\\site-packages\\pandas\\core\\generic.py\u001b[0m in \u001b[0;36m_get_label_or_level_values\u001b[1;34m(self, key, axis)\u001b[0m\n\u001b[0;32m   1772\u001b[0m             \u001b[0mvalues\u001b[0m \u001b[1;33m=\u001b[0m \u001b[0mself\u001b[0m\u001b[1;33m.\u001b[0m\u001b[0maxes\u001b[0m\u001b[1;33m[\u001b[0m\u001b[0maxis\u001b[0m\u001b[1;33m]\u001b[0m\u001b[1;33m.\u001b[0m\u001b[0mget_level_values\u001b[0m\u001b[1;33m(\u001b[0m\u001b[0mkey\u001b[0m\u001b[1;33m)\u001b[0m\u001b[1;33m.\u001b[0m\u001b[0m_values\u001b[0m\u001b[1;33m\u001b[0m\u001b[1;33m\u001b[0m\u001b[0m\n\u001b[0;32m   1773\u001b[0m         \u001b[1;32melse\u001b[0m\u001b[1;33m:\u001b[0m\u001b[1;33m\u001b[0m\u001b[1;33m\u001b[0m\u001b[0m\n\u001b[1;32m-> 1774\u001b[1;33m             \u001b[1;32mraise\u001b[0m \u001b[0mKeyError\u001b[0m\u001b[1;33m(\u001b[0m\u001b[0mkey\u001b[0m\u001b[1;33m)\u001b[0m\u001b[1;33m\u001b[0m\u001b[1;33m\u001b[0m\u001b[0m\n\u001b[0m\u001b[0;32m   1775\u001b[0m \u001b[1;33m\u001b[0m\u001b[0m\n\u001b[0;32m   1776\u001b[0m         \u001b[1;31m# Check for duplicates\u001b[0m\u001b[1;33m\u001b[0m\u001b[1;33m\u001b[0m\u001b[1;33m\u001b[0m\u001b[0m\n",
      "\u001b[1;31mKeyError\u001b[0m: 1"
     ]
    }
   ],
   "source": [
    "student = []\n",
    "a = input()\n",
    "while a != '':\n",
    "    student.append(a)\n",
    "    a = input()\n",
    "for stud in student:\n",
    "    df1_stud = df1[(df1['stud_kod'] == stud) & (df1['cd_type_name'] ==  \"Контрольная работа\")]\n",
    "    maxx = df1[(df1['stud_kod'] == stud) & (df1['predmet_name'] == 'Философия') & (df1['cd_type_name'] ==  \"Контрольная работа\")]['ball'].max()\n",
    "    mass = list(df1_stud['predmet_name'].unique())\n",
    "    ans = []\n",
    "    for i in mass:\n",
    "        maxx = df1[(df1['predmet_name'] == i) & (df1['cd_type_name'] ==  \"Контрольная работа\")]['ball'].max()\n",
    "        summ = df1_stud[df1_stud['predmet_name'] == i]['ball'].sum()\n",
    "        leng= df1_stud[df1_stud['predmet_name'] == i]['ball'].count()\n",
    "        ans.append([i, (summ / leng) / maxx])\n",
    "    print(pd.DataFrame(ans).sort_values(by=[1])[::-1][:10])"
   ]
  },
  {
   "cell_type": "code",
   "execution_count": 122,
   "metadata": {},
   "outputs": [
    {
     "data": {
      "text/plain": [
       "['Философия',\n",
       " 'Психология',\n",
       " 'Математический анализ',\n",
       " 'Линейная алгебра',\n",
       " 'Информатика',\n",
       " 'Экономическая теория',\n",
       " 'Право',\n",
       " 'Иностранный язык',\n",
       " 'Социология',\n",
       " 'Экономическая история',\n",
       " 'Бухгалтерский учет',\n",
       " 'Менеджмент',\n",
       " 'Безопасность жизнедеятельности',\n",
       " 'Иностранный язык (профессиональный)',\n",
       " 'Микроэкономика',\n",
       " 'Правовое обеспечение хозяйственной деятельности',\n",
       " 'Анализ хозяйственной деятельности',\n",
       " 'Статистика',\n",
       " 'Экономика фирмы',\n",
       " 'Институциональная экономика',\n",
       " 'Финансы',\n",
       " 'История экономических учений',\n",
       " 'Политология',\n",
       " 'Макроэкономика',\n",
       " 'Теория рисков',\n",
       " 'Налоги и налогообложение',\n",
       " 'Мировая экономика и международные экономические отношения',\n",
       " 'Социально-экономическая география',\n",
       " 'Экономика труда',\n",
       " 'Страхование',\n",
       " 'Банковское дело',\n",
       " 'Бюджетная система Российской Федерации',\n",
       " 'Корпоративные финансы',\n",
       " 'Оценка стоимости бизнеса',\n",
       " 'Банковский менеджмент',\n",
       " 'Бухгалтерский учет в кредитной организации']"
      ]
     },
     "execution_count": 122,
     "metadata": {},
     "output_type": "execute_result"
    }
   ],
   "source": [
    "mass"
   ]
  },
  {
   "cell_type": "code",
   "execution_count": null,
   "metadata": {},
   "outputs": [],
   "source": []
  }
 ],
 "metadata": {
  "kernelspec": {
   "display_name": "Python 3",
   "language": "python",
   "name": "python3"
  },
  "language_info": {
   "codemirror_mode": {
    "name": "ipython",
    "version": 3
   },
   "file_extension": ".py",
   "mimetype": "text/x-python",
   "name": "python",
   "nbconvert_exporter": "python",
   "pygments_lexer": "ipython3",
   "version": "3.7.4"
  }
 },
 "nbformat": 4,
 "nbformat_minor": 4
}
