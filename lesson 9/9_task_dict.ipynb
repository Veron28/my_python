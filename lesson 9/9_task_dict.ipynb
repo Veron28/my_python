{
 "cells": [
  {
   "cell_type": "code",
   "execution_count": 3,
   "metadata": {},
   "outputs": [
    {
     "name": "stdin",
     "output_type": "stream",
     "text": [
      "1. Добавить задачу.\n",
      "2. Вывести список задач.\n",
      "3. Выход. 1\n",
      "Сформулируйте задачу поздравить друга с днем рождения\n",
      "Добавьте категорию к задаче: ДР\n",
      "Добавьте время к задаче 12.12.2019\n",
      "1. Добавить задачу.\n",
      "2. Вывести список задач.\n",
      "3. Выход. 1\n",
      "Сформулируйте задачу купить масло\n",
      "Добавьте категорию к задаче: покупки\n",
      "Добавьте время к задаче сегодня\n",
      "1. Добавить задачу.\n",
      "2. Вывести список задач.\n",
      "3. Выход. 2\n"
     ]
    },
    {
     "name": "stdout",
     "output_type": "stream",
     "text": [
      "name: поздравить друга с днем рождения\n",
      "category: ДР\n",
      "time: 12.12.2019\n",
      "name: купить масло\n",
      "category: покупки\n",
      "time: сегодня\n"
     ]
    },
    {
     "name": "stdin",
     "output_type": "stream",
     "text": [
      "1. Добавить задачу.\n",
      "2. Вывести список задач.\n",
      "3. Выход. 3\n"
     ]
    }
   ],
   "source": [
    "tasks = []\n",
    "to_do = input(\"1. Добавить задачу.\\n2. Вывести список задач.\\n3. Выход.\")\n",
    "\n",
    "while to_do !=  \"3\":\n",
    "    if to_do == \"1\":\n",
    "        tasks.append({\"name\": input(\"Сформулируйте задачу\"), \"category\": input(\"Добавьте категорию к задаче:\"), \"time\": input(\"Добавьте время к задаче\")})\n",
    "    if to_do == \"2\":\n",
    "        for i in range(len(tasks)):\n",
    "            for j in (tasks[i]):\n",
    "                print(str(j) + \": \" + str(tasks[i][j]))\n",
    "    if to_do == \"3\":\n",
    "        break\n",
    "    to_do = input(\"1. Добавить задачу.\\n2. Вывести список задач.\\n3. Выход.\")"
   ]
  },
  {
   "cell_type": "code",
   "execution_count": null,
   "metadata": {},
   "outputs": [],
   "source": []
  },
  {
   "cell_type": "code",
   "execution_count": null,
   "metadata": {},
   "outputs": [],
   "source": []
  }
 ],
 "metadata": {
  "kernelspec": {
   "display_name": "Python 3",
   "language": "python",
   "name": "python3"
  },
  "language_info": {
   "codemirror_mode": {
    "name": "ipython",
    "version": 3
   },
   "file_extension": ".py",
   "mimetype": "text/x-python",
   "name": "python",
   "nbconvert_exporter": "python",
   "pygments_lexer": "ipython3",
   "version": "3.7.4"
  }
 },
 "nbformat": 4,
 "nbformat_minor": 4
}
