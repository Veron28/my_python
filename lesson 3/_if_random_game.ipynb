{
 "cells": [
  {
   "cell_type": "code",
   "execution_count": 1,
   "metadata": {},
   "outputs": [],
   "source": [
    "#Написать программу-игру. Компьютер загадывает случайное целое число от 1 до 4, \n",
    "#пользователь пытается его угадать. Программа запрашивает число ОДИН раз.\n",
    "#Если число угадано, то выводим на экран Победа, иначе - Повторите еще раз!\n",
    "\n",
    "#Дописать игру так, чтобы случае проигрыша программа выводила больше или меньше результат введенного числа\n"
   ]
  },
  {
   "cell_type": "code",
   "execution_count": 9,
   "metadata": {},
   "outputs": [
    {
     "name": "stdin",
     "output_type": "stream",
     "text": [
      "Введите число от 1 до 4  2\n"
     ]
    },
    {
     "name": "stdout",
     "output_type": "stream",
     "text": [
      "Победа\n"
     ]
    }
   ],
   "source": [
    "import random\n",
    "\n",
    "randNum  = random.randint(1, 4)\n",
    "if randNum == int(input(\"Введите число от 1 до 4 \")):\n",
    "    print(\"Победа\")\n",
    "else:\n",
    "    print(\"Повторите еще раз!\")\n",
    "    try2 = int(input(\"Введите число от 1 до 4 еще раз\"))\n",
    "    if try2 == randNum:\n",
    "        print(\"Победа\")\n",
    "    else:\n",
    "        if randNum > try2:\n",
    "            print(\"меньше\")\n",
    "        else:\n",
    "            print(\"больше\")"
   ]
  },
  {
   "cell_type": "code",
   "execution_count": 11,
   "metadata": {},
   "outputs": [],
   "source": [
    "#Нарисовать блок-схему алгоритма работы программы через сервис drakonhub.com\n",
    "#https://drakonhub.com/ide/doc/block111/2"
   ]
  },
  {
   "cell_type": "code",
   "execution_count": null,
   "metadata": {},
   "outputs": [],
   "source": []
  }
 ],
 "metadata": {
  "kernelspec": {
   "display_name": "Python 3",
   "language": "python",
   "name": "python3"
  },
  "language_info": {
   "codemirror_mode": {
    "name": "ipython",
    "version": 3
   },
   "file_extension": ".py",
   "mimetype": "text/x-python",
   "name": "python",
   "nbconvert_exporter": "python",
   "pygments_lexer": "ipython3",
   "version": "3.7.4"
  }
 },
 "nbformat": 4,
 "nbformat_minor": 4
}
