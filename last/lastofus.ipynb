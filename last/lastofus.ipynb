{
 "cells": [
  {
   "cell_type": "code",
   "execution_count": 23,
   "metadata": {},
   "outputs": [
    {
     "data": {
      "text/html": [
       "<div>\n",
       "<style scoped>\n",
       "    .dataframe tbody tr th:only-of-type {\n",
       "        vertical-align: middle;\n",
       "    }\n",
       "\n",
       "    .dataframe tbody tr th {\n",
       "        vertical-align: top;\n",
       "    }\n",
       "\n",
       "    .dataframe thead th {\n",
       "        text-align: right;\n",
       "    }\n",
       "</style>\n",
       "<table border=\"1\" class=\"dataframe\">\n",
       "  <thead>\n",
       "    <tr style=\"text-align: right;\">\n",
       "      <th></th>\n",
       "      <th>vacancy</th>\n",
       "      <th>company</th>\n",
       "      <th>creation_date</th>\n",
       "      <th>region</th>\n",
       "      <th>income</th>\n",
       "      <th>experience</th>\n",
       "      <th>employment_type</th>\n",
       "      <th>duties</th>\n",
       "      <th>requirements</th>\n",
       "      <th>conditions</th>\n",
       "    </tr>\n",
       "  </thead>\n",
       "  <tbody>\n",
       "    <tr>\n",
       "      <td>0</td>\n",
       "      <td>Начинающий специалист по залоговому кредитованию</td>\n",
       "      <td>Тинькофф</td>\n",
       "      <td>2019-01-15</td>\n",
       "      <td>Москва</td>\n",
       "      <td>от 55 000 руб.</td>\n",
       "      <td>не требуется</td>\n",
       "      <td>Полная занятость</td>\n",
       "      <td>- Звонить клиентам, которым банк одобрил креди...</td>\n",
       "      <td>None</td>\n",
       "      <td>- График работы 5/2 с плавающими выходными;\\n-...</td>\n",
       "    </tr>\n",
       "    <tr>\n",
       "      <td>1</td>\n",
       "      <td>Начинающий специалист в банк</td>\n",
       "      <td>Тинькофф</td>\n",
       "      <td>2019-01-15</td>\n",
       "      <td>Москва</td>\n",
       "      <td>от 50 000 руб.</td>\n",
       "      <td>не требуется</td>\n",
       "      <td>Полная занятость</td>\n",
       "      <td>- Работать с действующими и потенциальными кли...</td>\n",
       "      <td>- Грамотная речь;\\n- Уверенный пользователь ПК.</td>\n",
       "      <td>- Стабильную заработную плату: гарантированный...</td>\n",
       "    </tr>\n",
       "    <tr>\n",
       "      <td>2</td>\n",
       "      <td>Менеджер по работе с корпоративными клиентами ...</td>\n",
       "      <td>Тинькофф</td>\n",
       "      <td>2019-01-15</td>\n",
       "      <td>Москва</td>\n",
       "      <td>от 50 000 до 150 000 руб.</td>\n",
       "      <td>1–3 года</td>\n",
       "      <td>Полная занятость</td>\n",
       "      <td>- Самостоятельный поиск и активное привлечение...</td>\n",
       "      <td>- Желание работать в современном, высококвалиф...</td>\n",
       "      <td>- Обучение у лучших тренеров и наставников бан...</td>\n",
       "    </tr>\n",
       "    <tr>\n",
       "      <td>3</td>\n",
       "      <td>Менеджер по привлечению юридических лиц</td>\n",
       "      <td>Тинькофф</td>\n",
       "      <td>2019-01-15</td>\n",
       "      <td>Коломна</td>\n",
       "      <td>от 80 000 руб.</td>\n",
       "      <td>не требуется</td>\n",
       "      <td>Полная занятость</td>\n",
       "      <td>- Поиск и привлечение юридических лиц;\\n- Пров...</td>\n",
       "      <td>- Активная жизненная позиция;\\n- Мобильность, ...</td>\n",
       "      <td>- Работу в успешном, а главное, стабильном Бан...</td>\n",
       "    </tr>\n",
       "    <tr>\n",
       "      <td>4</td>\n",
       "      <td>Менеджер по привлечению юридических лиц</td>\n",
       "      <td>Тинькофф</td>\n",
       "      <td>2019-01-15</td>\n",
       "      <td>Одинцово</td>\n",
       "      <td>от 80 000 руб.</td>\n",
       "      <td>не требуется</td>\n",
       "      <td>Полная занятость</td>\n",
       "      <td>- Поиск и привлечение юридических лиц;\\n- Пров...</td>\n",
       "      <td>- Активная жизненная позиция;\\n- Мобильность, ...</td>\n",
       "      <td>- Работу в успешном, а главное, стабильном Бан...</td>\n",
       "    </tr>\n",
       "  </tbody>\n",
       "</table>\n",
       "</div>"
      ],
      "text/plain": [
       "                                             vacancy   company creation_date  \\\n",
       "0   Начинающий специалист по залоговому кредитованию  Тинькофф    2019-01-15   \n",
       "1                       Начинающий специалист в банк  Тинькофф    2019-01-15   \n",
       "2  Менеджер по работе с корпоративными клиентами ...  Тинькофф    2019-01-15   \n",
       "3            Менеджер по привлечению юридических лиц  Тинькофф    2019-01-15   \n",
       "4            Менеджер по привлечению юридических лиц  Тинькофф    2019-01-15   \n",
       "\n",
       "     region                     income    experience   employment_type  \\\n",
       "0    Москва             от 55 000 руб.  не требуется  Полная занятость   \n",
       "1    Москва             от 50 000 руб.  не требуется  Полная занятость   \n",
       "2    Москва  от 50 000 до 150 000 руб.      1–3 года  Полная занятость   \n",
       "3   Коломна             от 80 000 руб.  не требуется  Полная занятость   \n",
       "4  Одинцово             от 80 000 руб.  не требуется  Полная занятость   \n",
       "\n",
       "                                              duties  \\\n",
       "0  - Звонить клиентам, которым банк одобрил креди...   \n",
       "1  - Работать с действующими и потенциальными кли...   \n",
       "2  - Самостоятельный поиск и активное привлечение...   \n",
       "3  - Поиск и привлечение юридических лиц;\\n- Пров...   \n",
       "4  - Поиск и привлечение юридических лиц;\\n- Пров...   \n",
       "\n",
       "                                        requirements  \\\n",
       "0                                               None   \n",
       "1    - Грамотная речь;\\n- Уверенный пользователь ПК.   \n",
       "2  - Желание работать в современном, высококвалиф...   \n",
       "3  - Активная жизненная позиция;\\n- Мобильность, ...   \n",
       "4  - Активная жизненная позиция;\\n- Мобильность, ...   \n",
       "\n",
       "                                          conditions  \n",
       "0  - График работы 5/2 с плавающими выходными;\\n-...  \n",
       "1  - Стабильную заработную плату: гарантированный...  \n",
       "2  - Обучение у лучших тренеров и наставников бан...  \n",
       "3  - Работу в успешном, а главное, стабильном Бан...  \n",
       "4  - Работу в успешном, а главное, стабильном Бан...  "
      ]
     },
     "execution_count": 23,
     "metadata": {},
     "output_type": "execute_result"
    }
   ],
   "source": [
    "import pandas as pd\n",
    "import json\n",
    "with open('tinkoff_hh.json', encoding='utf8') as ti:\n",
    "    file = ti.readlines()\n",
    "lul = [json.loads(x) for x in file if 'index' not in x]\n",
    "df = pd.DataFrame(lul)\n",
    "df.head()"
   ]
  },
  {
   "cell_type": "code",
   "execution_count": 25,
   "metadata": {},
   "outputs": [
    {
     "data": {
      "text/plain": [
       "Агент по доставке продуктов Тинькофф                           156\n",
       "Представитель Тинькофф                                         109\n",
       "Консультант по работе с клиентами                               48\n",
       "Представитель Тинькофф Банка                                    47\n",
       "Специалист по развитию агентской сети                           41\n",
       "                                                              ... \n",
       "Менеджер отдела входящей верификации                             1\n",
       "Консультант в офис                                               1\n",
       "Менеджер по работе с юридическими лицами (POS-кредитование)      1\n",
       "Оператор входящей линии (короткая смена)                         1\n",
       "Начинающий специалист по залоговому кредитованию                 1\n",
       "Name: vacancy, Length: 175, dtype: int64"
      ]
     },
     "execution_count": 25,
     "metadata": {},
     "output_type": "execute_result"
    }
   ],
   "source": [
    "df[[\"vacancy\",\"income\",\"region\"]][b[\"income\"] != \"не указан\"].drop_duplicates().sort_values(by = 'income')[\"vacancy\"].value_counts()"
   ]
  },
  {
   "cell_type": "code",
   "execution_count": null,
   "metadata": {},
   "outputs": [],
   "source": [
    "st=''\n",
    "for c in l:\n",
    "    st=st+' '+c"
   ]
  },
  {
   "cell_type": "code",
   "execution_count": null,
   "metadata": {},
   "outputs": [],
   "source": [
    "def remove(value, deletechars):\n",
    "    for c in deletechars:\n",
    "        value = value.replace(c,'')\n",
    "    return value"
   ]
  },
  {
   "cell_type": "code",
   "execution_count": null,
   "metadata": {},
   "outputs": [],
   "source": [
    "st=remove(st, \"[.]{}*:;-!/\\“”«»,?\")"
   ]
  },
  {
   "cell_type": "code",
   "execution_count": 60,
   "metadata": {},
   "outputs": [],
   "source": [
    "words=st.lower().split()"
   ]
  },
  {
   "cell_type": "code",
   "execution_count": 87,
   "metadata": {},
   "outputs": [],
   "source": [
    "with open('wjrds.txt','w',encoding='utf-8') as f:\n",
    "    f.write(st.lower())"
   ]
  },
  {
   "cell_type": "code",
   "execution_count": null,
   "metadata": {},
   "outputs": [],
   "source": [
    "#здесь см.файл processing.py, тк в jupyter это не работало"
   ]
  },
  {
   "cell_type": "code",
   "execution_count": 90,
   "metadata": {},
   "outputs": [],
   "source": [
    "with open('norm.txt','r',encoding='utf-8') as file:\n",
    "    wordsn=file.read()"
   ]
  },
  {
   "cell_type": "code",
   "execution_count": 93,
   "metadata": {},
   "outputs": [],
   "source": [
    "wordsn=wordsn.split()"
   ]
  },
  {
   "cell_type": "code",
   "execution_count": 94,
   "metadata": {},
   "outputs": [],
   "source": [
    "from collections import Counter"
   ]
  },
  {
   "cell_type": "code",
   "execution_count": 98,
   "metadata": {},
   "outputs": [],
   "source": [
    "d=dict(Counter(wordsn))"
   ]
  },
  {
   "cell_type": "code",
   "execution_count": 103,
   "metadata": {},
   "outputs": [],
   "source": [
    "from collections import OrderedDict\n",
    "d_sorted_by_value = OrderedDict(sorted(d.items(), key=lambda x: x[1],reverse=True))"
   ]
  },
  {
   "cell_type": "code",
   "execution_count": 108,
   "metadata": {},
   "outputs": [],
   "source": [
    "ds=dict(d_sorted_by_value) # отсортированный словарь встречаемости "
   ]
  },
  {
   "cell_type": "code",
   "execution_count": 113,
   "metadata": {},
   "outputs": [
    {
     "data": {
      "text/plain": [
       "['тезис',\n",
       " 'в',\n",
       " 'на',\n",
       " 'конференция',\n",
       " 'по',\n",
       " 'научный',\n",
       " 'как',\n",
       " 'работа',\n",
       " 'и',\n",
       " 'для',\n",
       " 'информационный',\n",
       " 'пример',\n",
       " 'безопасность',\n",
       " 'к',\n",
       " 'правило',\n",
       " 'практика',\n",
       " 'золотой',\n",
       " 'что',\n",
       " 'доклад',\n",
       " 'статья']"
      ]
     },
     "execution_count": 113,
     "metadata": {},
     "output_type": "execute_result"
    }
   ],
   "source": [
    "list(ds.keys())[:20] # самые часто встречаемые слова"
   ]
  },
  {
   "cell_type": "code",
   "execution_count": null,
   "metadata": {},
   "outputs": [],
   "source": []
  }
 ],
 "metadata": {
  "kernelspec": {
   "display_name": "Python 3",
   "language": "python",
   "name": "python3"
  },
  "language_info": {
   "codemirror_mode": {
    "name": "ipython",
    "version": 3
   },
   "file_extension": ".py",
   "mimetype": "text/x-python",
   "name": "python",
   "nbconvert_exporter": "python",
   "pygments_lexer": "ipython3",
   "version": "3.7.4"
  }
 },
 "nbformat": 4,
 "nbformat_minor": 4
}
