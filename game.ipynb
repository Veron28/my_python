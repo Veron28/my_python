{
 "cells": [
  {
   "cell_type": "code",
   "execution_count": 86,
   "metadata": {},
   "outputs": [],
   "source": [
    "import random\n",
    "\n",
    "class Human:\n",
    "    def __init__(self, name = \"NoName\", x = 0, y = 0,  speed = 5, height = 0, items = 0):\n",
    "        self._name = name\n",
    "        self._x = x\n",
    "        self._y = y\n",
    "        self._speed = speed\n",
    "        self.items = items\n",
    "        self._height = height\n",
    "        print(f'Create new {self._name} : {self._x, self._y}')\n",
    "    def running(self):\n",
    "        self._x += self._speed\n",
    "        print(f'human {self._name} : is running and he is in {self._x, self._y} ')\n",
    "    def shooting(self):\n",
    "        print(f'human {self._name} is shooting: {self._x, self._y}')\n",
    "    def selecting(self):\n",
    "        k = random.choice([-2, -1, 2, 1])\n",
    "        if k == 1:\n",
    "            self._speed *= 2\n",
    "        elif k == 2:\n",
    "            self._speed /= 2\n",
    "        elif k == -1:\n",
    "            self._height *= 2\n",
    "        elif k == 2:\n",
    "            self._height /= 2\n",
    "        print(f'human  {self._name} has {self.items} items: {self._x, self._y}')\n",
    "class Flyer(Human):\n",
    "    def flying(self):\n",
    "        self._y += self._height\n",
    "        print(f'human {self._name} : is running and he is in {self._x, self._y} ')"
   ]
  },
  {
   "cell_type": "code",
   "execution_count": 87,
   "metadata": {},
   "outputs": [
    {
     "name": "stdout",
     "output_type": "stream",
     "text": [
      "Create new Grigoriy : (0, 0)\n",
      "Create new BASE BLADE : (0, 0)\n"
     ]
    }
   ],
   "source": [
    "person1 = Human(name = \"Grigoriy\")\n",
    "person2 = Flyer(name = \"BASE BLADE\", height = 1)"
   ]
  },
  {
   "cell_type": "code",
   "execution_count": 88,
   "metadata": {},
   "outputs": [
    {
     "name": "stdout",
     "output_type": "stream",
     "text": [
      "human Grigoriy : is running and he is in (5, 0) \n",
      "human BASE BLADE : is running and he is in (5, 0) \n"
     ]
    }
   ],
   "source": [
    "person1.running()\n",
    "person2.running()"
   ]
  },
  {
   "cell_type": "code",
   "execution_count": 89,
   "metadata": {},
   "outputs": [
    {
     "name": "stdout",
     "output_type": "stream",
     "text": [
      "human  Grigoriy has 0 items: (5, 0)\n",
      "human  BASE BLADE has 0 items: (5, 0)\n"
     ]
    }
   ],
   "source": [
    "person1.selecting()\n",
    "person2.selecting()"
   ]
  },
  {
   "cell_type": "code",
   "execution_count": 90,
   "metadata": {},
   "outputs": [
    {
     "name": "stdout",
     "output_type": "stream",
     "text": [
      "human BASE BLADE : is running and he is in (5, 1) \n"
     ]
    }
   ],
   "source": [
    "person2.flying()"
   ]
  }
 ],
 "metadata": {
  "kernelspec": {
   "display_name": "Python 3",
   "language": "python",
   "name": "python3"
  },
  "language_info": {
   "codemirror_mode": {
    "name": "ipython",
    "version": 3
   },
   "file_extension": ".py",
   "mimetype": "text/x-python",
   "name": "python",
   "nbconvert_exporter": "python",
   "pygments_lexer": "ipython3",
   "version": "3.7.4"
  }
 },
 "nbformat": 4,
 "nbformat_minor": 4
}
