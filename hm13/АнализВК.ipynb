{
 "cells": [
  {
   "cell_type": "markdown",
   "metadata": {
    "colab_type": "text",
    "id": "T_ZXllXbt2vm"
   },
   "source": [
    "## **Условие задания**"
   ]
  },
  {
   "cell_type": "markdown",
   "metadata": {
    "colab_type": "text",
    "id": "b7z5RdvIt2vn"
   },
   "source": [
    "Вы - сотрудник отдела аналитики крупной компании.\n",
    "\n",
    "Ваша компания занимается продвижением товаров и услуг в соцсетях: ВКонтакте, Facebook, Instagram и TikTok.\n",
    "\n",
    "Руководитель отдела в курсе, что Вы знаете стандартный язык Python и доверил Вам анализ группы в соцсети.\n",
    "Это одна из групп, которую вскоре планируется задействовать для продвижения нового товара.\n",
    "\n",
    "Руководитель просит предоставить наглядный отчет в Jupyter Notebook с графиками.\n",
    "\n",
    "Детали отчета остаются на Ваше усмотрение.\n",
    "\n",
    "Задачи, которые сформулировал руководитель:\n",
    "\n",
    "1) определить статистику посещаемости группы (просмотры/посещения в год); \n",
    "\n",
    "2) провести анализ охвата аудитории (reach/reach_subscribers);\n",
    "\n",
    "3) провести анализ демографии (пол - gender, возраст аудитории - age, gender_age, страна - countries);\n",
    "\n",
    "4) провести анализ обратной связи.\n",
    "\n",
    "5) обосновать, подходит ли данная группа для продвижения нового товара среди активных пользователей из России моложе 30 лет?\n",
    "\n",
    "До старта рекламной кампании остается совсем немного времни. "
   ]
  },
  {
   "cell_type": "markdown",
   "metadata": {
    "colab_type": "text",
    "id": "AbiGpjjKt2vo"
   },
   "source": [
    "**ВНИМАНИЕ**: про данные статистики ВК [тут](https://vk.com/dev/objects/stats_format), про виральный охватат [тут](https://vk.com/@adminsclub-viral-reach)"
   ]
  },
  {
   "cell_type": "markdown",
   "metadata": {
    "colab_type": "text",
    "id": "fyZNVNpK_2x8"
   },
   "source": [
    "## **Данные**"
   ]
  },
  {
   "cell_type": "code",
   "execution_count": 6,
   "metadata": {
    "colab": {
     "base_uri": "https://localhost:8080/",
     "height": 204
    },
    "colab_type": "code",
    "executionInfo": {
     "elapsed": 1857,
     "status": "ok",
     "timestamp": 1590915841920,
     "user": {
      "displayName": "ENDY",
      "photoUrl": "https://lh3.googleusercontent.com/a-/AOh14GhweVQJI7BiE5TaPetwNnKNCwUO1mynGtoA5-pe4Q=s64",
      "userId": "14770815761046424264"
     },
     "user_tz": -180
    },
    "id": "J0mxCTQyt2vq",
    "outputId": "d4785abc-3c3b-4b90-bd50-55f2e07d75b6"
   },
   "outputs": [
    {
     "data": {
      "text/html": [
       "<div>\n",
       "<style scoped>\n",
       "    .dataframe tbody tr th:only-of-type {\n",
       "        vertical-align: middle;\n",
       "    }\n",
       "\n",
       "    .dataframe tbody tr th {\n",
       "        vertical-align: top;\n",
       "    }\n",
       "\n",
       "    .dataframe thead th {\n",
       "        text-align: right;\n",
       "    }\n",
       "</style>\n",
       "<table border=\"1\" class=\"dataframe\">\n",
       "  <thead>\n",
       "    <tr style=\"text-align: right;\">\n",
       "      <th></th>\n",
       "      <th>Дата</th>\n",
       "      <th>Критерий</th>\n",
       "      <th>Парам. №1</th>\n",
       "      <th>Парам. №2</th>\n",
       "      <th>Значение</th>\n",
       "    </tr>\n",
       "  </thead>\n",
       "  <tbody>\n",
       "    <tr>\n",
       "      <td>0</td>\n",
       "      <td>15.03.2020</td>\n",
       "      <td>views</td>\n",
       "      <td>NaN</td>\n",
       "      <td>NaN</td>\n",
       "      <td>4</td>\n",
       "    </tr>\n",
       "    <tr>\n",
       "      <td>1</td>\n",
       "      <td>15.03.2020</td>\n",
       "      <td>visitors</td>\n",
       "      <td>NaN</td>\n",
       "      <td>NaN</td>\n",
       "      <td>3</td>\n",
       "    </tr>\n",
       "    <tr>\n",
       "      <td>2</td>\n",
       "      <td>15.03.2020</td>\n",
       "      <td>gender</td>\n",
       "      <td>М</td>\n",
       "      <td>NaN</td>\n",
       "      <td>3</td>\n",
       "    </tr>\n",
       "    <tr>\n",
       "      <td>3</td>\n",
       "      <td>15.03.2020</td>\n",
       "      <td>age</td>\n",
       "      <td>24-27</td>\n",
       "      <td>NaN</td>\n",
       "      <td>1</td>\n",
       "    </tr>\n",
       "    <tr>\n",
       "      <td>4</td>\n",
       "      <td>15.03.2020</td>\n",
       "      <td>age</td>\n",
       "      <td>30-35</td>\n",
       "      <td>NaN</td>\n",
       "      <td>2</td>\n",
       "    </tr>\n",
       "  </tbody>\n",
       "</table>\n",
       "</div>"
      ],
      "text/plain": [
       "         Дата  Критерий Парам. №1 Парам. №2  Значение\n",
       "0  15.03.2020     views       NaN       NaN         4\n",
       "1  15.03.2020  visitors       NaN       NaN         3\n",
       "2  15.03.2020    gender         М       NaN         3\n",
       "3  15.03.2020       age     24-27       NaN         1\n",
       "4  15.03.2020       age     30-35       NaN         2"
      ]
     },
     "execution_count": 6,
     "metadata": {},
     "output_type": "execute_result"
    }
   ],
   "source": [
    "import pandas as pd\n",
    "df = pd.read_csv(\"https://raw.githubusercontent.com/dm-fedorov/python_basic/master/data/vkontakte_group_01_2016-08-01_2020-03-15.csv\")\n",
    "df.head()"
   ]
  },
  {
   "cell_type": "code",
   "execution_count": 2,
   "metadata": {
    "colab": {},
    "colab_type": "code",
    "id": "bnED6Eil-E4F"
   },
   "outputs": [],
   "source": [
    "%matplotlib inline\n",
    "import matplotlib.pyplot as plt\n",
    "from datetime import datetime"
   ]
  },
  {
   "cell_type": "code",
   "execution_count": 7,
   "metadata": {
    "colab": {},
    "colab_type": "code",
    "id": "VM-UsvuzOaq9"
   },
   "outputs": [],
   "source": [
    "dfs = pd.get_dummies(df, columns=['Критерий'])"
   ]
  },
  {
   "cell_type": "code",
   "execution_count": 8,
   "metadata": {
    "colab": {
     "base_uri": "https://localhost:8080/",
     "height": 456
    },
    "colab_type": "code",
    "executionInfo": {
     "elapsed": 654,
     "status": "ok",
     "timestamp": 1590915847445,
     "user": {
      "displayName": "ENDY",
      "photoUrl": "https://lh3.googleusercontent.com/a-/AOh14GhweVQJI7BiE5TaPetwNnKNCwUO1mynGtoA5-pe4Q=s64",
      "userId": "14770815761046424264"
     },
     "user_tz": -180
    },
    "id": "Pkuj6V7Xs54j",
    "outputId": "02a720f8-d00b-4c97-8098-da538cf063a9"
   },
   "outputs": [
    {
     "data": {
      "text/html": [
       "<div>\n",
       "<style scoped>\n",
       "    .dataframe tbody tr th:only-of-type {\n",
       "        vertical-align: middle;\n",
       "    }\n",
       "\n",
       "    .dataframe tbody tr th {\n",
       "        vertical-align: top;\n",
       "    }\n",
       "\n",
       "    .dataframe thead th {\n",
       "        text-align: right;\n",
       "    }\n",
       "</style>\n",
       "<table border=\"1\" class=\"dataframe\">\n",
       "  <thead>\n",
       "    <tr style=\"text-align: right;\">\n",
       "      <th></th>\n",
       "      <th>Дата</th>\n",
       "      <th>Парам. №1</th>\n",
       "      <th>Парам. №2</th>\n",
       "      <th>Значение</th>\n",
       "      <th>Критерий_activity</th>\n",
       "      <th>Критерий_age</th>\n",
       "      <th>Критерий_cities</th>\n",
       "      <th>Критерий_countries</th>\n",
       "      <th>Критерий_feedback</th>\n",
       "      <th>Критерий_gender</th>\n",
       "      <th>Критерий_gender_age</th>\n",
       "      <th>Критерий_members</th>\n",
       "      <th>Критерий_reach</th>\n",
       "      <th>Критерий_reach_subscribers</th>\n",
       "      <th>Критерий_reach_viral</th>\n",
       "      <th>Критерий_sections</th>\n",
       "      <th>Критерий_views</th>\n",
       "      <th>Критерий_visitors</th>\n",
       "    </tr>\n",
       "  </thead>\n",
       "  <tbody>\n",
       "    <tr>\n",
       "      <td>0</td>\n",
       "      <td>15.03.2020</td>\n",
       "      <td>NaN</td>\n",
       "      <td>NaN</td>\n",
       "      <td>4</td>\n",
       "      <td>0</td>\n",
       "      <td>0</td>\n",
       "      <td>0</td>\n",
       "      <td>0</td>\n",
       "      <td>0</td>\n",
       "      <td>0</td>\n",
       "      <td>0</td>\n",
       "      <td>0</td>\n",
       "      <td>0</td>\n",
       "      <td>0</td>\n",
       "      <td>0</td>\n",
       "      <td>0</td>\n",
       "      <td>1</td>\n",
       "      <td>0</td>\n",
       "    </tr>\n",
       "    <tr>\n",
       "      <td>1</td>\n",
       "      <td>15.03.2020</td>\n",
       "      <td>NaN</td>\n",
       "      <td>NaN</td>\n",
       "      <td>3</td>\n",
       "      <td>0</td>\n",
       "      <td>0</td>\n",
       "      <td>0</td>\n",
       "      <td>0</td>\n",
       "      <td>0</td>\n",
       "      <td>0</td>\n",
       "      <td>0</td>\n",
       "      <td>0</td>\n",
       "      <td>0</td>\n",
       "      <td>0</td>\n",
       "      <td>0</td>\n",
       "      <td>0</td>\n",
       "      <td>0</td>\n",
       "      <td>1</td>\n",
       "    </tr>\n",
       "    <tr>\n",
       "      <td>2</td>\n",
       "      <td>15.03.2020</td>\n",
       "      <td>М</td>\n",
       "      <td>NaN</td>\n",
       "      <td>3</td>\n",
       "      <td>0</td>\n",
       "      <td>0</td>\n",
       "      <td>0</td>\n",
       "      <td>0</td>\n",
       "      <td>0</td>\n",
       "      <td>1</td>\n",
       "      <td>0</td>\n",
       "      <td>0</td>\n",
       "      <td>0</td>\n",
       "      <td>0</td>\n",
       "      <td>0</td>\n",
       "      <td>0</td>\n",
       "      <td>0</td>\n",
       "      <td>0</td>\n",
       "    </tr>\n",
       "    <tr>\n",
       "      <td>3</td>\n",
       "      <td>15.03.2020</td>\n",
       "      <td>24-27</td>\n",
       "      <td>NaN</td>\n",
       "      <td>1</td>\n",
       "      <td>0</td>\n",
       "      <td>1</td>\n",
       "      <td>0</td>\n",
       "      <td>0</td>\n",
       "      <td>0</td>\n",
       "      <td>0</td>\n",
       "      <td>0</td>\n",
       "      <td>0</td>\n",
       "      <td>0</td>\n",
       "      <td>0</td>\n",
       "      <td>0</td>\n",
       "      <td>0</td>\n",
       "      <td>0</td>\n",
       "      <td>0</td>\n",
       "    </tr>\n",
       "    <tr>\n",
       "      <td>4</td>\n",
       "      <td>15.03.2020</td>\n",
       "      <td>30-35</td>\n",
       "      <td>NaN</td>\n",
       "      <td>2</td>\n",
       "      <td>0</td>\n",
       "      <td>1</td>\n",
       "      <td>0</td>\n",
       "      <td>0</td>\n",
       "      <td>0</td>\n",
       "      <td>0</td>\n",
       "      <td>0</td>\n",
       "      <td>0</td>\n",
       "      <td>0</td>\n",
       "      <td>0</td>\n",
       "      <td>0</td>\n",
       "      <td>0</td>\n",
       "      <td>0</td>\n",
       "      <td>0</td>\n",
       "    </tr>\n",
       "    <tr>\n",
       "      <td>...</td>\n",
       "      <td>...</td>\n",
       "      <td>...</td>\n",
       "      <td>...</td>\n",
       "      <td>...</td>\n",
       "      <td>...</td>\n",
       "      <td>...</td>\n",
       "      <td>...</td>\n",
       "      <td>...</td>\n",
       "      <td>...</td>\n",
       "      <td>...</td>\n",
       "      <td>...</td>\n",
       "      <td>...</td>\n",
       "      <td>...</td>\n",
       "      <td>...</td>\n",
       "      <td>...</td>\n",
       "      <td>...</td>\n",
       "      <td>...</td>\n",
       "      <td>...</td>\n",
       "    </tr>\n",
       "    <tr>\n",
       "      <td>46407</td>\n",
       "      <td>02.08.2016</td>\n",
       "      <td>NaN</td>\n",
       "      <td>NaN</td>\n",
       "      <td>20</td>\n",
       "      <td>0</td>\n",
       "      <td>0</td>\n",
       "      <td>0</td>\n",
       "      <td>0</td>\n",
       "      <td>0</td>\n",
       "      <td>0</td>\n",
       "      <td>0</td>\n",
       "      <td>0</td>\n",
       "      <td>0</td>\n",
       "      <td>1</td>\n",
       "      <td>0</td>\n",
       "      <td>0</td>\n",
       "      <td>0</td>\n",
       "      <td>0</td>\n",
       "    </tr>\n",
       "    <tr>\n",
       "      <td>46408</td>\n",
       "      <td>02.08.2016</td>\n",
       "      <td>NaN</td>\n",
       "      <td>NaN</td>\n",
       "      <td>109</td>\n",
       "      <td>0</td>\n",
       "      <td>0</td>\n",
       "      <td>0</td>\n",
       "      <td>0</td>\n",
       "      <td>0</td>\n",
       "      <td>0</td>\n",
       "      <td>0</td>\n",
       "      <td>0</td>\n",
       "      <td>0</td>\n",
       "      <td>0</td>\n",
       "      <td>1</td>\n",
       "      <td>0</td>\n",
       "      <td>0</td>\n",
       "      <td>0</td>\n",
       "    </tr>\n",
       "    <tr>\n",
       "      <td>46409</td>\n",
       "      <td>01.08.2016</td>\n",
       "      <td>NaN</td>\n",
       "      <td>NaN</td>\n",
       "      <td>203</td>\n",
       "      <td>0</td>\n",
       "      <td>0</td>\n",
       "      <td>0</td>\n",
       "      <td>0</td>\n",
       "      <td>0</td>\n",
       "      <td>0</td>\n",
       "      <td>0</td>\n",
       "      <td>0</td>\n",
       "      <td>1</td>\n",
       "      <td>0</td>\n",
       "      <td>0</td>\n",
       "      <td>0</td>\n",
       "      <td>0</td>\n",
       "      <td>0</td>\n",
       "    </tr>\n",
       "    <tr>\n",
       "      <td>46410</td>\n",
       "      <td>01.08.2016</td>\n",
       "      <td>NaN</td>\n",
       "      <td>NaN</td>\n",
       "      <td>28</td>\n",
       "      <td>0</td>\n",
       "      <td>0</td>\n",
       "      <td>0</td>\n",
       "      <td>0</td>\n",
       "      <td>0</td>\n",
       "      <td>0</td>\n",
       "      <td>0</td>\n",
       "      <td>0</td>\n",
       "      <td>0</td>\n",
       "      <td>1</td>\n",
       "      <td>0</td>\n",
       "      <td>0</td>\n",
       "      <td>0</td>\n",
       "      <td>0</td>\n",
       "    </tr>\n",
       "    <tr>\n",
       "      <td>46411</td>\n",
       "      <td>01.08.2016</td>\n",
       "      <td>NaN</td>\n",
       "      <td>NaN</td>\n",
       "      <td>175</td>\n",
       "      <td>0</td>\n",
       "      <td>0</td>\n",
       "      <td>0</td>\n",
       "      <td>0</td>\n",
       "      <td>0</td>\n",
       "      <td>0</td>\n",
       "      <td>0</td>\n",
       "      <td>0</td>\n",
       "      <td>0</td>\n",
       "      <td>0</td>\n",
       "      <td>1</td>\n",
       "      <td>0</td>\n",
       "      <td>0</td>\n",
       "      <td>0</td>\n",
       "    </tr>\n",
       "  </tbody>\n",
       "</table>\n",
       "<p>46412 rows × 18 columns</p>\n",
       "</div>"
      ],
      "text/plain": [
       "             Дата Парам. №1 Парам. №2  Значение  Критерий_activity  \\\n",
       "0      15.03.2020       NaN       NaN         4                  0   \n",
       "1      15.03.2020       NaN       NaN         3                  0   \n",
       "2      15.03.2020         М       NaN         3                  0   \n",
       "3      15.03.2020     24-27       NaN         1                  0   \n",
       "4      15.03.2020     30-35       NaN         2                  0   \n",
       "...           ...       ...       ...       ...                ...   \n",
       "46407  02.08.2016       NaN       NaN        20                  0   \n",
       "46408  02.08.2016       NaN       NaN       109                  0   \n",
       "46409  01.08.2016       NaN       NaN       203                  0   \n",
       "46410  01.08.2016       NaN       NaN        28                  0   \n",
       "46411  01.08.2016       NaN       NaN       175                  0   \n",
       "\n",
       "       Критерий_age  Критерий_cities  Критерий_countries  Критерий_feedback  \\\n",
       "0                 0                0                   0                  0   \n",
       "1                 0                0                   0                  0   \n",
       "2                 0                0                   0                  0   \n",
       "3                 1                0                   0                  0   \n",
       "4                 1                0                   0                  0   \n",
       "...             ...              ...                 ...                ...   \n",
       "46407             0                0                   0                  0   \n",
       "46408             0                0                   0                  0   \n",
       "46409             0                0                   0                  0   \n",
       "46410             0                0                   0                  0   \n",
       "46411             0                0                   0                  0   \n",
       "\n",
       "       Критерий_gender  Критерий_gender_age  Критерий_members  Критерий_reach  \\\n",
       "0                    0                    0                 0               0   \n",
       "1                    0                    0                 0               0   \n",
       "2                    1                    0                 0               0   \n",
       "3                    0                    0                 0               0   \n",
       "4                    0                    0                 0               0   \n",
       "...                ...                  ...               ...             ...   \n",
       "46407                0                    0                 0               0   \n",
       "46408                0                    0                 0               0   \n",
       "46409                0                    0                 0               1   \n",
       "46410                0                    0                 0               0   \n",
       "46411                0                    0                 0               0   \n",
       "\n",
       "       Критерий_reach_subscribers  Критерий_reach_viral  Критерий_sections  \\\n",
       "0                               0                     0                  0   \n",
       "1                               0                     0                  0   \n",
       "2                               0                     0                  0   \n",
       "3                               0                     0                  0   \n",
       "4                               0                     0                  0   \n",
       "...                           ...                   ...                ...   \n",
       "46407                           1                     0                  0   \n",
       "46408                           0                     1                  0   \n",
       "46409                           0                     0                  0   \n",
       "46410                           1                     0                  0   \n",
       "46411                           0                     1                  0   \n",
       "\n",
       "       Критерий_views  Критерий_visitors  \n",
       "0                   1                  0  \n",
       "1                   0                  1  \n",
       "2                   0                  0  \n",
       "3                   0                  0  \n",
       "4                   0                  0  \n",
       "...               ...                ...  \n",
       "46407               0                  0  \n",
       "46408               0                  0  \n",
       "46409               0                  0  \n",
       "46410               0                  0  \n",
       "46411               0                  0  \n",
       "\n",
       "[46412 rows x 18 columns]"
      ]
     },
     "execution_count": 8,
     "metadata": {},
     "output_type": "execute_result"
    }
   ],
   "source": [
    "dfs"
   ]
  },
  {
   "cell_type": "code",
   "execution_count": 20,
   "metadata": {
    "colab": {},
    "colab_type": "code",
    "id": "zpDpLCBetzA1"
   },
   "outputs": [],
   "source": [
    "view = dfs[['Дата', 'Значение']][dfСriterion['Критерий_views'] == 1]"
   ]
  },
  {
   "cell_type": "code",
   "execution_count": 21,
   "metadata": {
    "colab": {},
    "colab_type": "code",
    "id": "KkSasBpavkN-"
   },
   "outputs": [],
   "source": [
    "def convert(row):\n",
    "  return datetime.strptime(row['Дата'], '%d.%m.%Y')"
   ]
  },
  {
   "cell_type": "code",
   "execution_count": 22,
   "metadata": {
    "colab": {
     "base_uri": "https://localhost:8080/",
     "height": 204
    },
    "colab_type": "code",
    "executionInfo": {
     "elapsed": 623,
     "status": "ok",
     "timestamp": 1590915852993,
     "user": {
      "displayName": "ENDY",
      "photoUrl": "https://lh3.googleusercontent.com/a-/AOh14GhweVQJI7BiE5TaPetwNnKNCwUO1mynGtoA5-pe4Q=s64",
      "userId": "14770815761046424264"
     },
     "user_tz": -180
    },
    "id": "YWeJjBTuxHFT",
    "outputId": "c3126727-c46a-4bbe-91be-4ecdf35b0a5f"
   },
   "outputs": [
    {
     "data": {
      "text/html": [
       "<div>\n",
       "<style scoped>\n",
       "    .dataframe tbody tr th:only-of-type {\n",
       "        vertical-align: middle;\n",
       "    }\n",
       "\n",
       "    .dataframe tbody tr th {\n",
       "        vertical-align: top;\n",
       "    }\n",
       "\n",
       "    .dataframe thead th {\n",
       "        text-align: right;\n",
       "    }\n",
       "</style>\n",
       "<table border=\"1\" class=\"dataframe\">\n",
       "  <thead>\n",
       "    <tr style=\"text-align: right;\">\n",
       "      <th></th>\n",
       "      <th>Дата</th>\n",
       "      <th>Значение</th>\n",
       "    </tr>\n",
       "  </thead>\n",
       "  <tbody>\n",
       "    <tr>\n",
       "      <td>0</td>\n",
       "      <td>2020-03-15</td>\n",
       "      <td>4</td>\n",
       "    </tr>\n",
       "    <tr>\n",
       "      <td>10</td>\n",
       "      <td>2020-03-14</td>\n",
       "      <td>14</td>\n",
       "    </tr>\n",
       "    <tr>\n",
       "      <td>32</td>\n",
       "      <td>2020-03-13</td>\n",
       "      <td>16</td>\n",
       "    </tr>\n",
       "    <tr>\n",
       "      <td>51</td>\n",
       "      <td>2020-03-12</td>\n",
       "      <td>17</td>\n",
       "    </tr>\n",
       "    <tr>\n",
       "      <td>73</td>\n",
       "      <td>2020-03-11</td>\n",
       "      <td>13</td>\n",
       "    </tr>\n",
       "  </tbody>\n",
       "</table>\n",
       "</div>"
      ],
      "text/plain": [
       "         Дата  Значение\n",
       "0  2020-03-15         4\n",
       "10 2020-03-14        14\n",
       "32 2020-03-13        16\n",
       "51 2020-03-12        17\n",
       "73 2020-03-11        13"
      ]
     },
     "execution_count": 22,
     "metadata": {},
     "output_type": "execute_result"
    }
   ],
   "source": [
    "view['Дата'] = view.apply(convert, axis=1)\n",
    "view.head()"
   ]
  },
  {
   "cell_type": "code",
   "execution_count": 23,
   "metadata": {
    "colab": {},
    "colab_type": "code",
    "id": "FqomKoc90ZhB"
   },
   "outputs": [],
   "source": [
    "view['Дата'] = view['Дата'].dt.strftime('%Y')"
   ]
  },
  {
   "cell_type": "code",
   "execution_count": 24,
   "metadata": {
    "colab": {},
    "colab_type": "code",
    "id": "8a6ruqyZ1Zwf"
   },
   "outputs": [],
   "source": [
    "ser = view.groupby(['Дата'])['Значение'].sum() "
   ]
  },
  {
   "cell_type": "code",
   "execution_count": 39,
   "metadata": {
    "colab": {
     "base_uri": "https://localhost:8080/",
     "height": 311
    },
    "colab_type": "code",
    "executionInfo": {
     "elapsed": 671,
     "status": "ok",
     "timestamp": 1590915858501,
     "user": {
      "displayName": "ENDY",
      "photoUrl": "https://lh3.googleusercontent.com/a-/AOh14GhweVQJI7BiE5TaPetwNnKNCwUO1mynGtoA5-pe4Q=s64",
      "userId": "14770815761046424264"
     },
     "user_tz": -180
    },
    "id": "igXK5fsH5faf",
    "outputId": "ba512d41-0077-42fd-d207-b223593647f0"
   },
   "outputs": [
    {
     "data": {
      "image/png": "[encoded data removed]",
      "text/plain": [
       "<Figure size 432x288 with 1 Axes>"
      ]
     },
     "metadata": {
      "needs_background": "light"
     },
     "output_type": "display_data"
    }
   ],
   "source": [
    "ser.plot.bar()\n",
    "plt.show()"
   ]
  },
  {
   "cell_type": "code",
   "execution_count": 36,
   "metadata": {
    "colab": {
     "base_uri": "https://localhost:8080/",
     "height": 295
    },
    "colab_type": "code",
    "executionInfo": {
     "elapsed": 824,
     "status": "ok",
     "timestamp": 1590917325607,
     "user": {
      "displayName": "ENDY",
      "photoUrl": "https://lh3.googleusercontent.com/a-/AOh14GhweVQJI7BiE5TaPetwNnKNCwUO1mynGtoA5-pe4Q=s64",
      "userId": "14770815761046424264"
     },
     "user_tz": -180
    },
    "id": "royStgJX-hGZ",
    "outputId": "7c9ce8ed-299d-493b-930b-00df84dcda4c"
   },
   "outputs": [
    {
     "data": {
      "image/png": "[encoded data removed]",
      "text/plain": [
       "<Figure size 432x288 with 1 Axes>"
      ]
     },
     "metadata": {
      "needs_background": "light"
     },
     "output_type": "display_data"
    }
   ],
   "source": [
    "ser.plot(marker='o')\n",
    "plt.show()"
   ]
  },
  {
   "cell_type": "code",
   "execution_count": 31,
   "metadata": {
    "colab": {},
    "colab_type": "code",
    "id": "aJ8WqKqG6sUQ"
   },
   "outputs": [],
   "source": [
    "reach = dfs[['Дата','Значение']][dfs['Критерий_reach'] == 1]"
   ]
  },
  {
   "cell_type": "code",
   "execution_count": 32,
   "metadata": {
    "colab": {
     "base_uri": "https://localhost:8080/",
     "height": 204
    },
    "colab_type": "code",
    "executionInfo": {
     "elapsed": 823,
     "status": "ok",
     "timestamp": 1590918274651,
     "user": {
      "displayName": "ENDY",
      "photoUrl": "https://lh3.googleusercontent.com/a-/AOh14GhweVQJI7BiE5TaPetwNnKNCwUO1mynGtoA5-pe4Q=s64",
      "userId": "14770815761046424264"
     },
     "user_tz": -180
    },
    "id": "3Mdxn_4LCYkx",
    "outputId": "7b876756-3aab-45cd-fe44-78573b50752a"
   },
   "outputs": [
    {
     "data": {
      "text/html": [
       "<div>\n",
       "<style scoped>\n",
       "    .dataframe tbody tr th:only-of-type {\n",
       "        vertical-align: middle;\n",
       "    }\n",
       "\n",
       "    .dataframe tbody tr th {\n",
       "        vertical-align: top;\n",
       "    }\n",
       "\n",
       "    .dataframe thead th {\n",
       "        text-align: right;\n",
       "    }\n",
       "</style>\n",
       "<table border=\"1\" class=\"dataframe\">\n",
       "  <thead>\n",
       "    <tr style=\"text-align: right;\">\n",
       "      <th></th>\n",
       "      <th>Дата</th>\n",
       "      <th>Значение</th>\n",
       "    </tr>\n",
       "  </thead>\n",
       "  <tbody>\n",
       "    <tr>\n",
       "      <td>42453</td>\n",
       "      <td>2020-03-15</td>\n",
       "      <td>6</td>\n",
       "    </tr>\n",
       "    <tr>\n",
       "      <td>42456</td>\n",
       "      <td>2020-03-14</td>\n",
       "      <td>16</td>\n",
       "    </tr>\n",
       "    <tr>\n",
       "      <td>42459</td>\n",
       "      <td>2020-03-13</td>\n",
       "      <td>12</td>\n",
       "    </tr>\n",
       "    <tr>\n",
       "      <td>42462</td>\n",
       "      <td>2020-03-12</td>\n",
       "      <td>16</td>\n",
       "    </tr>\n",
       "    <tr>\n",
       "      <td>42465</td>\n",
       "      <td>2020-03-11</td>\n",
       "      <td>17</td>\n",
       "    </tr>\n",
       "  </tbody>\n",
       "</table>\n",
       "</div>"
      ],
      "text/plain": [
       "            Дата  Значение\n",
       "42453 2020-03-15         6\n",
       "42456 2020-03-14        16\n",
       "42459 2020-03-13        12\n",
       "42462 2020-03-12        16\n",
       "42465 2020-03-11        17"
      ]
     },
     "execution_count": 32,
     "metadata": {},
     "output_type": "execute_result"
    }
   ],
   "source": [
    "reach['Дата'] = reach.apply(convert, axis=1)\n",
    "reach.head()"
   ]
  },
  {
   "cell_type": "code",
   "execution_count": 33,
   "metadata": {
    "colab": {
     "base_uri": "https://localhost:8080/",
     "height": 204
    },
    "colab_type": "code",
    "executionInfo": {
     "elapsed": 374,
     "status": "ok",
     "timestamp": 1590918275540,
     "user": {
      "displayName": "ENDY",
      "photoUrl": "https://lh3.googleusercontent.com/a-/AOh14GhweVQJI7BiE5TaPetwNnKNCwUO1mynGtoA5-pe4Q=s64",
      "userId": "14770815761046424264"
     },
     "user_tz": -180
    },
    "id": "dSSsdzBAHS7n",
    "outputId": "b2561624-f283-48ac-8d38-e7eca0a405d6"
   },
   "outputs": [
    {
     "data": {
      "text/html": [
       "<div>\n",
       "<style scoped>\n",
       "    .dataframe tbody tr th:only-of-type {\n",
       "        vertical-align: middle;\n",
       "    }\n",
       "\n",
       "    .dataframe tbody tr th {\n",
       "        vertical-align: top;\n",
       "    }\n",
       "\n",
       "    .dataframe thead th {\n",
       "        text-align: right;\n",
       "    }\n",
       "</style>\n",
       "<table border=\"1\" class=\"dataframe\">\n",
       "  <thead>\n",
       "    <tr style=\"text-align: right;\">\n",
       "      <th></th>\n",
       "      <th>Дата</th>\n",
       "      <th>Значение</th>\n",
       "    </tr>\n",
       "  </thead>\n",
       "  <tbody>\n",
       "    <tr>\n",
       "      <td>42453</td>\n",
       "      <td>2020-03</td>\n",
       "      <td>6</td>\n",
       "    </tr>\n",
       "    <tr>\n",
       "      <td>42456</td>\n",
       "      <td>2020-03</td>\n",
       "      <td>16</td>\n",
       "    </tr>\n",
       "    <tr>\n",
       "      <td>42459</td>\n",
       "      <td>2020-03</td>\n",
       "      <td>12</td>\n",
       "    </tr>\n",
       "    <tr>\n",
       "      <td>42462</td>\n",
       "      <td>2020-03</td>\n",
       "      <td>16</td>\n",
       "    </tr>\n",
       "    <tr>\n",
       "      <td>42465</td>\n",
       "      <td>2020-03</td>\n",
       "      <td>17</td>\n",
       "    </tr>\n",
       "  </tbody>\n",
       "</table>\n",
       "</div>"
      ],
      "text/plain": [
       "          Дата  Значение\n",
       "42453  2020-03         6\n",
       "42456  2020-03        16\n",
       "42459  2020-03        12\n",
       "42462  2020-03        16\n",
       "42465  2020-03        17"
      ]
     },
     "execution_count": 33,
     "metadata": {},
     "output_type": "execute_result"
    }
   ],
   "source": [
    "reach['Дата'] = reach['Дата'].dt.strftime('%Y-%m') \n",
    "reach.head()"
   ]
  },
  {
   "cell_type": "code",
   "execution_count": 34,
   "metadata": {
    "colab": {},
    "colab_type": "code",
    "id": "jz_ujG4dHWu7"
   },
   "outputs": [],
   "source": [
    "month = reach.groupby(['Дата'])['Значение'].sum()"
   ]
  },
  {
   "cell_type": "code",
   "execution_count": 40,
   "metadata": {
    "colab": {
     "base_uri": "https://localhost:8080/",
     "height": 279
    },
    "colab_type": "code",
    "executionInfo": {
     "elapsed": 643,
     "status": "ok",
     "timestamp": 1590924412802,
     "user": {
      "displayName": "ENDY",
      "photoUrl": "https://lh3.googleusercontent.com/a-/AOh14GhweVQJI7BiE5TaPetwNnKNCwUO1mynGtoA5-pe4Q=s64",
      "userId": "14770815761046424264"
     },
     "user_tz": -180
    },
    "id": "rPkqXxq0HqX2",
    "outputId": "b1f8fb97-1d6d-4652-e947-92a9b96628f3"
   },
   "outputs": [
    {
     "data": {
      "image/png": "[encoded data removed]",
      "text/plain": [
       "<Figure size 432x288 with 1 Axes>"
      ]
     },
     "metadata": {
      "needs_background": "light"
     },
     "output_type": "display_data"
    }
   ],
   "source": [
    "month.plot()\n",
    "plt.show()"
   ]
  },
  {
   "cell_type": "code",
   "execution_count": 41,
   "metadata": {
    "colab": {},
    "colab_type": "code",
    "id": "d-Jj3DGbH3dr"
   },
   "outputs": [],
   "source": [
    "subs = dfs[['Дата','Значение']][dfs['Критерий_reach_subscribers'] == 1]"
   ]
  },
  {
   "cell_type": "code",
   "execution_count": 42,
   "metadata": {
    "colab": {
     "base_uri": "https://localhost:8080/",
     "height": 204
    },
    "colab_type": "code",
    "executionInfo": {
     "elapsed": 448,
     "status": "ok",
     "timestamp": 1590918553132,
     "user": {
      "displayName": "ENDY",
      "photoUrl": "https://lh3.googleusercontent.com/a-/AOh14GhweVQJI7BiE5TaPetwNnKNCwUO1mynGtoA5-pe4Q=s64",
      "userId": "14770815761046424264"
     },
     "user_tz": -180
    },
    "id": "sZM-ylF2IkYC",
    "outputId": "3e917041-41a2-444c-a7f8-06b7e14456e6"
   },
   "outputs": [
    {
     "data": {
      "text/html": [
       "<div>\n",
       "<style scoped>\n",
       "    .dataframe tbody tr th:only-of-type {\n",
       "        vertical-align: middle;\n",
       "    }\n",
       "\n",
       "    .dataframe tbody tr th {\n",
       "        vertical-align: top;\n",
       "    }\n",
       "\n",
       "    .dataframe thead th {\n",
       "        text-align: right;\n",
       "    }\n",
       "</style>\n",
       "<table border=\"1\" class=\"dataframe\">\n",
       "  <thead>\n",
       "    <tr style=\"text-align: right;\">\n",
       "      <th></th>\n",
       "      <th>Дата</th>\n",
       "      <th>Значение</th>\n",
       "    </tr>\n",
       "  </thead>\n",
       "  <tbody>\n",
       "    <tr>\n",
       "      <td>42454</td>\n",
       "      <td>2020-03-15</td>\n",
       "      <td>3</td>\n",
       "    </tr>\n",
       "    <tr>\n",
       "      <td>42457</td>\n",
       "      <td>2020-03-14</td>\n",
       "      <td>5</td>\n",
       "    </tr>\n",
       "    <tr>\n",
       "      <td>42460</td>\n",
       "      <td>2020-03-13</td>\n",
       "      <td>3</td>\n",
       "    </tr>\n",
       "    <tr>\n",
       "      <td>42463</td>\n",
       "      <td>2020-03-12</td>\n",
       "      <td>4</td>\n",
       "    </tr>\n",
       "    <tr>\n",
       "      <td>42466</td>\n",
       "      <td>2020-03-11</td>\n",
       "      <td>3</td>\n",
       "    </tr>\n",
       "  </tbody>\n",
       "</table>\n",
       "</div>"
      ],
      "text/plain": [
       "            Дата  Значение\n",
       "42454 2020-03-15         3\n",
       "42457 2020-03-14         5\n",
       "42460 2020-03-13         3\n",
       "42463 2020-03-12         4\n",
       "42466 2020-03-11         3"
      ]
     },
     "execution_count": 42,
     "metadata": {},
     "output_type": "execute_result"
    }
   ],
   "source": [
    "subs['Дата'] = subs.apply(convert, axis=1)\n",
    "subs.head()"
   ]
  },
  {
   "cell_type": "code",
   "execution_count": 43,
   "metadata": {
    "colab": {
     "base_uri": "https://localhost:8080/",
     "height": 204
    },
    "colab_type": "code",
    "executionInfo": {
     "elapsed": 723,
     "status": "ok",
     "timestamp": 1590918576300,
     "user": {
      "displayName": "ENDY",
      "photoUrl": "https://lh3.googleusercontent.com/a-/AOh14GhweVQJI7BiE5TaPetwNnKNCwUO1mynGtoA5-pe4Q=s64",
      "userId": "14770815761046424264"
     },
     "user_tz": -180
    },
    "id": "vGzPzT1XIpwb",
    "outputId": "06192288-da19-43fa-df52-cb07112c93e8"
   },
   "outputs": [
    {
     "data": {
      "text/html": [
       "<div>\n",
       "<style scoped>\n",
       "    .dataframe tbody tr th:only-of-type {\n",
       "        vertical-align: middle;\n",
       "    }\n",
       "\n",
       "    .dataframe tbody tr th {\n",
       "        vertical-align: top;\n",
       "    }\n",
       "\n",
       "    .dataframe thead th {\n",
       "        text-align: right;\n",
       "    }\n",
       "</style>\n",
       "<table border=\"1\" class=\"dataframe\">\n",
       "  <thead>\n",
       "    <tr style=\"text-align: right;\">\n",
       "      <th></th>\n",
       "      <th>Дата</th>\n",
       "      <th>Значение</th>\n",
       "    </tr>\n",
       "  </thead>\n",
       "  <tbody>\n",
       "    <tr>\n",
       "      <td>42454</td>\n",
       "      <td>2020-03</td>\n",
       "      <td>3</td>\n",
       "    </tr>\n",
       "    <tr>\n",
       "      <td>42457</td>\n",
       "      <td>2020-03</td>\n",
       "      <td>5</td>\n",
       "    </tr>\n",
       "    <tr>\n",
       "      <td>42460</td>\n",
       "      <td>2020-03</td>\n",
       "      <td>3</td>\n",
       "    </tr>\n",
       "    <tr>\n",
       "      <td>42463</td>\n",
       "      <td>2020-03</td>\n",
       "      <td>4</td>\n",
       "    </tr>\n",
       "    <tr>\n",
       "      <td>42466</td>\n",
       "      <td>2020-03</td>\n",
       "      <td>3</td>\n",
       "    </tr>\n",
       "  </tbody>\n",
       "</table>\n",
       "</div>"
      ],
      "text/plain": [
       "          Дата  Значение\n",
       "42454  2020-03         3\n",
       "42457  2020-03         5\n",
       "42460  2020-03         3\n",
       "42463  2020-03         4\n",
       "42466  2020-03         3"
      ]
     },
     "execution_count": 43,
     "metadata": {},
     "output_type": "execute_result"
    }
   ],
   "source": [
    "subs['Дата'] = subs['Дата'].dt.strftime('%Y-%m')\n",
    "subs.head()"
   ]
  },
  {
   "cell_type": "code",
   "execution_count": 44,
   "metadata": {
    "colab": {},
    "colab_type": "code",
    "id": "2C9uyLvpIteW"
   },
   "outputs": [],
   "source": [
    "subsMonth = subs.groupby(['Дата'])['Значение'].sum()"
   ]
  },
  {
   "cell_type": "code",
   "execution_count": 45,
   "metadata": {
    "colab": {
     "base_uri": "https://localhost:8080/",
     "height": 283
    },
    "colab_type": "code",
    "executionInfo": {
     "elapsed": 668,
     "status": "ok",
     "timestamp": 1590924541474,
     "user": {
      "displayName": "ENDY",
      "photoUrl": "https://lh3.googleusercontent.com/a-/AOh14GhweVQJI7BiE5TaPetwNnKNCwUO1mynGtoA5-pe4Q=s64",
      "userId": "14770815761046424264"
     },
     "user_tz": -180
    },
    "id": "F-dg-n00I3Eu",
    "outputId": "90529983-71e5-490d-ed52-9b7b1dd86235"
   },
   "outputs": [
    {
     "data": {
      "image/png": "[encoded data removed]",
      "text/plain": [
       "<Figure size 432x288 with 1 Axes>"
      ]
     },
     "metadata": {
      "needs_background": "light"
     },
     "output_type": "display_data"
    }
   ],
   "source": [
    "subsMonth.plot()\n",
    "plt.show()"
   ]
  },
  {
   "cell_type": "code",
   "execution_count": 46,
   "metadata": {
    "colab": {
     "base_uri": "https://localhost:8080/",
     "height": 204
    },
    "colab_type": "code",
    "executionInfo": {
     "elapsed": 1216,
     "status": "ok",
     "timestamp": 1590919426355,
     "user": {
      "displayName": "ENDY",
      "photoUrl": "https://lh3.googleusercontent.com/a-/AOh14GhweVQJI7BiE5TaPetwNnKNCwUO1mynGtoA5-pe4Q=s64",
      "userId": "14770815761046424264"
     },
     "user_tz": -180
    },
    "id": "FtU1TDJvLV3o",
    "outputId": "9711d178-ee97-47aa-8158-22f45e688e91"
   },
   "outputs": [
    {
     "data": {
      "text/html": [
       "<div>\n",
       "<style scoped>\n",
       "    .dataframe tbody tr th:only-of-type {\n",
       "        vertical-align: middle;\n",
       "    }\n",
       "\n",
       "    .dataframe tbody tr th {\n",
       "        vertical-align: top;\n",
       "    }\n",
       "\n",
       "    .dataframe thead th {\n",
       "        text-align: right;\n",
       "    }\n",
       "</style>\n",
       "<table border=\"1\" class=\"dataframe\">\n",
       "  <thead>\n",
       "    <tr style=\"text-align: right;\">\n",
       "      <th></th>\n",
       "      <th>Дата</th>\n",
       "      <th>Значение</th>\n",
       "      <th>Парам. №1</th>\n",
       "    </tr>\n",
       "  </thead>\n",
       "  <tbody>\n",
       "    <tr>\n",
       "      <td>2</td>\n",
       "      <td>15.03.2020</td>\n",
       "      <td>3</td>\n",
       "      <td>М</td>\n",
       "    </tr>\n",
       "    <tr>\n",
       "      <td>12</td>\n",
       "      <td>14.03.2020</td>\n",
       "      <td>1</td>\n",
       "      <td>Ж</td>\n",
       "    </tr>\n",
       "    <tr>\n",
       "      <td>13</td>\n",
       "      <td>14.03.2020</td>\n",
       "      <td>8</td>\n",
       "      <td>М</td>\n",
       "    </tr>\n",
       "    <tr>\n",
       "      <td>34</td>\n",
       "      <td>13.03.2020</td>\n",
       "      <td>1</td>\n",
       "      <td>Ж</td>\n",
       "    </tr>\n",
       "    <tr>\n",
       "      <td>35</td>\n",
       "      <td>13.03.2020</td>\n",
       "      <td>5</td>\n",
       "      <td>М</td>\n",
       "    </tr>\n",
       "  </tbody>\n",
       "</table>\n",
       "</div>"
      ],
      "text/plain": [
       "          Дата  Значение Парам. №1\n",
       "2   15.03.2020         3         М\n",
       "12  14.03.2020         1         Ж\n",
       "13  14.03.2020         8         М\n",
       "34  13.03.2020         1         Ж\n",
       "35  13.03.2020         5         М"
      ]
     },
     "execution_count": 46,
     "metadata": {},
     "output_type": "execute_result"
    }
   ],
   "source": [
    "gender = dfs[['Дата', 'Значение','Парам. №1']][dfs['Критерий_gender'] == 1]\n",
    "gender.head()"
   ]
  },
  {
   "cell_type": "code",
   "execution_count": 47,
   "metadata": {
    "colab": {
     "base_uri": "https://localhost:8080/",
     "height": 85
    },
    "colab_type": "code",
    "executionInfo": {
     "elapsed": 678,
     "status": "ok",
     "timestamp": 1590919517893,
     "user": {
      "displayName": "ENDY",
      "photoUrl": "https://lh3.googleusercontent.com/a-/AOh14GhweVQJI7BiE5TaPetwNnKNCwUO1mynGtoA5-pe4Q=s64",
      "userId": "14770815761046424264"
     },
     "user_tz": -180
    },
    "id": "n2WJ7wY5Lzvj",
    "outputId": "9327392b-3108-4e36-aa35-258ef24b476e"
   },
   "outputs": [
    {
     "data": {
      "text/plain": [
       "Парам. №1\n",
       "Ж    10063\n",
       "М    12637\n",
       "Name: Значение, dtype: int64"
      ]
     },
     "execution_count": 47,
     "metadata": {},
     "output_type": "execute_result"
    }
   ],
   "source": [
    "gs = gender.groupby(['Парам. №1'])['Значение'].sum()\n",
    "gs"
   ]
  },
  {
   "cell_type": "code",
   "execution_count": 48,
   "metadata": {
    "colab": {},
    "colab_type": "code",
    "id": "2fyviUrGM9X6"
   },
   "outputs": [],
   "source": [
    "allGenders = 10063 + 12637\n",
    "mGender = 'Мужчины: ' + str(round(12637 * 100 / allGenders)) + '%'\n",
    "gGender = 'Женщины: ' + str(round(10063 * 100 / allGenders)) + '%'"
   ]
  },
  {
   "cell_type": "code",
   "execution_count": 49,
   "metadata": {
    "colab": {
     "base_uri": "https://localhost:8080/",
     "height": 264
    },
    "colab_type": "code",
    "executionInfo": {
     "elapsed": 603,
     "status": "ok",
     "timestamp": 1590919969787,
     "user": {
      "displayName": "ENDY",
      "photoUrl": "https://lh3.googleusercontent.com/a-/AOh14GhweVQJI7BiE5TaPetwNnKNCwUO1mynGtoA5-pe4Q=s64",
      "userId": "14770815761046424264"
     },
     "user_tz": -180
    },
    "id": "k9E_8pTDMMXO",
    "outputId": "5332218c-dcfd-46ca-9025-13a4b94d6d75"
   },
   "outputs": [
    {
     "data": {
      "image/png": "[encoded data removed]",
      "text/plain": [
       "<Figure size 432x288 with 1 Axes>"
      ]
     },
     "metadata": {},
     "output_type": "display_data"
    }
   ],
   "source": [
    "gs.plot.pie(colors = ('r','b'))\n",
    "plt.show()"
   ]
  },
  {
   "cell_type": "code",
   "execution_count": 50,
   "metadata": {
    "colab": {
     "base_uri": "https://localhost:8080/",
     "height": 204
    },
    "colab_type": "code",
    "executionInfo": {
     "elapsed": 713,
     "status": "ok",
     "timestamp": 1590920595358,
     "user": {
      "displayName": "ENDY",
      "photoUrl": "https://lh3.googleusercontent.com/a-/AOh14GhweVQJI7BiE5TaPetwNnKNCwUO1mynGtoA5-pe4Q=s64",
      "userId": "14770815761046424264"
     },
     "user_tz": -180
    },
    "id": "n6kFLM2LPD5v",
    "outputId": "8d20adf5-e9ac-4f5e-9151-ac35ceb34a16"
   },
   "outputs": [
    {
     "data": {
      "text/html": [
       "<div>\n",
       "<style scoped>\n",
       "    .dataframe tbody tr th:only-of-type {\n",
       "        vertical-align: middle;\n",
       "    }\n",
       "\n",
       "    .dataframe tbody tr th {\n",
       "        vertical-align: top;\n",
       "    }\n",
       "\n",
       "    .dataframe thead th {\n",
       "        text-align: right;\n",
       "    }\n",
       "</style>\n",
       "<table border=\"1\" class=\"dataframe\">\n",
       "  <thead>\n",
       "    <tr style=\"text-align: right;\">\n",
       "      <th></th>\n",
       "      <th>Парам. №1</th>\n",
       "      <th>Значение</th>\n",
       "    </tr>\n",
       "  </thead>\n",
       "  <tbody>\n",
       "    <tr>\n",
       "      <td>3</td>\n",
       "      <td>24-27</td>\n",
       "      <td>1</td>\n",
       "    </tr>\n",
       "    <tr>\n",
       "      <td>4</td>\n",
       "      <td>30-35</td>\n",
       "      <td>2</td>\n",
       "    </tr>\n",
       "    <tr>\n",
       "      <td>14</td>\n",
       "      <td>24-27</td>\n",
       "      <td>1</td>\n",
       "    </tr>\n",
       "    <tr>\n",
       "      <td>15</td>\n",
       "      <td>27-30</td>\n",
       "      <td>4</td>\n",
       "    </tr>\n",
       "    <tr>\n",
       "      <td>16</td>\n",
       "      <td>30-35</td>\n",
       "      <td>1</td>\n",
       "    </tr>\n",
       "  </tbody>\n",
       "</table>\n",
       "</div>"
      ],
      "text/plain": [
       "   Парам. №1  Значение\n",
       "3      24-27         1\n",
       "4      30-35         2\n",
       "14     24-27         1\n",
       "15     27-30         4\n",
       "16     30-35         1"
      ]
     },
     "execution_count": 50,
     "metadata": {},
     "output_type": "execute_result"
    }
   ],
   "source": [
    "age = dfs[['Парам. №1', 'Значение']][dfs['Критерий_age'] == 1]\n",
    "age.head()"
   ]
  },
  {
   "cell_type": "code",
   "execution_count": 51,
   "metadata": {
    "colab": {
     "base_uri": "https://localhost:8080/",
     "height": 187
    },
    "colab_type": "code",
    "executionInfo": {
     "elapsed": 567,
     "status": "ok",
     "timestamp": 1590920642240,
     "user": {
      "displayName": "ENDY",
      "photoUrl": "https://lh3.googleusercontent.com/a-/AOh14GhweVQJI7BiE5TaPetwNnKNCwUO1mynGtoA5-pe4Q=s64",
      "userId": "14770815761046424264"
     },
     "user_tz": -180
    },
    "id": "-siXcVePQU27",
    "outputId": "b1ca25a6-98b8-41ab-a766-98b5b64450d0"
   },
   "outputs": [
    {
     "data": {
      "text/plain": [
       "Парам. №1\n",
       "1-18      741\n",
       "18-21    3046\n",
       "21-24    2560\n",
       "24-27    1751\n",
       "27-30    2419\n",
       "30-35    3466\n",
       "35-45    2402\n",
       "45+      2350\n",
       "Name: Значение, dtype: int64"
      ]
     },
     "execution_count": 51,
     "metadata": {},
     "output_type": "execute_result"
    }
   ],
   "source": [
    "agess = age.groupby(['Парам. №1'])['Значение'].sum()\n",
    "agess"
   ]
  },
  {
   "cell_type": "code",
   "execution_count": 52,
   "metadata": {
    "colab": {
     "base_uri": "https://localhost:8080/",
     "height": 314
    },
    "colab_type": "code",
    "executionInfo": {
     "elapsed": 789,
     "status": "ok",
     "timestamp": 1590921306200,
     "user": {
      "displayName": "ENDY",
      "photoUrl": "https://lh3.googleusercontent.com/a-/AOh14GhweVQJI7BiE5TaPetwNnKNCwUO1mynGtoA5-pe4Q=s64",
      "userId": "14770815761046424264"
     },
     "user_tz": -180
    },
    "id": "n9Xg1XKtQm2v",
    "outputId": "5a22597d-67e7-487c-acd4-0d7710dbdf10"
   },
   "outputs": [
    {
     "data": {
      "image/png": "[encoded data removed]",
      "text/plain": [
       "<Figure size 432x288 with 1 Axes>"
      ]
     },
     "metadata": {
      "needs_background": "light"
     },
     "output_type": "display_data"
    }
   ],
   "source": [
    "agess.plot.bar()\n",
    "plt.show()"
   ]
  },
  {
   "cell_type": "code",
   "execution_count": 53,
   "metadata": {
    "colab": {
     "base_uri": "https://localhost:8080/",
     "height": 204
    },
    "colab_type": "code",
    "executionInfo": {
     "elapsed": 649,
     "status": "ok",
     "timestamp": 1590921747430,
     "user": {
      "displayName": "ENDY",
      "photoUrl": "https://lh3.googleusercontent.com/a-/AOh14GhweVQJI7BiE5TaPetwNnKNCwUO1mynGtoA5-pe4Q=s64",
      "userId": "14770815761046424264"
     },
     "user_tz": -180
    },
    "id": "cUZs6fuLUcVJ",
    "outputId": "92b10dc9-b01c-4d77-b93c-0acad78d0e23"
   },
   "outputs": [
    {
     "data": {
      "text/html": [
       "<div>\n",
       "<style scoped>\n",
       "    .dataframe tbody tr th:only-of-type {\n",
       "        vertical-align: middle;\n",
       "    }\n",
       "\n",
       "    .dataframe tbody tr th {\n",
       "        vertical-align: top;\n",
       "    }\n",
       "\n",
       "    .dataframe thead th {\n",
       "        text-align: right;\n",
       "    }\n",
       "</style>\n",
       "<table border=\"1\" class=\"dataframe\">\n",
       "  <thead>\n",
       "    <tr style=\"text-align: right;\">\n",
       "      <th></th>\n",
       "      <th>Парам. №1</th>\n",
       "      <th>Значение</th>\n",
       "    </tr>\n",
       "  </thead>\n",
       "  <tbody>\n",
       "    <tr>\n",
       "      <td>9</td>\n",
       "      <td>Россия</td>\n",
       "      <td>3</td>\n",
       "    </tr>\n",
       "    <tr>\n",
       "      <td>27</td>\n",
       "      <td>Россия</td>\n",
       "      <td>8</td>\n",
       "    </tr>\n",
       "    <tr>\n",
       "      <td>28</td>\n",
       "      <td>Украина</td>\n",
       "      <td>1</td>\n",
       "    </tr>\n",
       "    <tr>\n",
       "      <td>29</td>\n",
       "      <td>Беларусь</td>\n",
       "      <td>1</td>\n",
       "    </tr>\n",
       "    <tr>\n",
       "      <td>45</td>\n",
       "      <td>Россия</td>\n",
       "      <td>5</td>\n",
       "    </tr>\n",
       "  </tbody>\n",
       "</table>\n",
       "</div>"
      ],
      "text/plain": [
       "   Парам. №1  Значение\n",
       "9     Россия         3\n",
       "27    Россия         8\n",
       "28   Украина         1\n",
       "29  Беларусь         1\n",
       "45    Россия         5"
      ]
     },
     "execution_count": 53,
     "metadata": {},
     "output_type": "execute_result"
    }
   ],
   "source": [
    "country = dfs[['Парам. №1','Значение']][dfs['Критерий_countries'] == 1]\n",
    "country.head()"
   ]
  },
  {
   "cell_type": "code",
   "execution_count": 54,
   "metadata": {
    "colab": {
     "base_uri": "https://localhost:8080/",
     "height": 238
    },
    "colab_type": "code",
    "executionInfo": {
     "elapsed": 726,
     "status": "ok",
     "timestamp": 1590922000206,
     "user": {
      "displayName": "ENDY",
      "photoUrl": "https://lh3.googleusercontent.com/a-/AOh14GhweVQJI7BiE5TaPetwNnKNCwUO1mynGtoA5-pe4Q=s64",
      "userId": "14770815761046424264"
     },
     "user_tz": -180
    },
    "id": "E-UMOI-XUtYa",
    "outputId": "51e3ec12-0e04-4f4a-8faf-8a9a179c2f17"
   },
   "outputs": [
    {
     "data": {
      "text/plain": [
       "Парам. №1\n",
       "Австралия                       1\n",
       "Австрия                         7\n",
       "Азербайджан                    19\n",
       "Аргентина                       1\n",
       "Армения                         8\n",
       "                               ..\n",
       "Шри-Ланка                       1\n",
       "Эстония                        28\n",
       "Южная Корея                     3\n",
       "Южно-Африканская Республика     1\n",
       "Япония                          2\n",
       "Name: Значение, Length: 70, dtype: int64"
      ]
     },
     "execution_count": 54,
     "metadata": {},
     "output_type": "execute_result"
    }
   ],
   "source": [
    "countryss = country.groupby(['Парам. №1'])['Значение'].sum()\n",
    "countryss"
   ]
  },
  {
   "cell_type": "code",
   "execution_count": 55,
   "metadata": {
    "colab": {
     "base_uri": "https://localhost:8080/",
     "height": 352
    },
    "colab_type": "code",
    "executionInfo": {
     "elapsed": 671,
     "status": "ok",
     "timestamp": 1590922040961,
     "user": {
      "displayName": "ENDY",
      "photoUrl": "https://lh3.googleusercontent.com/a-/AOh14GhweVQJI7BiE5TaPetwNnKNCwUO1mynGtoA5-pe4Q=s64",
      "userId": "14770815761046424264"
     },
     "user_tz": -180
    },
    "id": "TRNzjaAuU-h8",
    "outputId": "f85cad60-b4e5-40c1-94e6-18923b7079de"
   },
   "outputs": [
    {
     "data": {
      "image/png": "[encoded data removed]",
      "text/plain": [
       "<Figure size 432x288 with 1 Axes>"
      ]
     },
     "metadata": {
      "needs_background": "light"
     },
     "output_type": "display_data"
    }
   ],
   "source": [
    "countryss[countryss > 100].plot.bar()\n",
    "plt.show()"
   ]
  },
  {
   "cell_type": "code",
   "execution_count": 56,
   "metadata": {
    "colab": {
     "base_uri": "https://localhost:8080/",
     "height": 419
    },
    "colab_type": "code",
    "executionInfo": {
     "elapsed": 716,
     "status": "ok",
     "timestamp": 1590922785928,
     "user": {
      "displayName": "ENDY",
      "photoUrl": "https://lh3.googleusercontent.com/a-/AOh14GhweVQJI7BiE5TaPetwNnKNCwUO1mynGtoA5-pe4Q=s64",
      "userId": "14770815761046424264"
     },
     "user_tz": -180
    },
    "id": "X3CZ6V0lWrsF",
    "outputId": "e803c30d-1f85-4095-8c38-f2bd3b841981"
   },
   "outputs": [
    {
     "data": {
      "text/html": [
       "<div>\n",
       "<style scoped>\n",
       "    .dataframe tbody tr th:only-of-type {\n",
       "        vertical-align: middle;\n",
       "    }\n",
       "\n",
       "    .dataframe tbody tr th {\n",
       "        vertical-align: top;\n",
       "    }\n",
       "\n",
       "    .dataframe thead th {\n",
       "        text-align: right;\n",
       "    }\n",
       "</style>\n",
       "<table border=\"1\" class=\"dataframe\">\n",
       "  <thead>\n",
       "    <tr style=\"text-align: right;\">\n",
       "      <th></th>\n",
       "      <th>Дата</th>\n",
       "      <th>Парам. №1</th>\n",
       "      <th>Значение</th>\n",
       "    </tr>\n",
       "  </thead>\n",
       "  <tbody>\n",
       "    <tr>\n",
       "      <td>49</td>\n",
       "      <td>13.03.2020</td>\n",
       "      <td>Нравится</td>\n",
       "      <td>2</td>\n",
       "    </tr>\n",
       "    <tr>\n",
       "      <td>70</td>\n",
       "      <td>12.03.2020</td>\n",
       "      <td>Нравится</td>\n",
       "      <td>1</td>\n",
       "    </tr>\n",
       "    <tr>\n",
       "      <td>117</td>\n",
       "      <td>10.03.2020</td>\n",
       "      <td>Нравится</td>\n",
       "      <td>2</td>\n",
       "    </tr>\n",
       "    <tr>\n",
       "      <td>386</td>\n",
       "      <td>26.02.2020</td>\n",
       "      <td>Нравится</td>\n",
       "      <td>1</td>\n",
       "    </tr>\n",
       "    <tr>\n",
       "      <td>387</td>\n",
       "      <td>26.02.2020</td>\n",
       "      <td>Рассказали друзьям</td>\n",
       "      <td>1</td>\n",
       "    </tr>\n",
       "    <tr>\n",
       "      <td>...</td>\n",
       "      <td>...</td>\n",
       "      <td>...</td>\n",
       "      <td>...</td>\n",
       "    </tr>\n",
       "    <tr>\n",
       "      <td>42342</td>\n",
       "      <td>03.08.2016</td>\n",
       "      <td>Нравится</td>\n",
       "      <td>3</td>\n",
       "    </tr>\n",
       "    <tr>\n",
       "      <td>42394</td>\n",
       "      <td>02.08.2016</td>\n",
       "      <td>Нравится</td>\n",
       "      <td>1</td>\n",
       "    </tr>\n",
       "    <tr>\n",
       "      <td>42395</td>\n",
       "      <td>02.08.2016</td>\n",
       "      <td>Комментарии</td>\n",
       "      <td>1</td>\n",
       "    </tr>\n",
       "    <tr>\n",
       "      <td>42449</td>\n",
       "      <td>01.08.2016</td>\n",
       "      <td>Нравится</td>\n",
       "      <td>4</td>\n",
       "    </tr>\n",
       "    <tr>\n",
       "      <td>42450</td>\n",
       "      <td>01.08.2016</td>\n",
       "      <td>Рассказали друзьям</td>\n",
       "      <td>3</td>\n",
       "    </tr>\n",
       "  </tbody>\n",
       "</table>\n",
       "<p>1066 rows × 3 columns</p>\n",
       "</div>"
      ],
      "text/plain": [
       "             Дата           Парам. №1  Значение\n",
       "49     13.03.2020            Нравится         2\n",
       "70     12.03.2020            Нравится         1\n",
       "117    10.03.2020            Нравится         2\n",
       "386    26.02.2020            Нравится         1\n",
       "387    26.02.2020  Рассказали друзьям         1\n",
       "...           ...                 ...       ...\n",
       "42342  03.08.2016            Нравится         3\n",
       "42394  02.08.2016            Нравится         1\n",
       "42395  02.08.2016         Комментарии         1\n",
       "42449  01.08.2016            Нравится         4\n",
       "42450  01.08.2016  Рассказали друзьям         3\n",
       "\n",
       "[1066 rows x 3 columns]"
      ]
     },
     "execution_count": 56,
     "metadata": {},
     "output_type": "execute_result"
    }
   ],
   "source": [
    "fb = dfs[['Дата','Парам. №1','Значение']][dfs['Критерий_feedback'] == 1] \n",
    "fb"
   ]
  },
  {
   "cell_type": "code",
   "execution_count": 57,
   "metadata": {
    "colab": {
     "base_uri": "https://localhost:8080/",
     "height": 204
    },
    "colab_type": "code",
    "executionInfo": {
     "elapsed": 743,
     "status": "ok",
     "timestamp": 1590922787424,
     "user": {
      "displayName": "ENDY",
      "photoUrl": "https://lh3.googleusercontent.com/a-/AOh14GhweVQJI7BiE5TaPetwNnKNCwUO1mynGtoA5-pe4Q=s64",
      "userId": "14770815761046424264"
     },
     "user_tz": -180
    },
    "id": "oLL7sSh8YECk",
    "outputId": "10aca09c-3fcd-4a02-ba81-894cce714bee"
   },
   "outputs": [
    {
     "data": {
      "text/html": [
       "<div>\n",
       "<style scoped>\n",
       "    .dataframe tbody tr th:only-of-type {\n",
       "        vertical-align: middle;\n",
       "    }\n",
       "\n",
       "    .dataframe tbody tr th {\n",
       "        vertical-align: top;\n",
       "    }\n",
       "\n",
       "    .dataframe thead th {\n",
       "        text-align: right;\n",
       "    }\n",
       "</style>\n",
       "<table border=\"1\" class=\"dataframe\">\n",
       "  <thead>\n",
       "    <tr style=\"text-align: right;\">\n",
       "      <th></th>\n",
       "      <th>Дата</th>\n",
       "      <th>Парам. №1</th>\n",
       "      <th>Значение</th>\n",
       "    </tr>\n",
       "  </thead>\n",
       "  <tbody>\n",
       "    <tr>\n",
       "      <td>49</td>\n",
       "      <td>2020-03-13</td>\n",
       "      <td>Нравится</td>\n",
       "      <td>2</td>\n",
       "    </tr>\n",
       "    <tr>\n",
       "      <td>70</td>\n",
       "      <td>2020-03-12</td>\n",
       "      <td>Нравится</td>\n",
       "      <td>1</td>\n",
       "    </tr>\n",
       "    <tr>\n",
       "      <td>117</td>\n",
       "      <td>2020-03-10</td>\n",
       "      <td>Нравится</td>\n",
       "      <td>2</td>\n",
       "    </tr>\n",
       "    <tr>\n",
       "      <td>386</td>\n",
       "      <td>2020-02-26</td>\n",
       "      <td>Нравится</td>\n",
       "      <td>1</td>\n",
       "    </tr>\n",
       "    <tr>\n",
       "      <td>387</td>\n",
       "      <td>2020-02-26</td>\n",
       "      <td>Рассказали друзьям</td>\n",
       "      <td>1</td>\n",
       "    </tr>\n",
       "  </tbody>\n",
       "</table>\n",
       "</div>"
      ],
      "text/plain": [
       "          Дата           Парам. №1  Значение\n",
       "49  2020-03-13            Нравится         2\n",
       "70  2020-03-12            Нравится         1\n",
       "117 2020-03-10            Нравится         2\n",
       "386 2020-02-26            Нравится         1\n",
       "387 2020-02-26  Рассказали друзьям         1"
      ]
     },
     "execution_count": 57,
     "metadata": {},
     "output_type": "execute_result"
    }
   ],
   "source": [
    "fb['Дата'] = fb.apply(convert, axis=1)\n",
    "fb.head()"
   ]
  },
  {
   "cell_type": "code",
   "execution_count": 58,
   "metadata": {
    "colab": {
     "base_uri": "https://localhost:8080/",
     "height": 204
    },
    "colab_type": "code",
    "executionInfo": {
     "elapsed": 644,
     "status": "ok",
     "timestamp": 1590922788795,
     "user": {
      "displayName": "ENDY",
      "photoUrl": "https://lh3.googleusercontent.com/a-/AOh14GhweVQJI7BiE5TaPetwNnKNCwUO1mynGtoA5-pe4Q=s64",
      "userId": "14770815761046424264"
     },
     "user_tz": -180
    },
    "id": "p2BE03H3YZP8",
    "outputId": "1f4eacc5-0980-43a6-c723-5c0f3447ed10"
   },
   "outputs": [
    {
     "data": {
      "text/html": [
       "<div>\n",
       "<style scoped>\n",
       "    .dataframe tbody tr th:only-of-type {\n",
       "        vertical-align: middle;\n",
       "    }\n",
       "\n",
       "    .dataframe tbody tr th {\n",
       "        vertical-align: top;\n",
       "    }\n",
       "\n",
       "    .dataframe thead th {\n",
       "        text-align: right;\n",
       "    }\n",
       "</style>\n",
       "<table border=\"1\" class=\"dataframe\">\n",
       "  <thead>\n",
       "    <tr style=\"text-align: right;\">\n",
       "      <th></th>\n",
       "      <th>Дата</th>\n",
       "      <th>Парам. №1</th>\n",
       "      <th>Значение</th>\n",
       "    </tr>\n",
       "  </thead>\n",
       "  <tbody>\n",
       "    <tr>\n",
       "      <td>49</td>\n",
       "      <td>2020-03</td>\n",
       "      <td>Нравится</td>\n",
       "      <td>2</td>\n",
       "    </tr>\n",
       "    <tr>\n",
       "      <td>70</td>\n",
       "      <td>2020-03</td>\n",
       "      <td>Нравится</td>\n",
       "      <td>1</td>\n",
       "    </tr>\n",
       "    <tr>\n",
       "      <td>117</td>\n",
       "      <td>2020-03</td>\n",
       "      <td>Нравится</td>\n",
       "      <td>2</td>\n",
       "    </tr>\n",
       "    <tr>\n",
       "      <td>386</td>\n",
       "      <td>2020-02</td>\n",
       "      <td>Нравится</td>\n",
       "      <td>1</td>\n",
       "    </tr>\n",
       "    <tr>\n",
       "      <td>387</td>\n",
       "      <td>2020-02</td>\n",
       "      <td>Рассказали друзьям</td>\n",
       "      <td>1</td>\n",
       "    </tr>\n",
       "  </tbody>\n",
       "</table>\n",
       "</div>"
      ],
      "text/plain": [
       "        Дата           Парам. №1  Значение\n",
       "49   2020-03            Нравится         2\n",
       "70   2020-03            Нравится         1\n",
       "117  2020-03            Нравится         2\n",
       "386  2020-02            Нравится         1\n",
       "387  2020-02  Рассказали друзьям         1"
      ]
     },
     "execution_count": 58,
     "metadata": {},
     "output_type": "execute_result"
    }
   ],
   "source": [
    "fb['Дата'] = fb['Дата'].dt.strftime('%Y-%m')\n",
    "fb.head()"
   ]
  },
  {
   "cell_type": "code",
   "execution_count": 59,
   "metadata": {
    "colab": {
     "base_uri": "https://localhost:8080/",
     "height": 102
    },
    "colab_type": "code",
    "executionInfo": {
     "elapsed": 652,
     "status": "ok",
     "timestamp": 1590922861296,
     "user": {
      "displayName": "ENDY",
      "photoUrl": "https://lh3.googleusercontent.com/a-/AOh14GhweVQJI7BiE5TaPetwNnKNCwUO1mynGtoA5-pe4Q=s64",
      "userId": "14770815761046424264"
     },
     "user_tz": -180
    },
    "id": "DHxq6rINZAnd",
    "outputId": "77708aa9-29e3-46ad-e6d1-f72739c41a10"
   },
   "outputs": [
    {
     "data": {
      "text/plain": [
       "Нравится              683\n",
       "Рассказали друзьям    291\n",
       "Комментарии            91\n",
       "Упоминания              1\n",
       "Name: Парам. №1, dtype: int64"
      ]
     },
     "execution_count": 59,
     "metadata": {},
     "output_type": "execute_result"
    }
   ],
   "source": [
    "fb['Парам. №1'].value_counts()"
   ]
  },
  {
   "cell_type": "code",
   "execution_count": 60,
   "metadata": {
    "colab": {
     "base_uri": "https://localhost:8080/",
     "height": 204
    },
    "colab_type": "code",
    "executionInfo": {
     "elapsed": 719,
     "status": "ok",
     "timestamp": 1590923459008,
     "user": {
      "displayName": "ENDY",
      "photoUrl": "https://lh3.googleusercontent.com/a-/AOh14GhweVQJI7BiE5TaPetwNnKNCwUO1mynGtoA5-pe4Q=s64",
      "userId": "14770815761046424264"
     },
     "user_tz": -180
    },
    "id": "1GItmO7_YinR",
    "outputId": "c2356227-0c79-4517-8997-c1afb6aa7bf3"
   },
   "outputs": [
    {
     "data": {
      "text/html": [
       "<div>\n",
       "<style scoped>\n",
       "    .dataframe tbody tr th:only-of-type {\n",
       "        vertical-align: middle;\n",
       "    }\n",
       "\n",
       "    .dataframe tbody tr th {\n",
       "        vertical-align: top;\n",
       "    }\n",
       "\n",
       "    .dataframe thead th {\n",
       "        text-align: right;\n",
       "    }\n",
       "</style>\n",
       "<table border=\"1\" class=\"dataframe\">\n",
       "  <thead>\n",
       "    <tr style=\"text-align: right;\">\n",
       "      <th></th>\n",
       "      <th>Дата</th>\n",
       "      <th>Парам. №1</th>\n",
       "      <th>Значение</th>\n",
       "    </tr>\n",
       "  </thead>\n",
       "  <tbody>\n",
       "    <tr>\n",
       "      <td>49</td>\n",
       "      <td>2020-03</td>\n",
       "      <td>Нравится</td>\n",
       "      <td>2</td>\n",
       "    </tr>\n",
       "    <tr>\n",
       "      <td>70</td>\n",
       "      <td>2020-03</td>\n",
       "      <td>Нравится</td>\n",
       "      <td>1</td>\n",
       "    </tr>\n",
       "    <tr>\n",
       "      <td>117</td>\n",
       "      <td>2020-03</td>\n",
       "      <td>Нравится</td>\n",
       "      <td>2</td>\n",
       "    </tr>\n",
       "    <tr>\n",
       "      <td>386</td>\n",
       "      <td>2020-02</td>\n",
       "      <td>Нравится</td>\n",
       "      <td>1</td>\n",
       "    </tr>\n",
       "    <tr>\n",
       "      <td>387</td>\n",
       "      <td>2020-02</td>\n",
       "      <td>Рассказали друзьям</td>\n",
       "      <td>1</td>\n",
       "    </tr>\n",
       "  </tbody>\n",
       "</table>\n",
       "</div>"
      ],
      "text/plain": [
       "        Дата           Парам. №1  Значение\n",
       "49   2020-03            Нравится         2\n",
       "70   2020-03            Нравится         1\n",
       "117  2020-03            Нравится         2\n",
       "386  2020-02            Нравится         1\n",
       "387  2020-02  Рассказали друзьям         1"
      ]
     },
     "execution_count": 60,
     "metadata": {},
     "output_type": "execute_result"
    }
   ],
   "source": [
    "likes = fb[fb['Парам. №1'] == 'Нравится']\n",
    "fb.head()"
   ]
  },
  {
   "cell_type": "code",
   "execution_count": 61,
   "metadata": {
    "colab": {},
    "colab_type": "code",
    "id": "t0VE0H_fYnJ9"
   },
   "outputs": [],
   "source": [
    "likesss = likes.groupby(['Дата'])['Значение'].sum()"
   ]
  },
  {
   "cell_type": "code",
   "execution_count": 62,
   "metadata": {
    "colab": {
     "base_uri": "https://localhost:8080/",
     "height": 279
    },
    "colab_type": "code",
    "executionInfo": {
     "elapsed": 673,
     "status": "ok",
     "timestamp": 1590923462186,
     "user": {
      "displayName": "ENDY",
      "photoUrl": "https://lh3.googleusercontent.com/a-/AOh14GhweVQJI7BiE5TaPetwNnKNCwUO1mynGtoA5-pe4Q=s64",
      "userId": "14770815761046424264"
     },
     "user_tz": -180
    },
    "id": "ZsL7CEf_ZfER",
    "outputId": "79b4871c-da5b-43a9-98eb-38fca36286b3"
   },
   "outputs": [
    {
     "data": {
      "image/png": "[encoded data removed]",
      "text/plain": [
       "<Figure size 432x288 with 1 Axes>"
      ]
     },
     "metadata": {
      "needs_background": "light"
     },
     "output_type": "display_data"
    }
   ],
   "source": [
    "likesss.plot()\n",
    "plt.show()"
   ]
  },
  {
   "cell_type": "code",
   "execution_count": 64,
   "metadata": {
    "colab": {
     "base_uri": "https://localhost:8080/",
     "height": 204
    },
    "colab_type": "code",
    "executionInfo": {
     "elapsed": 689,
     "status": "ok",
     "timestamp": 1590923476111,
     "user": {
      "displayName": "ENDY",
      "photoUrl": "https://lh3.googleusercontent.com/a-/AOh14GhweVQJI7BiE5TaPetwNnKNCwUO1mynGtoA5-pe4Q=s64",
      "userId": "14770815761046424264"
     },
     "user_tz": -180
    },
    "id": "HaR0e3PtbKug",
    "outputId": "d3bfd39f-e135-44ee-89ab-c2c1f14a52ac"
   },
   "outputs": [
    {
     "data": {
      "text/html": [
       "<div>\n",
       "<style scoped>\n",
       "    .dataframe tbody tr th:only-of-type {\n",
       "        vertical-align: middle;\n",
       "    }\n",
       "\n",
       "    .dataframe tbody tr th {\n",
       "        vertical-align: top;\n",
       "    }\n",
       "\n",
       "    .dataframe thead th {\n",
       "        text-align: right;\n",
       "    }\n",
       "</style>\n",
       "<table border=\"1\" class=\"dataframe\">\n",
       "  <thead>\n",
       "    <tr style=\"text-align: right;\">\n",
       "      <th></th>\n",
       "      <th>Дата</th>\n",
       "      <th>Парам. №1</th>\n",
       "      <th>Значение</th>\n",
       "    </tr>\n",
       "  </thead>\n",
       "  <tbody>\n",
       "    <tr>\n",
       "      <td>387</td>\n",
       "      <td>2020-02</td>\n",
       "      <td>Рассказали друзьям</td>\n",
       "      <td>1</td>\n",
       "    </tr>\n",
       "    <tr>\n",
       "      <td>750</td>\n",
       "      <td>2020-02</td>\n",
       "      <td>Рассказали друзьям</td>\n",
       "      <td>1</td>\n",
       "    </tr>\n",
       "    <tr>\n",
       "      <td>1270</td>\n",
       "      <td>2020-01</td>\n",
       "      <td>Рассказали друзьям</td>\n",
       "      <td>1</td>\n",
       "    </tr>\n",
       "    <tr>\n",
       "      <td>1410</td>\n",
       "      <td>2020-01</td>\n",
       "      <td>Рассказали друзьям</td>\n",
       "      <td>3</td>\n",
       "    </tr>\n",
       "    <tr>\n",
       "      <td>1559</td>\n",
       "      <td>2020-01</td>\n",
       "      <td>Рассказали друзьям</td>\n",
       "      <td>1</td>\n",
       "    </tr>\n",
       "  </tbody>\n",
       "</table>\n",
       "</div>"
      ],
      "text/plain": [
       "         Дата           Парам. №1  Значение\n",
       "387   2020-02  Рассказали друзьям         1\n",
       "750   2020-02  Рассказали друзьям         1\n",
       "1270  2020-01  Рассказали друзьям         1\n",
       "1410  2020-01  Рассказали друзьям         3\n",
       "1559  2020-01  Рассказали друзьям         1"
      ]
     },
     "execution_count": 64,
     "metadata": {},
     "output_type": "execute_result"
    }
   ],
   "source": [
    "repost = fb[fb['Парам. №1'] == 'Рассказали друзьям']\n",
    "repost.head()"
   ]
  },
  {
   "cell_type": "code",
   "execution_count": 66,
   "metadata": {
    "colab": {},
    "colab_type": "code",
    "id": "x84KkpILbQay"
   },
   "outputs": [],
   "source": [
    "repostss = repost.groupby(['Дата'])['Значение'].sum()"
   ]
  },
  {
   "cell_type": "code",
   "execution_count": 67,
   "metadata": {
    "colab": {
     "base_uri": "https://localhost:8080/",
     "height": 279
    },
    "colab_type": "code",
    "executionInfo": {
     "elapsed": 603,
     "status": "ok",
     "timestamp": 1590923494136,
     "user": {
      "displayName": "ENDY",
      "photoUrl": "https://lh3.googleusercontent.com/a-/AOh14GhweVQJI7BiE5TaPetwNnKNCwUO1mynGtoA5-pe4Q=s64",
      "userId": "14770815761046424264"
     },
     "user_tz": -180
    },
    "id": "Uv-BYNHEbeYM",
    "outputId": "7dd136a3-deac-45c8-9f91-51ad5a8d217d"
   },
   "outputs": [
    {
     "data": {
      "image/png": "[encoded data removed]",
      "text/plain": [
       "<Figure size 432x288 with 1 Axes>"
      ]
     },
     "metadata": {
      "needs_background": "light"
     },
     "output_type": "display_data"
    }
   ],
   "source": [
    "repostss.plot()\n",
    "plt.show()"
   ]
  },
  {
   "cell_type": "code",
   "execution_count": 70,
   "metadata": {
    "colab": {
     "base_uri": "https://localhost:8080/",
     "height": 204
    },
    "colab_type": "code",
    "executionInfo": {
     "elapsed": 578,
     "status": "ok",
     "timestamp": 1590923563797,
     "user": {
      "displayName": "ENDY",
      "photoUrl": "https://lh3.googleusercontent.com/a-/AOh14GhweVQJI7BiE5TaPetwNnKNCwUO1mynGtoA5-pe4Q=s64",
      "userId": "14770815761046424264"
     },
     "user_tz": -180
    },
    "id": "2EUvY7bubsXX",
    "outputId": "6d58223f-bf08-4895-953e-d3fbb1be885f"
   },
   "outputs": [
    {
     "data": {
      "text/html": [
       "<div>\n",
       "<style scoped>\n",
       "    .dataframe tbody tr th:only-of-type {\n",
       "        vertical-align: middle;\n",
       "    }\n",
       "\n",
       "    .dataframe tbody tr th {\n",
       "        vertical-align: top;\n",
       "    }\n",
       "\n",
       "    .dataframe thead th {\n",
       "        text-align: right;\n",
       "    }\n",
       "</style>\n",
       "<table border=\"1\" class=\"dataframe\">\n",
       "  <thead>\n",
       "    <tr style=\"text-align: right;\">\n",
       "      <th></th>\n",
       "      <th>Дата</th>\n",
       "      <th>Парам. №1</th>\n",
       "      <th>Значение</th>\n",
       "    </tr>\n",
       "  </thead>\n",
       "  <tbody>\n",
       "    <tr>\n",
       "      <td>681</td>\n",
       "      <td>2020-02</td>\n",
       "      <td>Комментарии</td>\n",
       "      <td>1</td>\n",
       "    </tr>\n",
       "    <tr>\n",
       "      <td>989</td>\n",
       "      <td>2020-02</td>\n",
       "      <td>Комментарии</td>\n",
       "      <td>1</td>\n",
       "    </tr>\n",
       "    <tr>\n",
       "      <td>1015</td>\n",
       "      <td>2020-01</td>\n",
       "      <td>Комментарии</td>\n",
       "      <td>2</td>\n",
       "    </tr>\n",
       "    <tr>\n",
       "      <td>1064</td>\n",
       "      <td>2020-01</td>\n",
       "      <td>Комментарии</td>\n",
       "      <td>6</td>\n",
       "    </tr>\n",
       "    <tr>\n",
       "      <td>1246</td>\n",
       "      <td>2020-01</td>\n",
       "      <td>Комментарии</td>\n",
       "      <td>1</td>\n",
       "    </tr>\n",
       "  </tbody>\n",
       "</table>\n",
       "</div>"
      ],
      "text/plain": [
       "         Дата    Парам. №1  Значение\n",
       "681   2020-02  Комментарии         1\n",
       "989   2020-02  Комментарии         1\n",
       "1015  2020-01  Комментарии         2\n",
       "1064  2020-01  Комментарии         6\n",
       "1246  2020-01  Комментарии         1"
      ]
     },
     "execution_count": 70,
     "metadata": {},
     "output_type": "execute_result"
    }
   ],
   "source": [
    "сomments = fb[fb['Парам. №1'] == 'Комментарии']\n",
    "сomments.head()"
   ]
  },
  {
   "cell_type": "code",
   "execution_count": null,
   "metadata": {
    "colab": {},
    "colab_type": "code",
    "id": "IMoj7583bxCJ"
   },
   "outputs": [],
   "source": [
    "сommentsss = сomments.groupby(['Дата'])['Значение'].sum()"
   ]
  },
  {
   "cell_type": "code",
   "execution_count": 71,
   "metadata": {
    "colab": {
     "base_uri": "https://localhost:8080/",
     "height": 279
    },
    "colab_type": "code",
    "executionInfo": {
     "elapsed": 643,
     "status": "ok",
     "timestamp": 1590923599818,
     "user": {
      "displayName": "ENDY",
      "photoUrl": "https://lh3.googleusercontent.com/a-/AOh14GhweVQJI7BiE5TaPetwNnKNCwUO1mynGtoA5-pe4Q=s64",
      "userId": "14770815761046424264"
     },
     "user_tz": -180
    },
    "id": "_obWgd3vb15w",
    "outputId": "03b6820e-d261-498f-d533-3e47618c0f30"
   },
   "outputs": [
    {
     "data": {
      "image/png": "[encoded data removed]",
      "text/plain": [
       "<Figure size 432x288 with 1 Axes>"
      ]
     },
     "metadata": {
      "needs_background": "light"
     },
     "output_type": "display_data"
    }
   ],
   "source": [
    "сomments.plot()\n",
    "plt.show()"
   ]
  },
  {
   "cell_type": "code",
   "execution_count": 76,
   "metadata": {
    "colab": {
     "base_uri": "https://localhost:8080/",
     "height": 264
    },
    "colab_type": "code",
    "executionInfo": {
     "elapsed": 700,
     "status": "ok",
     "timestamp": 1590925124020,
     "user": {
      "displayName": "ENDY",
      "photoUrl": "https://lh3.googleusercontent.com/a-/AOh14GhweVQJI7BiE5TaPetwNnKNCwUO1mynGtoA5-pe4Q=s64",
      "userId": "14770815761046424264"
     },
     "user_tz": -180
    },
    "id": "TSPRdX2mgv_f",
    "outputId": "fc756242-ee03-4681-da58-11776ee40d7e"
   },
   "outputs": [
    {
     "data": {
      "image/png": "[encoded data removed]",
      "text/plain": [
       "<Figure size 432x288 with 1 Axes>"
      ]
     },
     "metadata": {},
     "output_type": "display_data"
    }
   ],
   "source": [
    "age['Парам. №1'].value_counts().plot.pie()\n",
    "plt.show()"
   ]
  },
  {
   "cell_type": "markdown",
   "metadata": {
    "colab_type": "text",
    "id": "1yY5-TZsh4Zr"
   },
   "source": [
    "**Ответ:** "
   ]
  }
 ],
 "metadata": {
  "colab": {
   "collapsed_sections": [
    "fyZNVNpK_2x8",
    "UnATMgGv99Sa",
    "gMvXMkLV-p04",
    "lHHjg2zz-uNf",
    "3HZ7HcqE-PjO",
    "LW8gFyRqH8Py",
    "kZAx8RVCIBZt",
    "EnER6HpUJFDY",
    "jhikbDuKLTtB",
    "u-h3878PLkAt",
    "kfrAxkyMOKAl",
    "eykeinllPBy_",
    "mQq29TjaUXhQ",
    "Ok5uOuWxWpYd",
    "kmbk_ws4aXT2",
    "GvKLiKcybH_k",
    "L9nP9ejvbobs",
    "9fQe7fgwcs0u",
    "Uz2XjVqAetqE"
   ],
   "name": "Анализ группы ВК.ipynb",
   "provenance": [
    {
     "file_id": "1Lx36u2fGwv8uW8cQlDr8rJ1ETbBeIRFC",
     "timestamp": 1590910816615
    },
    {
     "file_id": "1fd61MwmFWESxNwDG4-zeq9dX_qIAU31o",
     "timestamp": 1590483002983
    }
   ]
  },
  "kernelspec": {
   "display_name": "Python 3",
   "language": "python",
   "name": "python3"
  },
  "language_info": {
   "codemirror_mode": {
    "name": "ipython",
    "version": 3
   },
   "file_extension": ".py",
   "mimetype": "text/x-python",
   "name": "python",
   "nbconvert_exporter": "python",
   "pygments_lexer": "ipython3",
   "version": "3.7.4"
  }
 },
 "nbformat": 4,
 "nbformat_minor": 4
}
