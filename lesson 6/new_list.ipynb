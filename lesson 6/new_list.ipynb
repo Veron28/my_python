{
 "cells": [
  {
   "cell_type": "code",
   "execution_count": 15,
   "metadata": {},
   "outputs": [],
   "source": [
    "\"\"\"\n",
    "Напишите программный код, который будет создавать новый список,\n",
    "содержащий в качестве элементов квадратные корни всех чисел из списка [2, 4, 9, 16, 25]:\n",
    "\n",
    "\n",
    "1) на основе цикла for\n",
    "2) на основе функции map\n",
    "3) в виде генератора списка\n",
    "\"\"\"\n",
    "list_foundation = [2, 4, 9, 16, 25]\n",
    "list_for = []\n",
    "list_map = []\n",
    "list_generate = []"
   ]
  },
  {
   "cell_type": "code",
   "execution_count": 16,
   "metadata": {},
   "outputs": [
    {
     "name": "stdout",
     "output_type": "stream",
     "text": [
      "4 16 81 256 625\n"
     ]
    }
   ],
   "source": [
    "for i in (list_foundation):\n",
    "    list_for.append(i ** 2)\n",
    "print(*list_for)"
   ]
  },
  {
   "cell_type": "code",
   "execution_count": 17,
   "metadata": {},
   "outputs": [
    {
     "name": "stdout",
     "output_type": "stream",
     "text": [
      "4 16 81 256 625\n"
     ]
    }
   ],
   "source": [
    "def f(x):\n",
    "    return x ** 2\n",
    "list_map = list(map(f, list_foundation))\n",
    "print(*list_map)"
   ]
  },
  {
   "cell_type": "code",
   "execution_count": 19,
   "metadata": {},
   "outputs": [
    {
     "name": "stdout",
     "output_type": "stream",
     "text": [
      "4 16 81 256 625\n"
     ]
    }
   ],
   "source": [
    "list_generate =  [i ** 2 for i in list_foundation]\n",
    "print(*list_generate)"
   ]
  },
  {
   "cell_type": "code",
   "execution_count": null,
   "metadata": {},
   "outputs": [],
   "source": []
  }
 ],
 "metadata": {
  "kernelspec": {
   "display_name": "Python 3",
   "language": "python",
   "name": "python3"
  },
  "language_info": {
   "codemirror_mode": {
    "name": "ipython",
    "version": 3
   },
   "file_extension": ".py",
   "mimetype": "text/x-python",
   "name": "python",
   "nbconvert_exporter": "python",
   "pygments_lexer": "ipython3",
   "version": "3.7.4"
  }
 },
 "nbformat": 4,
 "nbformat_minor": 4
}
