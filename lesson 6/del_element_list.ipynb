{
 "cells": [
  {
   "cell_type": "code",
   "execution_count": 7,
   "metadata": {},
   "outputs": [
    {
     "name": "stdout",
     "output_type": "stream",
     "text": [
      "['John', 'Paul']\n"
     ]
    }
   ],
   "source": [
    "\"\"\"\n",
    "Отфильтровать список имен так, чтобы в нем остался только элемент 'John' или 'Paul'.\n",
    "\n",
    ">>> names = ['John', 'Paul', 'George', 'Ringo']\n",
    "\n",
    "\n",
    "В результате выполнения фильтрации список names будет содержать: \n",
    "['John', 'Paul']\n",
    "\"\"\"\n",
    "\n",
    "names = ['John', 'Paul', 'George', 'Ringo']\n",
    "k = 0\n",
    "while True:\n",
    "    if k < len(names):\n",
    "        if names[k] == 'John':\n",
    "            k += 1\n",
    "        if names[k] == 'Paul':\n",
    "            k += 1\n",
    "        del names[k]\n",
    "    else:\n",
    "        break\n",
    "print(names)"
   ]
  },
  {
   "cell_type": "code",
   "execution_count": null,
   "metadata": {},
   "outputs": [],
   "source": []
  }
 ],
 "metadata": {
  "kernelspec": {
   "display_name": "Python 3",
   "language": "python",
   "name": "python3"
  },
  "language_info": {
   "codemirror_mode": {
    "name": "ipython",
    "version": 3
   },
   "file_extension": ".py",
   "mimetype": "text/x-python",
   "name": "python",
   "nbconvert_exporter": "python",
   "pygments_lexer": "ipython3",
   "version": "3.7.4"
  }
 },
 "nbformat": 4,
 "nbformat_minor": 4
}
