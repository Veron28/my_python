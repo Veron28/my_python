{
 "cells": [
  {
   "cell_type": "code",
   "execution_count": 7,
   "metadata": {},
   "outputs": [
    {
     "name": "stdout",
     "output_type": "stream",
     "text": [
      "магический квадрат\n"
     ]
    }
   ],
   "source": [
    "\"\"\"\n",
    "Магический квадрат Ло Шу представляет собой таблицу с 3 строками и 3 столбцами. \n",
    "Магический квадрат Ло Шу имеет приведенные ниже свойства:\n",
    "таблица содержит числа строго от 1 до 9;\n",
    "сумма каждой строки, каждого столбца и каждой диагонали\n",
    "в итоге составляет одно и то же число (сумма по всем направлениям 15, сумма всех чисел в квадрате - 45).\n",
    "\n",
    "Проверьте, что произвольная матрица удовлетворяет этим свойствам.\n",
    "\"\"\"\n",
    "matrix = [[4, 9, 2], [3, 5, 7], [8, 1, 6]]\n",
    "k = sum(matrix[1])\n",
    "flag = 1\n",
    "for i in range(3):\n",
    "    if sum(matrix[i]) != k:\n",
    "        print(\"не магический квадрат\")\n",
    "        flag = 0\n",
    "        break\n",
    "    s = 0\n",
    "    for j in range(3):\n",
    "        s += matrix[j][1]\n",
    "    if s != k:\n",
    "        flag = 0\n",
    "        print(\"не магический квадрат\")\n",
    "        break\n",
    "    diag = 0\n",
    "    for j in range(3):\n",
    "        diag += matrix[j][j]\n",
    "    if diag != k:\n",
    "        print(\"не магический квадрат\")\n",
    "        flag = 0\n",
    "        break\n",
    "if flag == 1:\n",
    "    print(\"магический квадрат\")"
   ]
  },
  {
   "cell_type": "code",
   "execution_count": null,
   "metadata": {},
   "outputs": [],
   "source": []
  }
 ],
 "metadata": {
  "kernelspec": {
   "display_name": "Python 3",
   "language": "python",
   "name": "python3"
  },
  "language_info": {
   "codemirror_mode": {
    "name": "ipython",
    "version": 3
   },
   "file_extension": ".py",
   "mimetype": "text/x-python",
   "name": "python",
   "nbconvert_exporter": "python",
   "pygments_lexer": "ipython3",
   "version": "3.7.4"
  }
 },
 "nbformat": 4,
 "nbformat_minor": 4
}
