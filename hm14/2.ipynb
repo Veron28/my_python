{
 "cells": [
  {
   "cell_type": "markdown",
   "metadata": {
    "colab_type": "text",
    "id": "WL-Qhe2cFgjg"
   },
   "source": [
    "<a href=\"https://colab.research.google.com/github/dm-fedorov/pandas_basic/blob/master/%D0%A2%D0%B5%D0%BF%D0%BB%D0%B8%D1%86%D0%B0/3.%20%D0%9A%D0%B8%D0%BD%D0%BE%D0%BF%D0%BE%D0%B8%D1%81%D0%BA.ipynb\"><img align=\"left\" src=\"https://colab.research.google.com/assets/colab-badge.svg\" alt=\"Open in Colab\" title=\"Open and Execute in Google Colaboratory\" target=\"_blank\"></a>"
   ]
  },
  {
   "cell_type": "markdown",
   "metadata": {
    "colab_type": "text",
    "id": "I8uFVRLyFgjh"
   },
   "source": [
    "Источник: Кинопоиск 23.12.2018\n",
    "\n",
    "Данные собрал: [Андрей Дорожный](http://dorozhnij.com/)\n",
    "\n",
    "- `name` - название фильма\n",
    "- `country` - страна производства\n",
    "- `time` - продолжительность фильма, мин\n",
    "- `ranking` - балл на Кинопоиске\n",
    "- `type` - жанр\n",
    "- `year` - год выпуска\n",
    "- `director` - режиссер"
   ]
  },
  {
   "cell_type": "code",
   "execution_count": 1,
   "metadata": {
    "colab": {
     "base_uri": "https://localhost:8080/",
     "height": 419
    },
    "colab_type": "code",
    "executionInfo": {
     "elapsed": 917,
     "status": "ok",
     "timestamp": 1590230469909,
     "user": {
      "displayName": "ENDY",
      "photoUrl": "https://lh3.googleusercontent.com/a-/AOh14GhweVQJI7BiE5TaPetwNnKNCwUO1mynGtoA5-pe4Q=s64",
      "userId": "14770815761046424264"
     },
     "user_tz": -180
    },
    "id": "qKzwA6rWFgji",
    "outputId": "eb4f0a85-562d-4d22-99c0-a9866c445b85"
   },
   "outputs": [
    {
     "data": {
      "text/html": [
       "<div>\n",
       "<style scoped>\n",
       "    .dataframe tbody tr th:only-of-type {\n",
       "        vertical-align: middle;\n",
       "    }\n",
       "\n",
       "    .dataframe tbody tr th {\n",
       "        vertical-align: top;\n",
       "    }\n",
       "\n",
       "    .dataframe thead th {\n",
       "        text-align: right;\n",
       "    }\n",
       "</style>\n",
       "<table border=\"1\" class=\"dataframe\">\n",
       "  <thead>\n",
       "    <tr style=\"text-align: right;\">\n",
       "      <th></th>\n",
       "      <th>name</th>\n",
       "      <th>country</th>\n",
       "      <th>time</th>\n",
       "      <th>ranking</th>\n",
       "      <th>type</th>\n",
       "      <th>year</th>\n",
       "      <th>director</th>\n",
       "    </tr>\n",
       "  </thead>\n",
       "  <tbody>\n",
       "    <tr>\n",
       "      <td>0</td>\n",
       "      <td>Невеста</td>\n",
       "      <td>Россия</td>\n",
       "      <td>74</td>\n",
       "      <td>7,66</td>\n",
       "      <td>фильм</td>\n",
       "      <td>2006</td>\n",
       "      <td>Билли Уайлдер</td>\n",
       "    </tr>\n",
       "    <tr>\n",
       "      <td>1</td>\n",
       "      <td>Кто приходит в зимний вечер</td>\n",
       "      <td>Россия</td>\n",
       "      <td>90</td>\n",
       "      <td>6,038</td>\n",
       "      <td>фильм</td>\n",
       "      <td>2006</td>\n",
       "      <td>Билли Уайлдер</td>\n",
       "    </tr>\n",
       "    <tr>\n",
       "      <td>2</td>\n",
       "      <td>Моя мама Снегурочка</td>\n",
       "      <td>Россия</td>\n",
       "      <td>90</td>\n",
       "      <td>6,828</td>\n",
       "      <td>фильм</td>\n",
       "      <td>2007</td>\n",
       "      <td>Билли Уайлдер</td>\n",
       "    </tr>\n",
       "    <tr>\n",
       "      <td>3</td>\n",
       "      <td>Набережная Орфевр</td>\n",
       "      <td>Франция</td>\n",
       "      <td>106</td>\n",
       "      <td>7,597</td>\n",
       "      <td>фильм</td>\n",
       "      <td>1947</td>\n",
       "      <td>Билли Уайлдер</td>\n",
       "    </tr>\n",
       "    <tr>\n",
       "      <td>4</td>\n",
       "      <td>Лузер</td>\n",
       "      <td>Россия</td>\n",
       "      <td>104</td>\n",
       "      <td>6,065</td>\n",
       "      <td>фильм</td>\n",
       "      <td>2007</td>\n",
       "      <td>Билли Уайлдер</td>\n",
       "    </tr>\n",
       "    <tr>\n",
       "      <td>...</td>\n",
       "      <td>...</td>\n",
       "      <td>...</td>\n",
       "      <td>...</td>\n",
       "      <td>...</td>\n",
       "      <td>...</td>\n",
       "      <td>...</td>\n",
       "      <td>...</td>\n",
       "    </tr>\n",
       "    <tr>\n",
       "      <td>145</td>\n",
       "      <td>Карнавальная ночь</td>\n",
       "      <td>СССР</td>\n",
       "      <td>78</td>\n",
       "      <td>7,929</td>\n",
       "      <td>фильм</td>\n",
       "      <td>1956</td>\n",
       "      <td>NaN</td>\n",
       "    </tr>\n",
       "    <tr>\n",
       "      <td>146</td>\n",
       "      <td>Квартира</td>\n",
       "      <td>США</td>\n",
       "      <td>125</td>\n",
       "      <td>8,021</td>\n",
       "      <td>фильм</td>\n",
       "      <td>1960</td>\n",
       "      <td>NaN</td>\n",
       "    </tr>\n",
       "    <tr>\n",
       "      <td>147</td>\n",
       "      <td>Когда зажигаются елки</td>\n",
       "      <td>СССР</td>\n",
       "      <td>20</td>\n",
       "      <td>7,94</td>\n",
       "      <td>мультфильм</td>\n",
       "      <td>1950</td>\n",
       "      <td>NaN</td>\n",
       "    </tr>\n",
       "    <tr>\n",
       "      <td>148</td>\n",
       "      <td>Кошмар перед Рождеством</td>\n",
       "      <td>США</td>\n",
       "      <td>76</td>\n",
       "      <td>8,049</td>\n",
       "      <td>мультфильм</td>\n",
       "      <td>1993</td>\n",
       "      <td>NaN</td>\n",
       "    </tr>\n",
       "    <tr>\n",
       "      <td>149</td>\n",
       "      <td>Красавица и чудовище: Чудесное Рождество (видео)</td>\n",
       "      <td>США</td>\n",
       "      <td>72</td>\n",
       "      <td>6,814</td>\n",
       "      <td>мультфильм</td>\n",
       "      <td>1997</td>\n",
       "      <td>NaN</td>\n",
       "    </tr>\n",
       "  </tbody>\n",
       "</table>\n",
       "<p>150 rows × 7 columns</p>\n",
       "</div>"
      ],
      "text/plain": [
       "                                                 name  country  time ranking  \\\n",
       "0                                             Невеста   Россия    74    7,66   \n",
       "1                         Кто приходит в зимний вечер   Россия    90   6,038   \n",
       "2                                 Моя мама Снегурочка   Россия    90   6,828   \n",
       "3                                   Набережная Орфевр  Франция   106   7,597   \n",
       "4                                              Лузер    Россия   104   6,065   \n",
       "..                                                ...      ...   ...     ...   \n",
       "145                                 Карнавальная ночь     СССР    78   7,929   \n",
       "146                                          Квартира      США   125   8,021   \n",
       "147                             Когда зажигаются елки     СССР    20    7,94   \n",
       "148                           Кошмар перед Рождеством      США    76   8,049   \n",
       "149  Красавица и чудовище: Чудесное Рождество (видео)      США    72   6,814   \n",
       "\n",
       "           type  year       director  \n",
       "0         фильм  2006  Билли Уайлдер  \n",
       "1         фильм  2006  Билли Уайлдер  \n",
       "2         фильм  2007  Билли Уайлдер  \n",
       "3         фильм  1947  Билли Уайлдер  \n",
       "4         фильм  2007  Билли Уайлдер  \n",
       "..          ...   ...            ...  \n",
       "145       фильм  1956            NaN  \n",
       "146       фильм  1960            NaN  \n",
       "147  мультфильм  1950            NaN  \n",
       "148  мультфильм  1993            NaN  \n",
       "149  мультфильм  1997            NaN  \n",
       "\n",
       "[150 rows x 7 columns]"
      ]
     },
     "execution_count": 1,
     "metadata": {},
     "output_type": "execute_result"
    }
   ],
   "source": [
    "import pandas as pd\n",
    "\n",
    "url = \"https://raw.githubusercontent.com/dm-fedorov/pandas_basic/master/data/new_year_film.csv\"\n",
    "data = pd.read_csv(url)\n",
    "data"
   ]
  },
  {
   "cell_type": "markdown",
   "metadata": {
    "colab_type": "text",
    "id": "GmC6jxMqFgjn"
   },
   "source": [
    "### Задания"
   ]
  },
  {
   "cell_type": "markdown",
   "metadata": {
    "colab_type": "text",
    "id": "c40lifHUFgjo"
   },
   "source": [
    "Определите средний рейтинг фильмов, представленных в данных."
   ]
  },
  {
   "cell_type": "code",
   "execution_count": 5,
   "metadata": {
    "colab": {
     "base_uri": "https://localhost:8080/",
     "height": 34
    },
    "colab_type": "code",
    "executionInfo": {
     "elapsed": 687,
     "status": "ok",
     "timestamp": 1590230473980,
     "user": {
      "displayName": "ENDY",
      "photoUrl": "https://lh3.googleusercontent.com/a-/AOh14GhweVQJI7BiE5TaPetwNnKNCwUO1mynGtoA5-pe4Q=s64",
      "userId": "14770815761046424264"
     },
     "user_tz": -180
    },
    "id": "u5PtVFF2Fgjo",
    "outputId": "05dd73cb-6a9d-45ff-bb08-a58043ab5c35"
   },
   "outputs": [
    {
     "data": {
      "text/plain": [
       "7.217393333333333"
      ]
     },
     "execution_count": 5,
     "metadata": {},
     "output_type": "execute_result"
    }
   ],
   "source": [
    "data['ranking'].str.replace(',','.').astype(float).mean()"
   ]
  },
  {
   "cell_type": "code",
   "execution_count": null,
   "metadata": {},
   "outputs": [],
   "source": []
  }
 ],
 "metadata": {
  "colab": {
   "collapsed_sections": [],
   "name": "Кинопоиск (Часть 2).ipynb",
   "provenance": [
    {
     "file_id": "https://github.com/dm-fedorov/pandas_basic/blob/master/%D0%A2%D0%B5%D0%BF%D0%BB%D0%B8%D1%86%D0%B0/3.%20%D0%9A%D0%B8%D0%BD%D0%BE%D0%BF%D0%BE%D0%B8%D1%81%D0%BA.ipynb",
     "timestamp": 1590230038151
    }
   ]
  },
  "kernelspec": {
   "display_name": "Python 3",
   "language": "python",
   "name": "python3"
  },
  "language_info": {
   "codemirror_mode": {
    "name": "ipython",
    "version": 3
   },
   "file_extension": ".py",
   "mimetype": "text/x-python",
   "name": "python",
   "nbconvert_exporter": "python",
   "pygments_lexer": "ipython3",
   "version": "3.7.4"
  }
 },
 "nbformat": 4,
 "nbformat_minor": 4
}
