{
 "cells": [
  {
   "cell_type": "markdown",
   "metadata": {
    "colab_type": "text",
    "id": "RWkQLb-pJFWn"
   },
   "source": [
    "<a href=\"https://colab.research.google.com/github/dm-fedorov/pandas_basic/blob/master/%D0%A2%D0%B5%D0%BF%D0%BB%D0%B8%D1%86%D0%B0/4.%20%D0%94%D0%B5%D0%BF%D1%83%D1%82%D0%B0%D1%82%D1%8B.ipynb\"><img align=\"left\" src=\"https://colab.research.google.com/assets/colab-badge.svg\" alt=\"Open in Colab\" title=\"Open and Execute in Google Colaboratory\" target=\"_blank\"></a>"
   ]
  },
  {
   "cell_type": "code",
   "execution_count": 1,
   "metadata": {
    "colab": {
     "base_uri": "https://localhost:8080/",
     "height": 419
    },
    "colab_type": "code",
    "executionInfo": {
     "elapsed": 795,
     "status": "ok",
     "timestamp": 1590249223911,
     "user": {
      "displayName": "ENDY",
      "photoUrl": "https://lh3.googleusercontent.com/a-/AOh14GhweVQJI7BiE5TaPetwNnKNCwUO1mynGtoA5-pe4Q=s64",
      "userId": "14770815761046424264"
     },
     "user_tz": -180
    },
    "id": "RcmnQVOkJFWo",
    "outputId": "7b5aeae0-98f9-45f1-c08d-d932f7137928"
   },
   "outputs": [
    {
     "data": {
      "text/html": [
       "<div>\n",
       "<style scoped>\n",
       "    .dataframe tbody tr th:only-of-type {\n",
       "        vertical-align: middle;\n",
       "    }\n",
       "\n",
       "    .dataframe tbody tr th {\n",
       "        vertical-align: top;\n",
       "    }\n",
       "\n",
       "    .dataframe thead th {\n",
       "        text-align: right;\n",
       "    }\n",
       "</style>\n",
       "<table border=\"1\" class=\"dataframe\">\n",
       "  <thead>\n",
       "    <tr style=\"text-align: right;\">\n",
       "      <th></th>\n",
       "      <th>name</th>\n",
       "      <th>lastname</th>\n",
       "      <th>otchestvo</th>\n",
       "      <th>gender</th>\n",
       "      <th>birthdate</th>\n",
       "      <th>start</th>\n",
       "      <th>end</th>\n",
       "      <th>district</th>\n",
       "    </tr>\n",
       "  </thead>\n",
       "  <tbody>\n",
       "    <tr>\n",
       "      <td>0</td>\n",
       "      <td>Ефимов</td>\n",
       "      <td>Виталий</td>\n",
       "      <td>Борисович</td>\n",
       "      <td>м</td>\n",
       "      <td>04.04.1940</td>\n",
       "      <td>18.09.2016</td>\n",
       "      <td>NaN</td>\n",
       "      <td>Мордовский</td>\n",
       "    </tr>\n",
       "    <tr>\n",
       "      <td>1</td>\n",
       "      <td>Максимова</td>\n",
       "      <td>Надежда</td>\n",
       "      <td>Сергеевна</td>\n",
       "      <td>ж</td>\n",
       "      <td>13.01.1942</td>\n",
       "      <td>18.09.2016</td>\n",
       "      <td>NaN</td>\n",
       "      <td>Хакасский</td>\n",
       "    </tr>\n",
       "    <tr>\n",
       "      <td>2</td>\n",
       "      <td>Мищеряков</td>\n",
       "      <td>Юрий</td>\n",
       "      <td>Николаевич</td>\n",
       "      <td>м</td>\n",
       "      <td>01.01.1945</td>\n",
       "      <td>18.09.2016</td>\n",
       "      <td>NaN</td>\n",
       "      <td>Оренбургский</td>\n",
       "    </tr>\n",
       "    <tr>\n",
       "      <td>3</td>\n",
       "      <td>Борцов</td>\n",
       "      <td>Николай</td>\n",
       "      <td>Иванович</td>\n",
       "      <td>м</td>\n",
       "      <td>08.09.1945</td>\n",
       "      <td>18.09.2016</td>\n",
       "      <td>NaN</td>\n",
       "      <td>Липецкий</td>\n",
       "    </tr>\n",
       "    <tr>\n",
       "      <td>4</td>\n",
       "      <td>Гончар</td>\n",
       "      <td>Николай</td>\n",
       "      <td>Николаевич</td>\n",
       "      <td>м</td>\n",
       "      <td>18.10.1946</td>\n",
       "      <td>18.09.2016</td>\n",
       "      <td>NaN</td>\n",
       "      <td>Центральный</td>\n",
       "    </tr>\n",
       "    <tr>\n",
       "      <td>...</td>\n",
       "      <td>...</td>\n",
       "      <td>...</td>\n",
       "      <td>...</td>\n",
       "      <td>...</td>\n",
       "      <td>...</td>\n",
       "      <td>...</td>\n",
       "      <td>...</td>\n",
       "      <td>...</td>\n",
       "    </tr>\n",
       "    <tr>\n",
       "      <td>206</td>\n",
       "      <td>Федяев</td>\n",
       "      <td>Павел</td>\n",
       "      <td>Михайлович</td>\n",
       "      <td>м</td>\n",
       "      <td>31.07.1982</td>\n",
       "      <td>18.09.2016</td>\n",
       "      <td>NaN</td>\n",
       "      <td>Заводский</td>\n",
       "    </tr>\n",
       "    <tr>\n",
       "      <td>207</td>\n",
       "      <td>Романов</td>\n",
       "      <td>Михаил</td>\n",
       "      <td>Валентинович</td>\n",
       "      <td>м</td>\n",
       "      <td>03.11.1984</td>\n",
       "      <td>18.09.2016</td>\n",
       "      <td>NaN</td>\n",
       "      <td>Юго-Восточный</td>\n",
       "    </tr>\n",
       "    <tr>\n",
       "      <td>208</td>\n",
       "      <td>Грибов</td>\n",
       "      <td>Александр</td>\n",
       "      <td>Сергеевич</td>\n",
       "      <td>м</td>\n",
       "      <td>22.05.1986</td>\n",
       "      <td>18.09.2016</td>\n",
       "      <td>NaN</td>\n",
       "      <td>Ярославский</td>\n",
       "    </tr>\n",
       "    <tr>\n",
       "      <td>209</td>\n",
       "      <td>Прокопьев</td>\n",
       "      <td>Александр</td>\n",
       "      <td>Сергеевич</td>\n",
       "      <td>м</td>\n",
       "      <td>05.08.1986</td>\n",
       "      <td>18.09.2016</td>\n",
       "      <td>NaN</td>\n",
       "      <td>Бийский</td>\n",
       "    </tr>\n",
       "    <tr>\n",
       "      <td>210</td>\n",
       "      <td>Шипулин</td>\n",
       "      <td>Антон</td>\n",
       "      <td>Владимирович</td>\n",
       "      <td>м</td>\n",
       "      <td>21.08.1987</td>\n",
       "      <td>08.09.2019</td>\n",
       "      <td>NaN</td>\n",
       "      <td>Серовский</td>\n",
       "    </tr>\n",
       "  </tbody>\n",
       "</table>\n",
       "<p>211 rows × 8 columns</p>\n",
       "</div>"
      ],
      "text/plain": [
       "          name   lastname     otchestvo gender   birthdate       start  end  \\\n",
       "0       Ефимов    Виталий     Борисович      м  04.04.1940  18.09.2016  NaN   \n",
       "1    Максимова    Надежда     Сергеевна      ж  13.01.1942  18.09.2016  NaN   \n",
       "2    Мищеряков       Юрий    Николаевич      м  01.01.1945  18.09.2016  NaN   \n",
       "3       Борцов    Николай      Иванович      м  08.09.1945  18.09.2016  NaN   \n",
       "4       Гончар    Николай    Николаевич      м  18.10.1946  18.09.2016  NaN   \n",
       "..         ...        ...           ...    ...         ...         ...  ...   \n",
       "206     Федяев      Павел    Михайлович      м  31.07.1982  18.09.2016  NaN   \n",
       "207    Романов     Михаил  Валентинович      м  03.11.1984  18.09.2016  NaN   \n",
       "208     Грибов  Александр     Сергеевич      м  22.05.1986  18.09.2016  NaN   \n",
       "209  Прокопьев  Александр     Сергеевич      м  05.08.1986  18.09.2016  NaN   \n",
       "210    Шипулин      Антон  Владимирович      м  21.08.1987  08.09.2019  NaN   \n",
       "\n",
       "          district  \n",
       "0       Мордовский  \n",
       "1        Хакасский  \n",
       "2     Оренбургский  \n",
       "3         Липецкий  \n",
       "4      Центральный  \n",
       "..             ...  \n",
       "206      Заводский  \n",
       "207  Юго-Восточный  \n",
       "208    Ярославский  \n",
       "209        Бийский  \n",
       "210      Серовский  \n",
       "\n",
       "[211 rows x 8 columns]"
      ]
     },
     "execution_count": 1,
     "metadata": {},
     "output_type": "execute_result"
    }
   ],
   "source": [
    "import pandas as pd\n",
    "\n",
    "url = \"https://raw.githubusercontent.com/dm-fedorov/pandas_basic/master/data/deputat.csv\"\n",
    "df = pd.read_csv(url)\n",
    "df"
   ]
  },
  {
   "cell_type": "markdown",
   "metadata": {
    "colab_type": "text",
    "id": "wK00dBAtJFWu"
   },
   "source": [
    "### Задания"
   ]
  },
  {
   "cell_type": "markdown",
   "metadata": {
    "colab_type": "text",
    "id": "NJcvixtrJFWv"
   },
   "source": [
    "Определите средний возраст депутатов?"
   ]
  },
  {
   "cell_type": "code",
   "execution_count": 2,
   "metadata": {
    "colab": {},
    "colab_type": "code",
    "id": "FP2U2xEaJFWv"
   },
   "outputs": [],
   "source": [
    "from datetime import datetime, timedelta"
   ]
  },
  {
   "cell_type": "code",
   "execution_count": 5,
   "metadata": {
    "colab": {
     "base_uri": "https://localhost:8080/",
     "height": 419
    },
    "colab_type": "code",
    "executionInfo": {
     "elapsed": 1067,
     "status": "ok",
     "timestamp": 1590249224211,
     "user": {
      "displayName": "ENDY",
      "photoUrl": "https://lh3.googleusercontent.com/a-/AOh14GhweVQJI7BiE5TaPetwNnKNCwUO1mynGtoA5-pe4Q=s64",
      "userId": "14770815761046424264"
     },
     "user_tz": -180
    },
    "id": "9wDEKuZXKUKq",
    "outputId": "d72bba47-5cc2-48dc-a235-093b14e510fd"
   },
   "outputs": [
    {
     "data": {
      "text/plain": [
       "57"
      ]
     },
     "execution_count": 5,
     "metadata": {},
     "output_type": "execute_result"
    }
   ],
   "source": [
    "df['datetime_birthdate'] = df.apply(lambda row: datetime.strptime(row['birthdate'], '%d.%M.%Y'), axis = 1)\n",
    "df['age'] = df.apply(lambda row: pd.Timedelta(datetime.now() - row['datetime_birthdate']).days/365, axis = 1)\n",
    "round(df['age'].mean())"
   ]
  },
  {
   "cell_type": "markdown",
   "metadata": {
    "colab_type": "text",
    "id": "AmKtyuPYJFWz"
   },
   "source": [
    "Определите гендерное процентное соотношение состава депутатов"
   ]
  },
  {
   "cell_type": "code",
   "execution_count": 6,
   "metadata": {
    "colab": {
     "base_uri": "https://localhost:8080/",
     "height": 68
    },
    "colab_type": "code",
    "executionInfo": {
     "elapsed": 785,
     "status": "ok",
     "timestamp": 1590249306546,
     "user": {
      "displayName": "ENDY",
      "photoUrl": "https://lh3.googleusercontent.com/a-/AOh14GhweVQJI7BiE5TaPetwNnKNCwUO1mynGtoA5-pe4Q=s64",
      "userId": "14770815761046424264"
     },
     "user_tz": -180
    },
    "id": "LGlQuuhqJFWz",
    "outputId": "1fe69c20-f334-48cb-905a-09a5101f2165"
   },
   "outputs": [
    {
     "data": {
      "text/plain": [
       "м    179\n",
       "ж     32\n",
       "Name: gender, dtype: int64"
      ]
     },
     "execution_count": 6,
     "metadata": {},
     "output_type": "execute_result"
    }
   ],
   "source": [
    "df['gender'].value_counts()"
   ]
  },
  {
   "cell_type": "code",
   "execution_count": null,
   "metadata": {},
   "outputs": [],
   "source": []
  }
 ],
 "metadata": {
  "colab": {
   "collapsed_sections": [
    "wK00dBAtJFWu"
   ],
   "name": "Депутаты (Часть 5).ipynb",
   "provenance": [
    {
     "file_id": "https://github.com/dm-fedorov/pandas_basic/blob/master/%D0%A2%D0%B5%D0%BF%D0%BB%D0%B8%D1%86%D0%B0/4.%20%D0%94%D0%B5%D0%BF%D1%83%D1%82%D0%B0%D1%82%D1%8B.ipynb",
     "timestamp": 1590249170294
    }
   ]
  },
  "kernelspec": {
   "display_name": "Python 3",
   "language": "python",
   "name": "python3"
  },
  "language_info": {
   "codemirror_mode": {
    "name": "ipython",
    "version": 3
   },
   "file_extension": ".py",
   "mimetype": "text/x-python",
   "name": "python",
   "nbconvert_exporter": "python",
   "pygments_lexer": "ipython3",
   "version": "3.7.4"
  }
 },
 "nbformat": 4,
 "nbformat_minor": 4
}
