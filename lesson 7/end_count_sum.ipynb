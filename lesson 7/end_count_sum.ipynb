{
 "cells": [
  {
   "cell_type": "code",
   "execution_count": 2,
   "metadata": {},
   "outputs": [
    {
     "name": "stdin",
     "output_type": "stream",
     "text": [
      "Введите число 5\n",
      " 6ы\n",
      "Введите еще раз 6ы\n",
      "Введите еще раз ввввввввввввввввв\n",
      "Введите еще раз 6\n",
      " 4\n",
      " Стоп\n"
     ]
    },
    {
     "data": {
      "text/plain": [
       "15"
      ]
     },
     "execution_count": 2,
     "metadata": {},
     "output_type": "execute_result"
    }
   ],
   "source": [
    "\"\"\"\n",
    "Найти сумму чисел, вводимых с клавиатуры. Количество вводимых чисел заранее неизвестно. \n",
    "Окончание ввода - слово “Стоп”. При ошибке ввода попросить повторить ввод числа. \n",
    "\"\"\"\n",
    "k = input(\"Введите число\")\n",
    "s = 0\n",
    "if all(map(str.isdigit, k)):\n",
    "    while k != \"Стоп\":\n",
    "        if all(map(str.isdigit, k)):\n",
    "            s += int(k)\n",
    "            k = input()\n",
    "        else:\n",
    "            k = input(\"Введите еще раз\")\n",
    "        \n",
    "else:\n",
    "    k = input(\"Введите еще раз\")\n",
    "s"
   ]
  },
  {
   "cell_type": "code",
   "execution_count": null,
   "metadata": {},
   "outputs": [],
   "source": []
  }
 ],
 "metadata": {
  "kernelspec": {
   "display_name": "Python 3",
   "language": "python",
   "name": "python3"
  },
  "language_info": {
   "codemirror_mode": {
    "name": "ipython",
    "version": 3
   },
   "file_extension": ".py",
   "mimetype": "text/x-python",
   "name": "python",
   "nbconvert_exporter": "python",
   "pygments_lexer": "ipython3",
   "version": "3.7.4"
  }
 },
 "nbformat": 4,
 "nbformat_minor": 4
}
