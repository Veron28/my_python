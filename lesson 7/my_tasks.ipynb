{
 "cells": [
  {
   "cell_type": "code",
   "execution_count": 4,
   "metadata": {},
   "outputs": [
    {
     "name": "stdin",
     "output_type": "stream",
     "text": [
      "1. Добавить задачу.    2. Вывести список задач.    3. Выход.        Укажите число:  1\n",
      "Сформулируйте задачу: купить хлеб\n",
      "Добавьте категорию к задаче: купить\n",
      "Добавьте время к задаче: сегодны\n",
      "1. Добавить задачу.    2. Вывести список задач.    3. Выход.        Укажите число:  1\n",
      "Сформулируйте задачу: купить масло\n",
      "Добавьте категорию к задаче: купить\n",
      "Добавьте время к задаче: завтра\n",
      "1. Добавить задачу.    2. Вывести список задач.    3. Выход.        Укажите число:  2\n"
     ]
    },
    {
     "name": "stdout",
     "output_type": "stream",
     "text": [
      "Задача:  купить хлеб   Категория:  купить   Дата: сегодны\n",
      "Задача:  купить масло   Категория:  купить   Дата: завтра\n"
     ]
    },
    {
     "name": "stdin",
     "output_type": "stream",
     "text": [
      "1. Добавить задачу.    2. Вывести список задач.    3. Выход.        Укажите число:  3\n"
     ]
    }
   ],
   "source": [
    "ans_mas = []\n",
    "k = -1\n",
    "while k != 3:\n",
    "    k = int(input(\"1. Добавить задачу.\\\n",
    "    2. Вывести список задач.\\\n",
    "    3. Выход.\\\n",
    "    \\\n",
    "    Укажите число: \"))\n",
    "    if k != 3:\n",
    "        if k == 1:\n",
    "            a1 = str(input(\"Сформулируйте задачу:\"))\n",
    "            a2 = str(input(\"Добавьте категорию к задаче:\"))\n",
    "            a3 = str(input(\"Добавьте время к задаче:\"))\n",
    "            ans_mas.append(\"Задача:  \" + a1 + \"   Категория:  \" + a2 + \"   Дата: \" + a3)\n",
    "        if k == 2:\n",
    "            for i in ans_mas:\n",
    "                print(i)\n"
   ]
  },
  {
   "cell_type": "code",
   "execution_count": null,
   "metadata": {},
   "outputs": [],
   "source": []
  }
 ],
 "metadata": {
  "kernelspec": {
   "display_name": "Python 3",
   "language": "python",
   "name": "python3"
  },
  "language_info": {
   "codemirror_mode": {
    "name": "ipython",
    "version": 3
   },
   "file_extension": ".py",
   "mimetype": "text/x-python",
   "name": "python",
   "nbconvert_exporter": "python",
   "pygments_lexer": "ipython3",
   "version": "3.7.4"
  }
 },
 "nbformat": 4,
 "nbformat_minor": 4
}
