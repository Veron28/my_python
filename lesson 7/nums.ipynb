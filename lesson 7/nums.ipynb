{
 "cells": [
  {
   "cell_type": "code",
   "execution_count": 13,
   "metadata": {},
   "outputs": [
    {
     "name": "stdout",
     "output_type": "stream",
     "text": [
      "3.1604 3.162 3.1459 1706 1737\n",
      "5\n",
      "3452.4683\n",
      "1737.0\n"
     ]
    }
   ],
   "source": [
    "\"\"\"\n",
    "Напечатать все имеющиеся в тексте числа, определить их количество, сумму и найти максимальное.\n",
    "all(map(str.isdigit, i))\n",
    "\"\"\"\n",
    "s = '''В разные эпохи и у разных народов число Пи имело разное значение. \n",
    "Например, в Древнем Египте оно равнялось 3.1604 у индусов оно приобрело значение\n",
    "3.162 китайцы пользовались числом, равным 3.1459 Буквенное обозначение число Пи \n",
    "получило только в 1706 году – оно происходит от начальных букв двух греческих слов,\n",
    "означающих окружность и периметр. Буквой π число наделил математик Джонс, \n",
    "а прочно вошла в математику она уже в 1737 году.'''\n",
    "s = s.split()\n",
    "kolvo = 0\n",
    "summ = 0\n",
    "maxx = -1000000\n",
    "ans_mass = []\n",
    "for i in s:\n",
    "    if i.replace(\".\", \"\", 1).isdigit():\n",
    "        ans_mass.append(i)\n",
    "        kolvo += 1 \n",
    "        summ += float(i)\n",
    "        maxx = max(maxx, float(i))\n",
    "print(*ans_mass)\n",
    "print(kolvo)\n",
    "print(summ)\n",
    "print(maxx)"
   ]
  },
  {
   "cell_type": "code",
   "execution_count": null,
   "metadata": {},
   "outputs": [],
   "source": []
  }
 ],
 "metadata": {
  "kernelspec": {
   "display_name": "Python 3",
   "language": "python",
   "name": "python3"
  },
  "language_info": {
   "codemirror_mode": {
    "name": "ipython",
    "version": 3
   },
   "file_extension": ".py",
   "mimetype": "text/x-python",
   "name": "python",
   "nbconvert_exporter": "python",
   "pygments_lexer": "ipython3",
   "version": "3.7.4"
  }
 },
 "nbformat": 4,
 "nbformat_minor": 4
}
