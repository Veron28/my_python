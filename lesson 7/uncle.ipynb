{
 "cells": [
  {
   "cell_type": "code",
   "execution_count": 21,
   "metadata": {},
   "outputs": [
    {
     "name": "stdout",
     "output_type": "stream",
     "text": [
      "Мой дядя самых честных правил, Когда не в шутку занемог, Он уважать сея заставил И лучше выдумать не\n"
     ]
    }
   ],
   "source": [
    "s = \"Мой дядя самых честных правил, \\\n",
    "Когда не в шутку занемог, \\\n",
    "Он уважать сея заставил \\\n",
    "И лучше выдумать не мог\"\n",
    "s = s.split()\n",
    "for i in range(len(s)):\n",
    "    if i <= len(s):\n",
    "        if s[i][0] == \"м\":\n",
    "            s.pop(i)\n",
    "    else:\n",
    "        break\n",
    "print(*s)   "
   ]
  },
  {
   "cell_type": "code",
   "execution_count": null,
   "metadata": {},
   "outputs": [],
   "source": []
  }
 ],
 "metadata": {
  "kernelspec": {
   "display_name": "Python 3",
   "language": "python",
   "name": "python3"
  },
  "language_info": {
   "codemirror_mode": {
    "name": "ipython",
    "version": 3
   },
   "file_extension": ".py",
   "mimetype": "text/x-python",
   "name": "python",
   "nbconvert_exporter": "python",
   "pygments_lexer": "ipython3",
   "version": "3.7.4"
  }
 },
 "nbformat": 4,
 "nbformat_minor": 4
}
