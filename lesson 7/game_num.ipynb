{
 "cells": [
  {
   "cell_type": "code",
   "execution_count": 8,
   "metadata": {},
   "outputs": [
    {
     "name": "stdin",
     "output_type": "stream",
     "text": [
      "Попробуй угадать 5\n"
     ]
    },
    {
     "name": "stdout",
     "output_type": "stream",
     "text": [
      "Число угадано\n"
     ]
    }
   ],
   "source": [
    "\"\"\"\n",
    "Напишите программу-игру. Компьютер загадывает случайное число, пользователь пытается его угадать. \n",
    "Пользователь вводит число несколько раз (количество попыток ограничено и указывается в программе), \n",
    "пока не угадает или не введёт слово Выход. \n",
    "Компьютер сравнивает число с введенным и сообщает пользователю больше оно или меньше загаданного.\n",
    "\"\"\"\n",
    "import random\n",
    "\n",
    "numm = random.randint(1, 10)\n",
    "k1 = input(\"Попробуй угадать\")\n",
    "k2 = -1\n",
    "flag = 0\n",
    "while k1 != \"Выход\":\n",
    "    if int(k1) == numm:\n",
    "        print(\"Число угадано\")\n",
    "        flag = 1\n",
    "        break\n",
    "    k2 = int(k1)\n",
    "    k1 = input(\"Попробуй угадать еще раз\")\n",
    "if flag == 0:\n",
    "    if k2 > numm:\n",
    "        print(\"Больше\")\n",
    "    else:\n",
    "        print(\"Меньше\")"
   ]
  },
  {
   "cell_type": "code",
   "execution_count": 10,
   "metadata": {},
   "outputs": [],
   "source": [
    "#Изобразите алгоритм работы программы в виде блок-схемы на языке ДРАКОН (3 балла).\n",
    "#https://drakonhub.com/ide/doc/veron_28/2"
   ]
  }
 ],
 "metadata": {
  "kernelspec": {
   "display_name": "Python 3",
   "language": "python",
   "name": "python3"
  },
  "language_info": {
   "codemirror_mode": {
    "name": "ipython",
    "version": 3
   },
   "file_extension": ".py",
   "mimetype": "text/x-python",
   "name": "python",
   "nbconvert_exporter": "python",
   "pygments_lexer": "ipython3",
   "version": "3.7.4"
  }
 },
 "nbformat": 4,
 "nbformat_minor": 4
}
