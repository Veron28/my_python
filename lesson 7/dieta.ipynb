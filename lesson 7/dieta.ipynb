{
 "cells": [
  {
   "cell_type": "code",
   "execution_count": 5,
   "metadata": {},
   "outputs": [
    {
     "name": "stdin",
     "output_type": "stream",
     "text": [
      "Ваш вес 60\n"
     ]
    },
    {
     "name": "stdout",
     "output_type": "stream",
     "text": [
      "1 месяц диеты: 58.5кг\n",
      "2 месяц диеты: 57.0кг\n",
      "3 месяц диеты: 55.5кг\n",
      "4 месяц диеты: 54.0кг\n",
      "5 месяц диеты: 52.5кг\n",
      "6 месяц диеты: 51.0кг\n"
     ]
    }
   ],
   "source": [
    "mass = float(input(\"Ваш вес\"))\n",
    "\n",
    "for i in range(1, 7):\n",
    "    print(str(i) + \" месяц диеты: \" + str(mass - (1.5 * i)) + \"кг\")"
   ]
  },
  {
   "cell_type": "code",
   "execution_count": null,
   "metadata": {},
   "outputs": [],
   "source": []
  }
 ],
 "metadata": {
  "kernelspec": {
   "display_name": "Python 3",
   "language": "python",
   "name": "python3"
  },
  "language_info": {
   "codemirror_mode": {
    "name": "ipython",
    "version": 3
   },
   "file_extension": ".py",
   "mimetype": "text/x-python",
   "name": "python",
   "nbconvert_exporter": "python",
   "pygments_lexer": "ipython3",
   "version": "3.7.4"
  }
 },
 "nbformat": 4,
 "nbformat_minor": 4
}
